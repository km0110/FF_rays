{
 "cells": [
  {
   "cell_type": "code",
   "execution_count": 2,
   "metadata": {},
   "outputs": [],
   "source": [
    "import numpy as np\n",
    "import time\n",
    "from scipy.interpolate import CubicSpline\n",
    "import matplotlib.pyplot as plt\n",
    "import os\n",
    "font = {'family' : 'normal',\n",
    "        'size'   : 15}\n",
    "\n",
    "plt.rc('font', **font)"
   ]
  },
  {
   "cell_type": "code",
   "execution_count": 3,
   "metadata": {
    "tags": []
   },
   "outputs": [],
   "source": [
    "def create_starting_optic(r,R,k=-1,N=100):\n",
    "    r=np.linspace(0,r,N) #solves the problem of not having enough points close to the origin\n",
    "    z=r*r/(R+np.sqrt(R*R-(k+1)*r*r))\n",
    "    optic=np.array([r,z])\n",
    "    return optic"
   ]
  },
  {
   "cell_type": "code",
   "execution_count": 4,
   "metadata": {},
   "outputs": [],
   "source": [
    "def find_local_eq(h,optic,N=100):\n",
    "    # first find nearest point in the lens array to where the ray r intersects\n",
    "    r=optic[0]\n",
    "    z=optic[1]\n",
    "    index=np.abs(r-h).argmin()\n",
    "    \n",
    "    # isolate a few points around the closest index (look into how many points we actually want)\n",
    "    lower=index-3 if index-3>0 else 0 # set the boundary conditions...\n",
    "    upper=index+3\n",
    "    \n",
    "    \n",
    "    local_r=np.array(r[lower:upper])-h\n",
    "    local_z=np.array(z[lower:upper])\n",
    "    \n",
    "    # Use cubic spline to interpolate the local points\n",
    "    # need to switch the z and the r coordinates so that cubic spline won't give error\n",
    "    cs=None\n",
    "    try:\n",
    "        cs=CubicSpline(local_r,local_z)\n",
    "    except:\n",
    "        print(local_opt)\n",
    "        print(lower)\n",
    "        print(upper)\n",
    "    #zs=np.linspace(local_z[0],local_z[-1],N) \n",
    "    return cs"
   ]
  },
  {
   "cell_type": "code",
   "execution_count": 5,
   "metadata": {},
   "outputs": [],
   "source": [
    "def find_reflect_slope(norm):\n",
    "    theta=np.arctan(norm)\n",
    "    slope=np.tan(2*theta)\n",
    "    return slope"
   ]
  },
  {
   "cell_type": "code",
   "execution_count": 5,
   "metadata": {},
   "outputs": [],
   "source": [
    "def raytrace(optic, exp_f, Nr=7, linsp=True):\n",
    "    #create the starting rays\n",
    "    r=optic[0]\n",
    "    # make sure that the rays are bounded \n",
    "    r_max=r[-1]\n",
    "    \n",
    "    rays=np.linspace(0,r_max,Nr) if linsp else np.geomspace(1e-9,r_max,Nr) #confine the rays to the diameter of the optic\n",
    "    #rays[rays==0]=1e-9 # if r=0 exists set to small value so we don't get infinity values\n",
    "    raymatrix=[] # 3 points: before, at, after the optic\n",
    "    after=[]\n",
    "    for h in rays:\n",
    "        cs=find_local_eq(h,optic)\n",
    "        z_optic=cs(0)        \n",
    "        norm=1/cs(0,1) #The normal is just the derivative \n",
    "        slope=find_reflect_slope(norm)\n",
    "        r_after=slope*(exp_f-z_optic)+h # This is where the ray meets z=exp_f\n",
    "        ray_z=[z_optic,exp_f]\n",
    "        ray_r=[h,r_after]            \n",
    "        raymatrix.append([ray_r,ray_z])\n",
    "        after.append(r_after)\n",
    "        #np.concatenate(raymatrix)\n",
    "    return np.array(raymatrix),np.array(after)"
   ]
  },
  {
   "cell_type": "code",
   "execution_count": 6,
   "metadata": {},
   "outputs": [],
   "source": [
    "def plot(optic,raymatrix,exp_f,title=None, lambda0=None, norm=False,savefig=False):\n",
    "    #first plot the optic:\n",
    "    plt.figure(figsize=(15,10))\n",
    "    opt_r=optic[0] if not norm else optic[0]/lambda0\n",
    "    opt_z=optic[1] if not norm else optic[1]/lambda0\n",
    "    plt.plot(opt_z,opt_r,'b',opt_z,-1*opt_r,'b')\n",
    "    exp_freq=exp_f if not norm else exp_f/lambda0\n",
    "    plt.axvline(x=exp_freq, color='k', linestyle='--')\n",
    "    #Then plot the rays:\n",
    "    for ray in raymatrix:\n",
    "        ray_r=ray[0] if not norm else ray[0]/lambda0\n",
    "        ray_z=ray[1] if not norm else ray[1]/lambda0\n",
    "        plt.plot(ray_z,ray_r,'r',ray_z,-1*ray_r,'r')\n",
    "        \n",
    "    xl='z (m)' if not norm else 'z/lambda'\n",
    "    yl='r (m)' if not norm else 'r/lambda'\n",
    "    plt.xlabel(xl)\n",
    "    plt.ylabel(yl)\n",
    "    plt.title(title)\n",
    "    plt.xlim((-0.01,exp_f+0.02))\n",
    "    r_max=max(opt_r)+0.001\n",
    "    plt.ylim((-r_max,r_max))\n",
    "    if savefig:\n",
    "        plt.savefig(title+\".png\")\n",
    "    #plt.show()\n",
    "    plt.close()"
   ]
  },
  {
   "cell_type": "code",
   "execution_count": 7,
   "metadata": {},
   "outputs": [],
   "source": [
    "def rms(rays_after):\n",
    "    n=len(rays_after)\n",
    "    return np.sqrt(np.sum(rays_after**2)/n)"
   ]
  },
  {
   "cell_type": "code",
   "execution_count": 8,
   "metadata": {},
   "outputs": [],
   "source": [
    "def grad(i,epsilon,optic,exp_f,Nr):\n",
    "    o_r=optic[0]\n",
    "    o_z=optic[1]\n",
    "    j=i+1\n",
    "    # o_z[j]+=signs[i]*epsilon\n",
    "    o_z[j]+=epsilon\n",
    "    rm1,af1=raytrace([o_r,o_z],exp_f,Nr)\n",
    "    # o_z[j]-=2*signs[i]*epsilon\n",
    "    o_z[j]-=2*epsilon\n",
    "    rm2,af2=raytrace([o_r,o_z],exp_f,Nr)\n",
    "    c1=rms(af1)\n",
    "    c2=rms(af2)\n",
    "    return c1-c2"
   ]
  },
  {
   "cell_type": "code",
   "execution_count": 9,
   "metadata": {},
   "outputs": [],
   "source": [
    "def plot_cdz(title,cdz,o_r):\n",
    "    fig, ax = plt.subplots(figsize=(20,10))\n",
    "    zeros=np.zeros((len(cdz),1))\n",
    "    cdz=np.hstack((zeros,cdz))\n",
    "    n_iter=len(cdz)\n",
    "    if n_iter>101:\n",
    "        steps=len(cdz)//100\n",
    "        cdz=cdz[::steps]\n",
    "    im=ax.imshow(np.array(cdz).T,origin='lower')\n",
    "    ax.figure.colorbar(im,fraction=0.046, pad=0.04)\n",
    "    plt.xlabel('iterations')\n",
    "    plt.ylabel('r(m)')\n",
    "    No=len(cdz[0])+1\n",
    "    y_positions=np.linspace(0,No,6)\n",
    "    step=No//5\n",
    "    y_labels=np.append(o_r[::step],o_r[-1])\n",
    "    ax.set_yticks(y_positions)\n",
    "    ax.set_yticklabels(['{:.3e}'.format(y) for y in y_labels])\n",
    "    \n",
    "    if n_iter>100:\n",
    "        x_positions=np.linspace(0,100,6)\n",
    "        x_labels=np.linspace(0,n_iter-1,6).astype(int)\n",
    "        ax.set_xticks(x_positions)\n",
    "        ax.set_xticklabels(['{:d}'.format(x) for x in x_labels])\n",
    "\n",
    "    plt.tight_layout()\n",
    "    plt.savefig(title+'/'+title+'_plot_cdz.png')\n",
    "    #plt.show()"
   ]
  },
  {
   "cell_type": "code",
   "execution_count": 1,
   "metadata": {},
   "outputs": [],
   "source": [
    "def plot_diff(title,o_z,o_r,r,R):\n",
    "    oz=np.copy(o_z)*-1\n",
    "    fig, ax = plt.subplots(figsize=(15,10))\n",
    "    No=len(o_r)\n",
    "    start_o=oz[0]\n",
    "    end_o=create_starting_optic(r,R,k=-1,N=No)[1][1:]\n",
    "    total_change=end_o-start_o[1:]\n",
    "    exp_o=-1*np.tile(end_o,(len(o_z),1))\n",
    "    oz[:,1:]+=exp_o\n",
    "    #oz[:,1:]/=total_change\n",
    "    n_iter=len(oz)\n",
    "    if n_iter>101:\n",
    "        steps=len(oz)//100\n",
    "        oz=oz[::steps]\n",
    "\n",
    "    im=ax.imshow(np.array(oz).T,origin='lower')\n",
    "    ax.figure.colorbar(im,fraction=0.046, pad=0.04)\n",
    "    plt.xlabel('iterations')\n",
    "    plt.ylabel('r(m)')\n",
    "    step=No//5\n",
    "    y_positions=np.linspace(0,No,6)\n",
    "    y_labels=np.append(o_r[::step],o_r[-1])\n",
    "    ax.set_yticks(y_positions)\n",
    "    ax.set_yticklabels(['{:.3e}'.format(y) for y in y_labels])\n",
    "    \n",
    "    if n_iter>100:\n",
    "        x_positions=np.linspace(0,100,6)\n",
    "        x_labels=np.linspace(0,n_iter-1,6).astype(int)\n",
    "        ax.set_xticks(x_positions)\n",
    "        ax.set_xticklabels(['{:d}'.format(x) for x in x_labels])\n",
    "\n",
    "    plt.tight_layout()\n",
    "    plt.savefig(title+'/'+title+ \"_plot_diff.png\")\n",
    "    #plt.show()"
   ]
  },
  {
   "cell_type": "code",
   "execution_count": 11,
   "metadata": {},
   "outputs": [],
   "source": [
    "def write_data(o_z,o_r,cost,cdz,title):\n",
    "    os.system('mkdir '+title)\n",
    "    np.savetxt(title+'/'+title+\"_o_z.csv\",o_z)\n",
    "    np.savetxt(title+'/'+title+\"_o_r.csv\",o_r)\n",
    "    np.savetxt(title+'/'+title+\"_cost.csv\",cost)\n",
    "    np.savetxt(title+'/'+title+\"_cdz.csv\",cdz)"
   ]
  },
  {
   "cell_type": "code",
   "execution_count": 14,
   "metadata": {},
   "outputs": [],
   "source": [
    "def gradient_descent(epsilon,dz,start_k,r,R,exp_f,learn_rate,n_iter=1000,tol=1e-6,No=100,Nr=1000,plt=False,title=None):\n",
    "    start_time=time.time()\n",
    "    start_o=create_starting_optic(r,R,k=start_k,N=No)\n",
    "    o_r=start_o[0]\n",
    "    o_z=np.array([start_o[1]])\n",
    "    rm0,af0=raytrace(start_o,exp_f,Nr)\n",
    "    cost=[rms(af0)]\n",
    "    n=0\n",
    "    if plt:\n",
    "        plot(start_o,rm0,exp_f,title+\"/step_%d\"%(n),savefig=True)\n",
    "    diff=cost[0]\n",
    "    dzs=np.ones(No-1)*dz\n",
    "    cdz=np.array(dzs)\n",
    "    #print(dzs)\n",
    "    #print('Step: %d\\t Cost: %f'%(n,cost[0]))\n",
    "    o=start_o[1]\n",
    "    while(n<n_iter and abs(diff)>tol):\n",
    "        #print(change_dzs)\n",
    "        #start_time=time.time()\n",
    "        n+=1\n",
    "        #signs=np.random.choice([-1,1],No-1)\n",
    "        #o[1:]+=signs*dzs #move each point in the optic randomly by dz except for the point at origin\n",
    "        o[1:]+=dzs\n",
    "        o_z=np.vstack([o_z,o])\n",
    "        rm,af=raytrace([o_r,o],exp_f,Nr)\n",
    "        c=rms(af)\n",
    "        cost.append(c)\n",
    "        if plt:\n",
    "            plot([o_r,o],rm,exp_f,title+\"/step_%d\"%(n),savefig=True)\n",
    "        for i in range(len(dzs)):\n",
    "            step_size=learn_rate*grad(i,epsilon,[o_r,o],exp_f,Nr)\n",
    "            dzs[i]=dzs[i]-step_size\n",
    "        diff=c\n",
    "        cdz=np.vstack([cdz,dzs])\n",
    "        #print(dzs)\n",
    "        print('Step:%d  \\t Cost: %E \\t time: %s'%(n,c,time.time()-start_time))\n",
    "    \n",
    "    runtime=time.time()-start_time\n",
    "    title='dz-%1.e_k-%.2f_eps-%.1e_lr-%.1e_No-%d_Nr-%d_N-%d_t-%.2e'%(dz,start_k,epsilon,learn_rate,No,Nr,n_iter,runtime)\n",
    "    write_data(o_z,o_r,cost,cdz,title)\n",
    "    plot_cdz(title,cdz,o_r)\n",
    "    plot_diff(title,o_z,o_r,r,R)\n",
    "    print(title + \" finished\")\n",
    "    print(time.strftime(\"%H:%M:%S\", time.gmtime(runtime)))\n",
    "    return np.array(o_z),o_r,cost,cdz"
   ]
  },
  {
   "cell_type": "markdown",
   "metadata": {},
   "source": [
    "Default "
   ]
  },
  {
   "cell_type": "code",
   "execution_count": 27,
   "metadata": {},
   "outputs": [],
   "source": [
    "gradient_descent(1e-7,5e-7,-0.5,0.0375,0.1125,0.05625,1e-3,n_iter=100,Nr=100,No=100)"
   ]
  },
  {
   "cell_type": "code",
   "execution_count": 27,
   "metadata": {},
   "outputs": [],
   "source": [
    "gradient_descent(1e-7,0,-0.5,0.0375,0.1125,0.05625,1e-3,n_iter=100,Nr=100,No=100)"
   ]
  },
  {
   "cell_type": "code",
   "execution_count": 27,
   "metadata": {},
   "outputs": [],
   "source": [
    "gradient_descent(1e-7,5e-7,-0.5,0.0375,0.1125,0.05625,1e-3,n_iter=1000,Nr=100,No=100)"
   ]
  },
  {
   "cell_type": "code",
   "execution_count": 27,
   "metadata": {},
   "outputs": [],
   "source": [
    "gradient_descent(1e-7,0,-0.5,0.0375,0.1125,0.05625,1e-3,n_iter=1000,Nr=1000,No=100)"
   ]
  },
  {
   "cell_type": "markdown",
   "metadata": {},
   "source": [
    "Change in learning rate to 1e-2"
   ]
  },
  {
   "cell_type": "code",
   "execution_count": 27,
   "metadata": {},
   "outputs": [],
   "source": [
    "gradient_descent(1e-7,5e-7,-0.5,0.0375,0.1125,0.05625,1e-2,n_iter=100,Nr=100,No=100)"
   ]
  },
  {
   "cell_type": "code",
   "execution_count": 27,
   "metadata": {},
   "outputs": [],
   "source": [
    "gradient_descent(1e-7,0,-0.5,0.0375,0.1125,0.05625,1e-2,n_iter=100,Nr=100,No=100)"
   ]
  },
  {
   "cell_type": "code",
   "execution_count": 27,
   "metadata": {},
   "outputs": [],
   "source": [
    "gradient_descent(1e-7,5e-7,-0.5,0.0375,0.1125,0.05625,1e-2,n_iter=1000,Nr=100,No=100)"
   ]
  },
  {
   "cell_type": "code",
   "execution_count": 27,
   "metadata": {},
   "outputs": [],
   "source": [
    "gradient_descent(1e-7,0,-0.5,0.0375,0.1125,0.05625,1e-2,n_iter=1000,Nr=1000,No=100)"
   ]
  },
  {
   "cell_type": "markdown",
   "metadata": {},
   "source": [
    "Change in learning rate to 1e-1"
   ]
  },
  {
   "cell_type": "code",
   "execution_count": 27,
   "metadata": {},
   "outputs": [],
   "source": [
    "gradient_descent(1e-7,5e-7,-0.5,0.0375,0.1125,0.05625,1e-1,n_iter=100,Nr=100,No=100)"
   ]
  },
  {
   "cell_type": "code",
   "execution_count": 27,
   "metadata": {},
   "outputs": [],
   "source": [
    "gradient_descent(1e-7,0,-0.5,0.0375,0.1125,0.05625,1e-1,n_iter=100,Nr=100,No=100)"
   ]
  },
  {
   "cell_type": "code",
   "execution_count": 27,
   "metadata": {},
   "outputs": [],
   "source": [
    "gradient_descent(1e-7,5e-7,-0.5,0.0375,0.1125,0.05625,1e-1,n_iter=1000,Nr=100,No=100)"
   ]
  },
  {
   "cell_type": "code",
   "execution_count": 27,
   "metadata": {},
   "outputs": [],
   "source": [
    "gradient_descent(1e-7,0,-0.5,0.0375,0.1125,0.05625,1e-1,n_iter=1000,Nr=1000,No=100)"
   ]
  },
  {
   "cell_type": "markdown",
   "metadata": {},
   "source": [
    "Change in learning rate to 1"
   ]
  },
  {
   "cell_type": "code",
   "execution_count": 27,
   "metadata": {},
   "outputs": [],
   "source": [
    "gradient_descent(1e-7,5e-7,-0.5,0.0375,0.1125,0.05625,1,n_iter=100,Nr=100,No=100)"
   ]
  },
  {
   "cell_type": "code",
   "execution_count": 27,
   "metadata": {},
   "outputs": [],
   "source": [
    "gradient_descent(1e-7,0,-0.5,0.0375,0.1125,0.05625,1,n_iter=100,Nr=100,No=100)"
   ]
  },
  {
   "cell_type": "code",
   "execution_count": 27,
   "metadata": {},
   "outputs": [],
   "source": [
    "gradient_descent(1e-7,5e-7,-0.5,0.0375,0.1125,0.05625,1,n_iter=1000,Nr=100,No=100)"
   ]
  },
  {
   "cell_type": "code",
   "execution_count": 27,
   "metadata": {},
   "outputs": [],
   "source": [
    "gradient_descent(1e-7,0,-0.5,0.0375,0.1125,0.05625,1,n_iter=1000,Nr=1000,No=100)"
   ]
  }
 ],
 "metadata": {
  "kernelspec": {
   "display_name": "Python 3 (ipykernel)",
   "language": "python",
   "name": "python3"
  },
  "language_info": {
   "codemirror_mode": {
    "name": "ipython",
    "version": 3
   },
   "file_extension": ".py",
   "mimetype": "text/x-python",
   "name": "python",
   "nbconvert_exporter": "python",
   "pygments_lexer": "ipython3",
   "version": "3.10.4"
  }
 },
 "nbformat": 4,
 "nbformat_minor": 4
}
