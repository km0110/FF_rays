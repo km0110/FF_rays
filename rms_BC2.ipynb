{
 "cells": [
  {
   "cell_type": "code",
   "execution_count": 5,
   "metadata": {},
   "outputs": [],
   "source": [
    "import numpy as np\n",
    "import time\n",
    "from scipy.interpolate import CubicSpline\n",
    "import matplotlib.pyplot as plt\n",
    "import os\n",
    "font = {'family' : 'normal',\n",
    "        'size'   : 15}\n",
    "\n",
    "plt.rc('font', **font)"
   ]
  },
  {
   "cell_type": "code",
   "execution_count": 6,
   "metadata": {
    "tags": []
   },
   "outputs": [],
   "source": [
    "def create_starting_optic(r,R,k=-1,N=100):\n",
    "    r=np.linspace(0,r,N) #solves the problem of not having enough points close to the origin\n",
    "    z=r*r/(R+np.sqrt(R*R-(k+1)*r*r))\n",
    "    optic=np.array([r,z])\n",
    "    return optic"
   ]
  },
  {
   "cell_type": "code",
   "execution_count": 7,
   "metadata": {},
   "outputs": [],
   "source": [
    "def find_local_eq(h,optic,N=100):\n",
    "    # first find nearest point in the lens array to where the ray r intersects\n",
    "    r=optic[0]\n",
    "    z=optic[1]\n",
    "    index=np.abs(r-h).argmin()\n",
    "    \n",
    "    # isolate a few points around the closest index (look into how many points we actually want)\n",
    "    lower=index-3 if index-3>0 else 0 # set the boundary conditions...\n",
    "    upper=index+3\n",
    "    \n",
    "    \n",
    "    local_r=np.array(r[lower:upper])-h\n",
    "    local_z=np.array(z[lower:upper])\n",
    "    \n",
    "    # Use cubic spline to interpolate the local points\n",
    "    # need to switch the z and the r coordinates so that cubic spline won't give error\n",
    "    cs=None\n",
    "    try:\n",
    "        cs=CubicSpline(local_r,local_z)\n",
    "    except:\n",
    "        print(local_opt)\n",
    "        print(lower)\n",
    "        print(upper)\n",
    "    #zs=np.linspace(local_z[0],local_z[-1],N) \n",
    "    return cs"
   ]
  },
  {
   "cell_type": "code",
   "execution_count": 8,
   "metadata": {},
   "outputs": [],
   "source": [
    "def find_reflect_slope(norm):\n",
    "    theta=np.arctan(norm)\n",
    "    slope=np.tan(2*theta)\n",
    "    return slope"
   ]
  },
  {
   "cell_type": "code",
   "execution_count": 9,
   "metadata": {},
   "outputs": [],
   "source": [
    "def raytrace(optic, exp_f, Nr=7, linsp=True):\n",
    "    #create the starting rays\n",
    "    r=optic[0]\n",
    "    # make sure that the rays are bounded \n",
    "    r_max=r[-1]\n",
    "    \n",
    "    rays=np.linspace(0,r_max,Nr) if linsp else np.geomspace(1e-9,r_max,Nr) #confine the rays to the diameter of the optic\n",
    "    #rays[rays==0]=1e-9 # if r=0 exists set to small value so we don't get infinity values\n",
    "    raymatrix=[] # 3 points: before, at, after the optic\n",
    "    after=[]\n",
    "    for h in rays:\n",
    "        cs=find_local_eq(h,optic)\n",
    "        z_optic=cs(0)        \n",
    "        norm=1/cs(0,1) #The normal is just the derivative \n",
    "        slope=find_reflect_slope(norm)\n",
    "        r_after=slope*(exp_f-z_optic)+h # This is where the ray meets z=exp_f\n",
    "        ray_z=[z_optic,exp_f]\n",
    "        ray_r=[h,r_after]            \n",
    "        raymatrix.append([ray_r,ray_z])\n",
    "        after.append(r_after)\n",
    "        #np.concatenate(raymatrix)\n",
    "    return np.array(raymatrix),np.array(after)"
   ]
  },
  {
   "cell_type": "code",
   "execution_count": 10,
   "metadata": {},
   "outputs": [],
   "source": [
    "def plot(optic,raymatrix,exp_f,title=None, lambda0=None, norm=False,savefig=False):\n",
    "    #first plot the optic:\n",
    "    plt.figure(figsize=(15,10))\n",
    "    opt_r=optic[0] if not norm else optic[0]/lambda0\n",
    "    opt_z=optic[1] if not norm else optic[1]/lambda0\n",
    "    plt.plot(opt_z,opt_r,'b',opt_z,-1*opt_r,'b')\n",
    "    exp_freq=exp_f if not norm else exp_f/lambda0\n",
    "    plt.axvline(x=exp_freq, color='k', linestyle='--')\n",
    "    #Then plot the rays:\n",
    "    for ray in raymatrix:\n",
    "        ray_r=ray[0] if not norm else ray[0]/lambda0\n",
    "        ray_z=ray[1] if not norm else ray[1]/lambda0\n",
    "        plt.plot(ray_z,ray_r,'r',ray_z,-1*ray_r,'r')\n",
    "        \n",
    "    xl='z (m)' if not norm else 'z/lambda'\n",
    "    yl='r (m)' if not norm else 'r/lambda'\n",
    "    plt.xlabel(xl)\n",
    "    plt.ylabel(yl)\n",
    "    plt.title(title)\n",
    "    plt.xlim((-0.01,exp_f+0.02))\n",
    "    r_max=max(opt_r)+0.001\n",
    "    plt.ylim((-r_max,r_max))\n",
    "    if savefig:\n",
    "        plt.savefig(title+\".png\")\n",
    "    #plt.show()\n",
    "    plt.close()"
   ]
  },
  {
   "cell_type": "code",
   "execution_count": 11,
   "metadata": {},
   "outputs": [],
   "source": [
    "def rms(rays_after):\n",
    "    n=len(rays_after)\n",
    "    return np.sqrt(np.sum(rays_after**2)/n)"
   ]
  },
  {
   "cell_type": "code",
   "execution_count": 12,
   "metadata": {},
   "outputs": [],
   "source": [
    "def grad(i,epsilon,optic,exp_f,Nr):\n",
    "    o_r=optic[0]\n",
    "    o_z=optic[1]\n",
    "    j=i+1\n",
    "    # o_z[j]+=signs[i]*epsilon\n",
    "    o_z[j]+=epsilon\n",
    "    rm1,af1=raytrace([o_r,o_z],exp_f,Nr)\n",
    "    # o_z[j]-=2*signs[i]*epsilon\n",
    "    o_z[j]-=2*epsilon\n",
    "    rm2,af2=raytrace([o_r,o_z],exp_f,Nr)\n",
    "    c1=rms(af1)\n",
    "    c2=rms(af2)\n",
    "    return c1-c2"
   ]
  },
  {
   "cell_type": "code",
   "execution_count": 130,
   "metadata": {},
   "outputs": [],
   "source": [
    "def plot_diff(o_z,o_r,r,R,start_o,No):\n",
    "    fig, ax = plt.subplots(figsize=(15,10))\n",
    "    end_o=create_starting_optic(r,R,k=-1,N=No)[1][1:]\n",
    "    total_change=end_o-start_o[1][1:]\n",
    "    exp_o=np.tile(end_o,(len(o_z),1))\n",
    "    o_z[:,1:]-=exp_o\n",
    "    o_z[:,1:]/=total_change\n",
    "    im=ax.imshow(np.array(o_z).T,origin='lower')\n",
    "    ax.figure.colorbar(im,fraction=0.046, pad=0.04)\n",
    "    plt.xlabel('iterations')\n",
    "    plt.ylabel('r(m)')\n",
    "    y_positions=np.linspace(0,100,6)\n",
    "    y_labels=np.append(o_r[::20],o_r[-1])\n",
    "    ax.set_yticks(y_positions)\n",
    "    ax.set_yticklabels(['{:.3e}'.format(y) for y in y_labels])\n",
    "    plt.show()"
   ]
  },
  {
   "cell_type": "code",
   "execution_count": 16,
   "metadata": {},
   "outputs": [],
   "source": [
    "def write_data(o_z,o_r,cost,cdz,title):\n",
    "    os.system('mkdir '+title)\n",
    "    np.savetxt(title+'/'+title+\"_o_z.csv\",o_z)\n",
    "    np.savetxt(title+'/'+title+\"_o_r.csv\",o_r)\n",
    "    np.savetxt(title+'/'+title+\"_cost.csv\",cost)\n",
    "    np.savetxt(title+'/'+title+\"_cdz.csv\",cdz)"
   ]
  },
  {
   "cell_type": "code",
   "execution_count": 140,
   "metadata": {},
   "outputs": [],
   "source": [
    "def gradient_descent(epsilon,dz,start_k,r,R,exp_f,learn_rate,n_iter=1000,tol=1e-6,No=100,Nr=1000,plt=False,title=None):\n",
    "    start_time=time.time()\n",
    "    start_o=create_starting_optic(r,R,k=start_k,N=No)\n",
    "    o_r=start_o[0]\n",
    "    o_z=[start_o[1]]\n",
    "    rm0,af0=raytrace(start_o,exp_f,Nr)\n",
    "    cost=[rms(af0)]\n",
    "    n=0\n",
    "    if plt:\n",
    "        plot(start_o,rm0,exp_f,title+\"/step_%d\"%(n),savefig=True)\n",
    "    diff=cost[0]\n",
    "    dzs=np.ones(No-1)*dz\n",
    "    cdz=np.array(dzs)\n",
    "    #print(dzs)\n",
    "    #print('Step: %d\\t Cost: %f'%(n,cost[0]))\n",
    "    o=start_o[1]\n",
    "    while(n<n_iter and abs(diff)>tol):\n",
    "        #print(change_dzs)\n",
    "        #start_time=time.time()\n",
    "        n+=1\n",
    "        #signs=np.random.choice([-1,1],No-1)\n",
    "        #o[1:]+=signs*dzs #move each point in the optic randomly by dz except for the point at origin\n",
    "        o[1:]+=dzs\n",
    "        o_z=np.vstack([o_z,o])\n",
    "        rm,af=raytrace([o_r,o],exp_f,Nr)\n",
    "        c=rms(af)\n",
    "        cost.append(c)\n",
    "        if plt:\n",
    "            plot([o_r,o],rm,exp_f,title+\"/step_%d\"%(n),savefig=True)\n",
    "        for i in range(len(dzs)):\n",
    "            step_size=learn_rate*grad(i,epsilon,[o_r,o],exp_f,Nr)\n",
    "            dzs[i]=dzs[i]-step_size\n",
    "        diff=c\n",
    "        cdz=np.vstack([cdz,dzs])\n",
    "        #print(dzs)\n",
    "        print('Step:%d  \\t Cost: %E \\t time: %s'%(n,c,time.time()-start_time))\n",
    "    title='k-%.2f_eps-%.1e_lr-%.1e_No-%d_Nr-%d_N-%d_t-%.2e'%(start_k,epsilon,learn_rate,No,Nr,n_iter,time.time()-start_time)\n",
    "    #write_data(o_z,o_r,cost,cdz,title)\n",
    "    return np.array(o_z),o_r,cost,cdz"
   ]
  },
  {
   "cell_type": "code",
   "execution_count": 141,
   "metadata": {},
   "outputs": [
    {
     "name": "stdout",
     "output_type": "stream",
     "text": [
      "Step:1  \t Cost: 4.751543E-04 \t time: 3.389671802520752\n",
      "Step:2  \t Cost: 4.750344E-04 \t time: 6.628078937530518\n",
      "Step:3  \t Cost: 4.747835E-04 \t time: 9.959436893463135\n",
      "Step:4  \t Cost: 4.744127E-04 \t time: 13.357124090194702\n",
      "Step:5  \t Cost: 4.739386E-04 \t time: 16.584280014038086\n",
      "Step:6  \t Cost: 4.733818E-04 \t time: 19.930996894836426\n",
      "Step:7  \t Cost: 4.727667E-04 \t time: 23.349546909332275\n",
      "Step:8  \t Cost: 4.721207E-04 \t time: 26.60186791419983\n",
      "Step:9  \t Cost: 4.714727E-04 \t time: 29.941637992858887\n",
      "Step:10  \t Cost: 4.708521E-04 \t time: 33.3736629486084\n"
     ]
    }
   ],
   "source": [
    "o_z,o_r,cost,cdz=gradient_descent(1e-7,0,-0.5,0.0375,0.1125,0.05625,1e-3,n_iter=10,Nr=100,No=100)"
   ]
  },
  {
   "cell_type": "code",
   "execution_count": 99,
   "metadata": {},
   "outputs": [
    {
     "data": {
      "text/plain": [
       "array([[-3.49481968e-07,  1.54611948e-06,  4.73757006e-06, ...,\n",
       "         6.08115385e-03,  6.20922274e-03,  6.33811218e-03],\n",
       "       [-3.49481968e-07,  1.54611948e-06,  4.73757006e-06, ...,\n",
       "         6.08115385e-03,  6.20922274e-03,  6.33811218e-03],\n",
       "       [-3.49481968e-07,  1.54611948e-06,  4.73757006e-06, ...,\n",
       "         6.08115385e-03,  6.20922274e-03,  6.33811218e-03],\n",
       "       ...,\n",
       "       [-3.49481968e-07,  1.54611948e-06,  4.73757006e-06, ...,\n",
       "         6.08115385e-03,  6.20922274e-03,  6.33811218e-03],\n",
       "       [-3.49481968e-07,  1.54611948e-06,  4.73757006e-06, ...,\n",
       "         6.08115385e-03,  6.20922274e-03,  6.33811218e-03],\n",
       "       [-3.49481968e-07,  1.54611948e-06,  4.73757006e-06, ...,\n",
       "         6.08115385e-03,  6.20922274e-03,  6.33811218e-03]])"
      ]
     },
     "execution_count": 99,
     "metadata": {},
     "output_type": "execute_result"
    }
   ],
   "source": [
    "(o_z)[:,1:]"
   ]
  },
  {
   "cell_type": "code",
   "execution_count": 107,
   "metadata": {},
   "outputs": [
    {
     "data": {
      "text/plain": [
       "array([ 1.,  2.,  3.,  4.,  5.,  6.,  7.,  8.,  9., 10.])"
      ]
     },
     "execution_count": 107,
     "metadata": {},
     "output_type": "execute_result"
    }
   ],
   "source": [
    "np.linspace(1,10,10)"
   ]
  },
  {
   "cell_type": "code",
   "execution_count": 125,
   "metadata": {},
   "outputs": [
    {
     "data": {
      "text/plain": [
       "array([0., 1., 2., 3., 4., 5., 6., 7., 8., 9.])"
      ]
     },
     "execution_count": 125,
     "metadata": {},
     "output_type": "execute_result"
    }
   ],
   "source": [
    "np.linspace(0,9,10)"
   ]
  },
  {
   "cell_type": "code",
   "execution_count": 127,
   "metadata": {},
   "outputs": [
    {
     "name": "stdout",
     "output_type": "stream",
     "text": [
      "[[ 0.  1.  2.  3.  4.  5.  6.  7.  8.  9.]\n",
      " [10. 11. 12. 13. 14. 15. 16. 17. 18. 19.]\n",
      " [20. 21. 22. 23. 24. 25. 26. 27. 28. 29.]\n",
      " [30. 31. 32. 33. 34. 35. 36. 37. 38. 39.]\n",
      " [40. 41. 42. 43. 44. 45. 46. 47. 48. 49.]\n",
      " [50. 51. 52. 53. 54. 55. 56. 57. 58. 59.]\n",
      " [60. 61. 62. 63. 64. 65. 66. 67. 68. 69.]\n",
      " [70. 71. 72. 73. 74. 75. 76. 77. 78. 79.]\n",
      " [80. 81. 82. 83. 84. 85. 86. 87. 88. 89.]\n",
      " [90. 91. 92. 93. 94. 95. 96. 97. 98. 99.]]\n",
      "[[ 0.  0.  0.  0.  0.  0.  0.  0.  0.  0.]\n",
      " [10.  1.  1.  1.  1.  1.  1.  1.  1.  1.]\n",
      " [20.  2.  2.  2.  2.  2.  2.  2.  2.  2.]\n",
      " [30.  3.  3.  3.  3.  3.  3.  3.  3.  3.]\n",
      " [40.  4.  4.  4.  4.  4.  4.  4.  4.  4.]\n",
      " [50.  5.  5.  5.  5.  5.  5.  5.  5.  5.]\n",
      " [60.  6.  6.  6.  6.  6.  6.  6.  6.  6.]\n",
      " [70.  7.  7.  7.  7.  7.  7.  7.  7.  7.]\n",
      " [80.  8.  8.  8.  8.  8.  8.  8.  8.  8.]\n",
      " [90.  9.  9.  9.  9.  9.  9.  9.  9.  9.]]\n"
     ]
    }
   ],
   "source": [
    "a=np.linspace(0,99,100).reshape([10,10])\n",
    "print(a)\n",
    "a[:,1:]-=np.tile(np.linspace(0,9,10)[1:],(10,1))\n",
    "a[:,1:]/=np.ones(9)*10\n",
    "print(a)"
   ]
  },
  {
   "cell_type": "code",
   "execution_count": 72,
   "metadata": {},
   "outputs": [
    {
     "name": "stdout",
     "output_type": "stream",
     "text": [
      "[-9.03666064e-13 -1.44587800e-11 -7.31986109e-11 -2.31348348e-10\n",
      " -5.64829711e-10 -1.17126741e-09 -2.16999744e-09 -3.70207725e-09\n",
      " -5.93029773e-09 -9.03919708e-09 -1.32350765e-08 -1.87460178e-08\n",
      " -2.58219029e-08 -3.47344348e-08 -4.57771611e-08 -5.92654992e-08\n",
      " -7.55367626e-08 -9.49501902e-08 -1.17886977e-07 -1.44750306e-07\n",
      " -1.75965385e-07 -2.11979479e-07 -2.53261952e-07 -3.00304306e-07\n",
      " -3.53620223e-07 -4.13745610e-07 -4.81238645e-07 -5.56679823e-07\n",
      " -6.40672008e-07 -7.33840485e-07 -8.36833014e-07 -9.50319885e-07\n",
      " -1.07499398e-06 -1.21157081e-06 -1.36078864e-06 -1.52340846e-06\n",
      " -1.70021413e-06 -1.89201242e-06 -2.09963306e-06 -2.32392885e-06\n",
      " -2.56577572e-06 -2.82607278e-06 -3.10574244e-06 -3.40573047e-06\n",
      " -3.72700609e-06 -4.07056205e-06 -4.43741470e-06 -4.82860413e-06\n",
      " -5.24519422e-06 -5.68827274e-06 -6.15895145e-06 -6.65836622e-06\n",
      " -7.18767708e-06 -7.74806840e-06 -8.34074892e-06 -8.96695189e-06\n",
      " -9.62793521e-06 -1.03249815e-05 -1.10593982e-05 -1.18325178e-05\n",
      " -1.26456978e-05 -1.35003209e-05 -1.43977953e-05 -1.53395544e-05\n",
      " -1.63270575e-05 -1.73617893e-05 -1.84452608e-05 -1.95790086e-05\n",
      " -2.07645956e-05 -2.20036111e-05 -2.32976708e-05 -2.46484168e-05\n",
      " -2.60575182e-05 -2.75266709e-05 -2.90575979e-05 -3.06520493e-05\n",
      " -3.23118027e-05 -3.40386633e-05 -3.58344640e-05 -3.77010655e-05\n",
      " -3.96403567e-05 -4.16542547e-05 -4.37447052e-05 -4.59136823e-05\n",
      " -4.81631890e-05 -5.04952575e-05 -5.29119491e-05 -5.54153543e-05\n",
      " -5.80075936e-05 -6.06908172e-05 -6.34672051e-05 -6.63389680e-05\n",
      " -6.93083467e-05 -7.23776130e-05 -7.55490693e-05 -7.88250496e-05\n",
      " -8.22079188e-05 -8.57000738e-05 -8.93039433e-05]\n"
     ]
    }
   ],
   "source": [
    "start_o=create_starting_optic(0.0375,0.1125,k=-0.5,N=100)\n",
    "end_o=create_starting_optic(0.0375,0.1125,k=-1,N=100)\n",
    "print(end_o[1][1:]-start_o[1][1:])"
   ]
  },
  {
   "cell_type": "code",
   "execution_count": 135,
   "metadata": {},
   "outputs": [
    {
     "data": {
      "text/plain": [
       "array([0.00000000e+00, 6.37690935e-07, 2.55077459e-06, 5.73928348e-06,\n",
       "       1.02032719e-05, 1.59428156e-05, 2.29580124e-05, 3.12489815e-05,\n",
       "       4.08158641e-05, 5.16588229e-05, 6.37780424e-05, 7.71737289e-05,\n",
       "       9.18461106e-05, 1.07795437e-04, 1.25021981e-04, 1.43526034e-04,\n",
       "       1.63307914e-04, 1.84367956e-04, 2.06706520e-04, 2.30323988e-04,\n",
       "       2.55220763e-04, 2.81397269e-04, 3.08853955e-04, 3.37591289e-04,\n",
       "       3.67609763e-04, 3.98909890e-04, 4.31492207e-04, 4.65357272e-04,\n",
       "       5.00505665e-04, 5.36937989e-04, 5.74654869e-04, 6.13656953e-04,\n",
       "       6.53944912e-04, 6.95519438e-04, 7.38381247e-04, 7.82531077e-04,\n",
       "       8.27969689e-04, 8.74697867e-04, 9.22716418e-04, 9.72026171e-04,\n",
       "       1.02262798e-03, 1.07452272e-03, 1.12771129e-03, 1.18219461e-03,\n",
       "       1.23797363e-03, 1.29504932e-03, 1.35342267e-03, 1.41309469e-03,\n",
       "       1.47406644e-03, 1.53633896e-03, 1.59991335e-03, 1.66479072e-03,\n",
       "       1.73097221e-03, 1.79845898e-03, 1.86725220e-03, 1.93735309e-03,\n",
       "       2.00876289e-03, 2.08148285e-03, 2.15551425e-03, 2.23085840e-03,\n",
       "       2.30751663e-03, 2.38549031e-03, 2.46478080e-03, 2.54538953e-03,\n",
       "       2.62731792e-03, 2.71056744e-03, 2.79513957e-03, 2.88103581e-03,\n",
       "       2.96825771e-03, 3.05680684e-03, 3.14668477e-03, 3.23789312e-03,\n",
       "       3.33043354e-03, 3.42430770e-03, 3.51951728e-03, 3.61606403e-03,\n",
       "       3.71394967e-03, 3.81317600e-03, 3.91374482e-03, 4.01565795e-03,\n",
       "       4.11891727e-03, 4.22352465e-03, 4.32948203e-03, 4.43679133e-03,\n",
       "       4.54545455e-03, 4.65547367e-03, 4.76685073e-03, 4.87958780e-03,\n",
       "       4.99368696e-03, 5.10915033e-03, 5.22598007e-03, 5.34417836e-03,\n",
       "       5.46374740e-03, 5.58468943e-03, 5.70700673e-03, 5.83070160e-03,\n",
       "       5.95577638e-03, 6.08223343e-03, 6.21007514e-03, 6.33930394e-03])"
      ]
     },
     "execution_count": 135,
     "metadata": {},
     "output_type": "execute_result"
    }
   ],
   "source": [
    "start_o[1]"
   ]
  },
  {
   "cell_type": "code",
   "execution_count": 143,
   "metadata": {},
   "outputs": [
    {
     "data": {
      "text/plain": [
       "array([ 0.00000000e+00, -2.49481968e-07,  1.64611948e-06,  4.83757006e-06,\n",
       "        9.30245889e-06,  1.50418761e-05,  2.20570839e-05,  3.03480547e-05,\n",
       "        3.99149395e-05,  5.07579007e-05,  6.28771229e-05,  7.62728125e-05,\n",
       "        9.09451975e-05,  1.06894528e-04,  1.24121075e-04,  1.42625133e-04,\n",
       "        1.62407017e-04,  1.83467064e-04,  2.05805634e-04,  2.29423107e-04,\n",
       "        2.54319888e-04,  2.80496400e-04,  3.07953092e-04,  3.36690433e-04,\n",
       "        3.66708914e-04,  3.98009049e-04,  4.30591374e-04,  4.64456448e-04,\n",
       "        4.99604849e-04,  5.36037183e-04,  5.73754073e-04,  6.12756167e-04,\n",
       "        6.53044137e-04,  6.94618674e-04,  7.37480494e-04,  7.81630336e-04,\n",
       "        8.27068961e-04,  8.73797152e-04,  9.21815716e-04,  9.71125483e-04,\n",
       "        1.02172731e-03,  1.07362206e-03,  1.12681065e-03,  1.18129398e-03,\n",
       "        1.23707302e-03,  1.29414873e-03,  1.35252210e-03,  1.41219414e-03,\n",
       "        1.47316590e-03,  1.53543845e-03,  1.59901286e-03,  1.66389025e-03,\n",
       "        1.73007176e-03,  1.79755855e-03,  1.86635180e-03,  1.93645272e-03,\n",
       "        2.00786254e-03,  2.08058253e-03,  2.15461396e-03,  2.22995814e-03,\n",
       "        2.30661640e-03,  2.38459011e-03,  2.46388064e-03,  2.54448940e-03,\n",
       "        2.62641783e-03,  2.70966738e-03,  2.79423955e-03,  2.88013583e-03,\n",
       "        2.96735777e-03,  3.05590694e-03,  3.14578491e-03,  3.23699331e-03,\n",
       "        3.32953378e-03,  3.42340798e-03,  3.51861762e-03,  3.61516441e-03,\n",
       "        3.71305012e-03,  3.81227650e-03,  3.91284537e-03,  4.01475857e-03,\n",
       "        4.11801795e-03,  4.22262540e-03,  4.32858284e-03,  4.43589222e-03,\n",
       "        4.54455550e-03,  4.65457470e-03,  4.76595184e-03,  4.87868899e-03,\n",
       "        4.99278823e-03,  5.10825170e-03,  5.22508153e-03,  5.34327990e-03,\n",
       "        5.46284904e-03,  5.58379116e-03,  5.70610870e-03,  5.82980503e-03,\n",
       "        5.95489218e-03,  6.08125385e-03,  6.20932274e-03,  6.33821218e-03])"
      ]
     },
     "execution_count": 143,
     "metadata": {},
     "output_type": "execute_result"
    }
   ],
   "source": [
    "o_z[10]"
   ]
  },
  {
   "cell_type": "code",
   "execution_count": 144,
   "metadata": {},
   "outputs": [
    {
     "data": {
      "text/plain": [
       "array([ 0.00000000e+00, -8.87172000e-07, -9.04640648e-07, -9.01640229e-07,\n",
       "       -9.00581614e-07, -9.00374705e-07, -8.99757209e-07, -8.98756805e-07,\n",
       "       -8.97222493e-07, -8.94991852e-07, -8.91880226e-07, -8.87681327e-07,\n",
       "       -8.82167068e-07, -8.75087564e-07, -8.66171107e-07, -8.55124145e-07,\n",
       "       -8.41631257e-07, -8.25355123e-07, -8.05936500e-07, -7.82994185e-07,\n",
       "       -7.56124990e-07, -7.24903701e-07, -6.88883045e-07, -6.47593651e-07,\n",
       "       -6.00544008e-07, -5.47220426e-07, -4.87086990e-07, -4.19585513e-07,\n",
       "       -3.44135490e-07, -2.60134046e-07, -1.66955885e-07, -6.39532370e-08,\n",
       "        4.95441997e-08,  1.74229316e-07,  3.10817652e-07,  4.60047459e-07,\n",
       "        6.22679763e-07,  7.99498432e-07,  9.91310244e-07,  1.19894496e-06,\n",
       "        1.42325538e-06,  1.66511746e-06,  1.92543033e-06,  2.20511641e-06,\n",
       "        2.50512151e-06,  2.82641484e-06,  3.16998918e-06,  3.53686093e-06,\n",
       "        3.92807017e-06,  4.34468082e-06,  4.78778066e-06,  5.25848149e-06,\n",
       "        5.75791920e-06,  6.28725386e-06,  6.84766984e-06,  7.44037594e-06,\n",
       "        8.06660544e-06,  8.72761625e-06,  9.42469103e-06,  1.01591373e-05,\n",
       "        1.09322875e-05,  1.17454992e-05,  1.26001552e-05,  1.34976637e-05,\n",
       "        1.44394582e-05,  1.54269979e-05,  1.64617677e-05,  1.75452785e-05,\n",
       "        1.86790671e-05,  1.98646964e-05,  2.11037557e-05,  2.23978607e-05,\n",
       "        2.37486538e-05,  2.51578040e-05,  2.66270073e-05,  2.81579866e-05,\n",
       "        2.97524924e-05,  3.14123021e-05,  3.31392212e-05,  3.49350824e-05,\n",
       "        3.68017467e-05,  3.87411030e-05,  4.07550686e-05,  4.28455891e-05,\n",
       "        4.50146389e-05,  4.72642210e-05,  4.95963677e-05,  5.20131404e-05,\n",
       "        5.45166298e-05,  5.71089565e-05,  5.97922706e-05,  6.25687527e-05,\n",
       "        6.54406145e-05,  6.84100746e-05,  7.14795809e-05,  7.46524917e-05,\n",
       "        7.79408437e-05,  8.12283456e-05,  8.49476760e-05,  8.82121808e-05])"
      ]
     },
     "execution_count": 144,
     "metadata": {},
     "output_type": "execute_result"
    }
   ],
   "source": [
    "o_z[10]-end_o[1]"
   ]
  },
  {
   "cell_type": "code",
   "execution_count": 145,
   "metadata": {},
   "outputs": [
    {
     "data": {
      "image/png": "[encoded data removed]",
      "text/plain": [
       "<Figure size 1500x1000 with 2 Axes>"
      ]
     },
     "metadata": {},
     "output_type": "display_data"
    }
   ],
   "source": [
    "plot_diff(o_z,o_r,0.0375,0.1125,start_o,100)"
   ]
  },
  {
   "cell_type": "code",
   "execution_count": 27,
   "metadata": {},
   "outputs": [],
   "source": [
    "gradient_descent(1e-7,5e-7,-0.5,0.0375,0.1125,0.05625,1e-3,n_iter=100,Nr=100,No=100)"
   ]
  },
  {
   "cell_type": "code",
   "execution_count": null,
   "metadata": {},
   "outputs": [],
   "source": [
    "gradient_descent(1e-7,5e-7,-0.5,0.0375,0.1125,0.05625,1e-3,n_iter=1000,Nr=100,No=100)"
   ]
  },
  {
   "cell_type": "code",
   "execution_count": null,
   "metadata": {},
   "outputs": [],
   "source": [
    "gradient_descent(1e-7,5e-7,-0.5,0.0375,0.1125,0.05625,1e-3,n_iter=1000,Nr=20,No=100)"
   ]
  },
  {
   "cell_type": "code",
   "execution_count": null,
   "metadata": {},
   "outputs": [],
   "source": [
    "gradient_descent(1e-7,5e-7,-1.5,0.0375,0.1125,0.05625,1e-3,n_iter=100,Nr=100,No=100)"
   ]
  },
  {
   "cell_type": "code",
   "execution_count": null,
   "metadata": {},
   "outputs": [],
   "source": [
    "gradient_descent(1e-7,5e-7,-1.5,0.0375,0.1125,0.05625,1e-3,n_iter=1000,Nr=100,No=100)"
   ]
  },
  {
   "cell_type": "code",
   "execution_count": null,
   "metadata": {},
   "outputs": [],
   "source": [
    "gradient_descent(1e-7,5e-7,-1.5,0.0375,0.1125,0.05625,1e-3,n_iter=1000,Nr=20,No=100)"
   ]
  }
 ],
 "metadata": {
  "kernelspec": {
   "display_name": "Python 3 (ipykernel)",
   "language": "python",
   "name": "python3"
  },
  "language_info": {
   "codemirror_mode": {
    "name": "ipython",
    "version": 3
   },
   "file_extension": ".py",
   "mimetype": "text/x-python",
   "name": "python",
   "nbconvert_exporter": "python",
   "pygments_lexer": "ipython3",
   "version": "3.10.4"
  }
 },
 "nbformat": 4,
 "nbformat_minor": 4
}
