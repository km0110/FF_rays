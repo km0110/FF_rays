{
 "cells": [
  {
   "cell_type": "code",
   "execution_count": 1,
   "id": "b9dc3b26",
   "metadata": {},
   "outputs": [],
   "source": [
    "import os\n",
    "import numpy as np\n",
    "import matplotlib.pyplot as plt\n",
    "font = {'family' : 'normal',\n",
    "        'size'   : 24}\n",
    "plt.rc('font', **font)\n",
    "#plt.rcParams['text.usetex'] = True"
   ]
  },
  {
   "cell_type": "code",
   "execution_count": 2,
   "id": "afe5ab32",
   "metadata": {
    "tags": []
   },
   "outputs": [],
   "source": [
    "def create_starting_optic(r,R,k=-1,N=100):\n",
    "    r=np.linspace(0,r,N) #solves the problem of not having enough points close to the origin\n",
    "    z=r*r/(R+np.sqrt(R*R-(k+1)*r*r))\n",
    "    optic=np.array([r,z])\n",
    "    return optic"
   ]
  },
  {
   "cell_type": "code",
   "execution_count": 3,
   "id": "6ab82d49",
   "metadata": {},
   "outputs": [],
   "source": [
    "def plot_cdz(title,cdz):\n",
    "    fig, ax = plt.subplots(figsize=(12,10))\n",
    "    zeros=np.zeros((len(cdz),1))\n",
    "    cdz=np.hstack((zeros,cdz))\n",
    "    n_iter=len(cdz)\n",
    "    if n_iter>100:\n",
    "        steps=len(cdz)//100\n",
    "        cdz=cdz[::steps]\n",
    "    im=ax.imshow(np.array(cdz).T,origin='lower')\n",
    "    cbar=ax.figure.colorbar(im,fraction=0.046, pad=0.04, label=r'$\\Delta dz$')\n",
    "    cbar.formatter.set_powerlimits((0, 0))\n",
    "    plt.xlabel('iterations')\n",
    "    plt.ylabel('r(m)')\n",
    "    No=len(cdz[0])+1\n",
    "    y_positions=np.linspace(0,No,6)\n",
    "    step=No//5\n",
    "    y_labels=np.append(o_r[::step],o_r[-1])\n",
    "    ax.set_yticks(y_positions)\n",
    "    ax.set_yticklabels(['{:.3e}'.format(y) for y in y_labels])\n",
    "    \n",
    "    if n_iter>100:\n",
    "        x_positions=np.linspace(0,100,6)\n",
    "        x_labels=np.linspace(0,n_iter-1,6).astype(int)\n",
    "        ax.set_xticks(x_positions)\n",
    "        ax.set_xticklabels(['{:d}'.format(x) for x in x_labels])\n",
    "\n",
    "    plt.tight_layout()\n",
    "    plt.savefig(title+'_plot_cdz.png')\n",
    "    plt.show()"
   ]
  },
  {
   "cell_type": "code",
   "execution_count": 4,
   "id": "49667b8f",
   "metadata": {},
   "outputs": [],
   "source": [
    "def plot_diff(title,o_z,o_r,r,R):\n",
    "    oz=np.copy(o_z)*-1\n",
    "    fig, ax = plt.subplots(figsize=(12,10))\n",
    "    No=len(o_r)\n",
    "    start_o=oz[0]\n",
    "    end_o=create_starting_optic(r,R,k=-1,N=No)[1][1:]\n",
    "    #total_change=end_o+start_o[1:]\n",
    "    exp_o=np.tile(end_o,(len(o_z),1))\n",
    "    #print(exp_o[0])\n",
    "    oz[:,1:]+=exp_o\n",
    "    #oz[:,1:]/=total_change\n",
    "    #print(oz[0])\n",
    "    n_iter=len(oz)\n",
    "    if n_iter>100:\n",
    "        steps=len(oz)//100\n",
    "        oz=oz[::steps]\n",
    "\n",
    "    im=ax.imshow(np.array(oz).T,origin='lower')\n",
    "    cbar=ax.figure.colorbar(im,fraction=0.046, pad=0.04,label='K=-1 - current optic')\n",
    "    cbar.formatter.set_powerlimits((0, 0))\n",
    "    plt.xlabel('iterations')\n",
    "    plt.ylabel('r(m)')\n",
    "    step=No//5\n",
    "    y_positions=np.linspace(0,No,6)\n",
    "    y_labels=np.append(o_r[::step],o_r[-1])\n",
    "    ax.set_yticks(y_positions)\n",
    "    ax.set_yticklabels(['{:.3e}'.format(y) for y in y_labels])\n",
    "    \n",
    "    if n_iter>100:\n",
    "        x_positions=np.linspace(0,100,6)\n",
    "        x_labels=np.linspace(0,n_iter-1,6).astype(int)\n",
    "        ax.set_xticks(x_positions)\n",
    "        ax.set_xticklabels(['{:d}'.format(x) for x in x_labels])\n",
    "\n",
    "    plt.tight_layout()\n",
    "    plt.savefig(title + \"_plot_diff.png\")\n",
    "    plt.show()"
   ]
  },
  {
   "cell_type": "code",
   "execution_count": 34,
   "id": "737e53c4-f44d-4d9a-a211-ef379304a3ba",
   "metadata": {},
   "outputs": [],
   "source": [
    "def plot_rms(cost,title):\n",
    "    plt.figure(figsize=(15,10))\n",
    "    plt.plot(cost)\n",
    "    plt.xlabel('iterations')\n",
    "    plt.ylabel('rms')\n",
    "    plt.tight_layout()\n",
    "    plt.savefig(title+\"_plot_rms.png\")\n",
    "    #plt.show()\n",
    "    plt.close()"
   ]
  },
  {
   "cell_type": "code",
   "execution_count": 39,
   "id": "e95bf214-114c-4b60-a49c-d7604883eeb2",
   "metadata": {},
   "outputs": [],
   "source": [
    "def plot_after(after,title):\n",
    "    plt.figure(figsize=(15,10))\n",
    "    n_iter,n_rays=np.shape(after)\n",
    "    plt.plot(range(n_iter),after)\n",
    "    plt.xlabel('iterations')\n",
    "    plt.ylabel('r at expected focal length (m)')\n",
    "    plt.tight_layout()\n",
    "    plt.savefig(title+\"_plot_after.png\")\n",
    "    plt.close()"
   ]
  },
  {
   "cell_type": "code",
   "execution_count": 6,
   "id": "7c269a20",
   "metadata": {
    "tags": []
   },
   "outputs": [],
   "source": [
    "paths=[ f.path for f in os.scandir(\"/Users/gracekim/flying_focus/FF_rays/lr/\") if f.is_dir() ]\n",
    "# paths.remove('/Users/gracekim/flying_focus/FF_rays/.git')\n",
    "# paths.remove('/Users/gracekim/flying_focus/FF_rays/.ipynb_checkpoints')\n",
    "# paths.remove('/Users/gracekim/flying_focus/FF_rays/plots')\n",
    "paths.sort()"
   ]
  },
  {
   "cell_type": "code",
   "execution_count": 7,
   "id": "a2187275",
   "metadata": {},
   "outputs": [],
   "source": [
    "titles=[x.split('/')[-1] for x in paths]"
   ]
  },
  {
   "cell_type": "code",
   "execution_count": 38,
   "id": "6c7ebc9b",
   "metadata": {},
   "outputs": [
    {
     "ename": "ValueError",
     "evalue": "x and y must have same first dimension, but have shapes (100,) and (2000, 100)",
     "output_type": "error",
     "traceback": [
      "\u001b[0;31m---------------------------------------------------------------------------\u001b[0m",
      "\u001b[0;31mValueError\u001b[0m                                Traceback (most recent call last)",
      "Cell \u001b[0;32mIn [38], line 11\u001b[0m\n\u001b[1;32m      9\u001b[0m cost\u001b[38;5;241m=\u001b[39mnp\u001b[38;5;241m.\u001b[39mgenfromtxt(t\u001b[38;5;241m+\u001b[39m\u001b[38;5;124m'\u001b[39m\u001b[38;5;124m_cost.csv\u001b[39m\u001b[38;5;124m'\u001b[39m)\n\u001b[1;32m     10\u001b[0m after\u001b[38;5;241m=\u001b[39mnp\u001b[38;5;241m.\u001b[39mgenfromtxt(t\u001b[38;5;241m+\u001b[39m\u001b[38;5;124m'\u001b[39m\u001b[38;5;124m_after.csv\u001b[39m\u001b[38;5;124m'\u001b[39m)\n\u001b[0;32m---> 11\u001b[0m plot_after(after,t)\n",
      "Cell \u001b[0;32mIn [37], line 4\u001b[0m, in \u001b[0;36mplot_after\u001b[0;34m(after, title)\u001b[0m\n\u001b[1;32m      2\u001b[0m plt\u001b[38;5;241m.\u001b[39mfigure(figsize\u001b[38;5;241m=\u001b[39m(\u001b[38;5;241m15\u001b[39m,\u001b[38;5;241m10\u001b[39m))\n\u001b[1;32m      3\u001b[0m n_iter,n_rays\u001b[38;5;241m=\u001b[39mnp\u001b[38;5;241m.\u001b[39mshape(after)\n\u001b[0;32m----> 4\u001b[0m \u001b[43mplt\u001b[49m\u001b[38;5;241;43m.\u001b[39;49m\u001b[43mplot\u001b[49m\u001b[43m(\u001b[49m\u001b[38;5;28;43mrange\u001b[39;49m\u001b[43m(\u001b[49m\u001b[43mn_rays\u001b[49m\u001b[43m)\u001b[49m\u001b[43m,\u001b[49m\u001b[43mafter\u001b[49m\u001b[43m)\u001b[49m\n\u001b[1;32m      5\u001b[0m plt\u001b[38;5;241m.\u001b[39mxlabel(\u001b[38;5;124m'\u001b[39m\u001b[38;5;124miterations\u001b[39m\u001b[38;5;124m'\u001b[39m)\n\u001b[1;32m      6\u001b[0m plt\u001b[38;5;241m.\u001b[39mylabel(\u001b[38;5;124m'\u001b[39m\u001b[38;5;124mr at expected focal length (m)\u001b[39m\u001b[38;5;124m'\u001b[39m)\n",
      "File \u001b[0;32m~/miniconda3/envs/optic/lib/python3.10/site-packages/matplotlib/pyplot.py:2769\u001b[0m, in \u001b[0;36mplot\u001b[0;34m(scalex, scaley, data, *args, **kwargs)\u001b[0m\n\u001b[1;32m   2767\u001b[0m \u001b[38;5;129m@_copy_docstring_and_deprecators\u001b[39m(Axes\u001b[38;5;241m.\u001b[39mplot)\n\u001b[1;32m   2768\u001b[0m \u001b[38;5;28;01mdef\u001b[39;00m \u001b[38;5;21mplot\u001b[39m(\u001b[38;5;241m*\u001b[39margs, scalex\u001b[38;5;241m=\u001b[39m\u001b[38;5;28;01mTrue\u001b[39;00m, scaley\u001b[38;5;241m=\u001b[39m\u001b[38;5;28;01mTrue\u001b[39;00m, data\u001b[38;5;241m=\u001b[39m\u001b[38;5;28;01mNone\u001b[39;00m, \u001b[38;5;241m*\u001b[39m\u001b[38;5;241m*\u001b[39mkwargs):\n\u001b[0;32m-> 2769\u001b[0m     \u001b[38;5;28;01mreturn\u001b[39;00m \u001b[43mgca\u001b[49m\u001b[43m(\u001b[49m\u001b[43m)\u001b[49m\u001b[38;5;241;43m.\u001b[39;49m\u001b[43mplot\u001b[49m\u001b[43m(\u001b[49m\n\u001b[1;32m   2770\u001b[0m \u001b[43m        \u001b[49m\u001b[38;5;241;43m*\u001b[39;49m\u001b[43margs\u001b[49m\u001b[43m,\u001b[49m\u001b[43m \u001b[49m\u001b[43mscalex\u001b[49m\u001b[38;5;241;43m=\u001b[39;49m\u001b[43mscalex\u001b[49m\u001b[43m,\u001b[49m\u001b[43m \u001b[49m\u001b[43mscaley\u001b[49m\u001b[38;5;241;43m=\u001b[39;49m\u001b[43mscaley\u001b[49m\u001b[43m,\u001b[49m\n\u001b[1;32m   2771\u001b[0m \u001b[43m        \u001b[49m\u001b[38;5;241;43m*\u001b[39;49m\u001b[38;5;241;43m*\u001b[39;49m\u001b[43m(\u001b[49m\u001b[43m{\u001b[49m\u001b[38;5;124;43m\"\u001b[39;49m\u001b[38;5;124;43mdata\u001b[39;49m\u001b[38;5;124;43m\"\u001b[39;49m\u001b[43m:\u001b[49m\u001b[43m \u001b[49m\u001b[43mdata\u001b[49m\u001b[43m}\u001b[49m\u001b[43m \u001b[49m\u001b[38;5;28;43;01mif\u001b[39;49;00m\u001b[43m \u001b[49m\u001b[43mdata\u001b[49m\u001b[43m \u001b[49m\u001b[38;5;129;43;01mis\u001b[39;49;00m\u001b[43m \u001b[49m\u001b[38;5;129;43;01mnot\u001b[39;49;00m\u001b[43m \u001b[49m\u001b[38;5;28;43;01mNone\u001b[39;49;00m\u001b[43m \u001b[49m\u001b[38;5;28;43;01melse\u001b[39;49;00m\u001b[43m \u001b[49m\u001b[43m{\u001b[49m\u001b[43m}\u001b[49m\u001b[43m)\u001b[49m\u001b[43m,\u001b[49m\u001b[43m \u001b[49m\u001b[38;5;241;43m*\u001b[39;49m\u001b[38;5;241;43m*\u001b[39;49m\u001b[43mkwargs\u001b[49m\u001b[43m)\u001b[49m\n",
      "File \u001b[0;32m~/miniconda3/envs/optic/lib/python3.10/site-packages/matplotlib/axes/_axes.py:1632\u001b[0m, in \u001b[0;36mAxes.plot\u001b[0;34m(self, scalex, scaley, data, *args, **kwargs)\u001b[0m\n\u001b[1;32m   1390\u001b[0m \u001b[38;5;124;03m\"\"\"\u001b[39;00m\n\u001b[1;32m   1391\u001b[0m \u001b[38;5;124;03mPlot y versus x as lines and/or markers.\u001b[39;00m\n\u001b[1;32m   1392\u001b[0m \n\u001b[0;32m   (...)\u001b[0m\n\u001b[1;32m   1629\u001b[0m \u001b[38;5;124;03m(``'green'``) or hex strings (``'#008000'``).\u001b[39;00m\n\u001b[1;32m   1630\u001b[0m \u001b[38;5;124;03m\"\"\"\u001b[39;00m\n\u001b[1;32m   1631\u001b[0m kwargs \u001b[38;5;241m=\u001b[39m cbook\u001b[38;5;241m.\u001b[39mnormalize_kwargs(kwargs, mlines\u001b[38;5;241m.\u001b[39mLine2D)\n\u001b[0;32m-> 1632\u001b[0m lines \u001b[38;5;241m=\u001b[39m [\u001b[38;5;241m*\u001b[39m\u001b[38;5;28mself\u001b[39m\u001b[38;5;241m.\u001b[39m_get_lines(\u001b[38;5;241m*\u001b[39margs, data\u001b[38;5;241m=\u001b[39mdata, \u001b[38;5;241m*\u001b[39m\u001b[38;5;241m*\u001b[39mkwargs)]\n\u001b[1;32m   1633\u001b[0m \u001b[38;5;28;01mfor\u001b[39;00m line \u001b[38;5;129;01min\u001b[39;00m lines:\n\u001b[1;32m   1634\u001b[0m     \u001b[38;5;28mself\u001b[39m\u001b[38;5;241m.\u001b[39madd_line(line)\n",
      "File \u001b[0;32m~/miniconda3/envs/optic/lib/python3.10/site-packages/matplotlib/axes/_base.py:312\u001b[0m, in \u001b[0;36m_process_plot_var_args.__call__\u001b[0;34m(self, data, *args, **kwargs)\u001b[0m\n\u001b[1;32m    310\u001b[0m     this \u001b[38;5;241m+\u001b[39m\u001b[38;5;241m=\u001b[39m args[\u001b[38;5;241m0\u001b[39m],\n\u001b[1;32m    311\u001b[0m     args \u001b[38;5;241m=\u001b[39m args[\u001b[38;5;241m1\u001b[39m:]\n\u001b[0;32m--> 312\u001b[0m \u001b[38;5;28;01myield from\u001b[39;00m \u001b[38;5;28;43mself\u001b[39;49m\u001b[38;5;241;43m.\u001b[39;49m\u001b[43m_plot_args\u001b[49m\u001b[43m(\u001b[49m\u001b[43mthis\u001b[49m\u001b[43m,\u001b[49m\u001b[43m \u001b[49m\u001b[43mkwargs\u001b[49m\u001b[43m)\u001b[49m\n",
      "File \u001b[0;32m~/miniconda3/envs/optic/lib/python3.10/site-packages/matplotlib/axes/_base.py:498\u001b[0m, in \u001b[0;36m_process_plot_var_args._plot_args\u001b[0;34m(self, tup, kwargs, return_kwargs)\u001b[0m\n\u001b[1;32m    495\u001b[0m     \u001b[38;5;28mself\u001b[39m\u001b[38;5;241m.\u001b[39maxes\u001b[38;5;241m.\u001b[39myaxis\u001b[38;5;241m.\u001b[39mupdate_units(y)\n\u001b[1;32m    497\u001b[0m \u001b[38;5;28;01mif\u001b[39;00m x\u001b[38;5;241m.\u001b[39mshape[\u001b[38;5;241m0\u001b[39m] \u001b[38;5;241m!=\u001b[39m y\u001b[38;5;241m.\u001b[39mshape[\u001b[38;5;241m0\u001b[39m]:\n\u001b[0;32m--> 498\u001b[0m     \u001b[38;5;28;01mraise\u001b[39;00m \u001b[38;5;167;01mValueError\u001b[39;00m(\u001b[38;5;124mf\u001b[39m\u001b[38;5;124m\"\u001b[39m\u001b[38;5;124mx and y must have same first dimension, but \u001b[39m\u001b[38;5;124m\"\u001b[39m\n\u001b[1;32m    499\u001b[0m                      \u001b[38;5;124mf\u001b[39m\u001b[38;5;124m\"\u001b[39m\u001b[38;5;124mhave shapes \u001b[39m\u001b[38;5;132;01m{\u001b[39;00mx\u001b[38;5;241m.\u001b[39mshape\u001b[38;5;132;01m}\u001b[39;00m\u001b[38;5;124m and \u001b[39m\u001b[38;5;132;01m{\u001b[39;00my\u001b[38;5;241m.\u001b[39mshape\u001b[38;5;132;01m}\u001b[39;00m\u001b[38;5;124m\"\u001b[39m)\n\u001b[1;32m    500\u001b[0m \u001b[38;5;28;01mif\u001b[39;00m x\u001b[38;5;241m.\u001b[39mndim \u001b[38;5;241m>\u001b[39m \u001b[38;5;241m2\u001b[39m \u001b[38;5;129;01mor\u001b[39;00m y\u001b[38;5;241m.\u001b[39mndim \u001b[38;5;241m>\u001b[39m \u001b[38;5;241m2\u001b[39m:\n\u001b[1;32m    501\u001b[0m     \u001b[38;5;28;01mraise\u001b[39;00m \u001b[38;5;167;01mValueError\u001b[39;00m(\u001b[38;5;124mf\u001b[39m\u001b[38;5;124m\"\u001b[39m\u001b[38;5;124mx and y can be no greater than 2D, but have \u001b[39m\u001b[38;5;124m\"\u001b[39m\n\u001b[1;32m    502\u001b[0m                      \u001b[38;5;124mf\u001b[39m\u001b[38;5;124m\"\u001b[39m\u001b[38;5;124mshapes \u001b[39m\u001b[38;5;132;01m{\u001b[39;00mx\u001b[38;5;241m.\u001b[39mshape\u001b[38;5;132;01m}\u001b[39;00m\u001b[38;5;124m and \u001b[39m\u001b[38;5;132;01m{\u001b[39;00my\u001b[38;5;241m.\u001b[39mshape\u001b[38;5;132;01m}\u001b[39;00m\u001b[38;5;124m\"\u001b[39m)\n",
      "\u001b[0;31mValueError\u001b[0m: x and y must have same first dimension, but have shapes (100,) and (2000, 100)"
     ]
    },
    {
     "data": {
      "image/png": "[encoded data removed]",
      "text/plain": [
       "<Figure size 1500x1000 with 1 Axes>"
      ]
     },
     "metadata": {},
     "output_type": "display_data"
    }
   ],
   "source": [
    "p=paths[0]\n",
    "t=titles[0]\n",
    "os.chdir(p)\n",
    "cdz=np.genfromtxt(t+'_cdz.csv')\n",
    "o_r=np.genfromtxt(t+'_o_r.csv')\n",
    "o_z=np.genfromtxt(t+'_o_z.csv')\n",
    "eo=create_starting_optic(0.0375,0.1125,k=-1,N=100)\n",
    "so=create_starting_optic(0.0375,0.1125,k=-0.5,N=100)\n",
    "cost=np.genfromtxt(t+'_cost.csv')\n",
    "after=np.genfromtxt(t+'_after.csv')\n",
    "plot_after(after,t)\n",
    "#plot_rms(cost,t)\n",
    "#print(o_z[0]-eo[1])\n",
    "#plot_cdz(t,cdz)\n",
    "#plot_diff(t,o_z,o_r,0.0375,0.1125)"
   ]
  },
  {
   "cell_type": "code",
   "execution_count": 8,
   "id": "e3352cbe",
   "metadata": {},
   "outputs": [
    {
     "data": {
      "text/plain": [
       "10"
      ]
     },
     "execution_count": 8,
     "metadata": {},
     "output_type": "execute_result"
    }
   ],
   "source": [
    "len(cdz)//100"
   ]
  },
  {
   "cell_type": "code",
   "execution_count": 36,
   "id": "a2fb1a9f",
   "metadata": {
    "tags": []
   },
   "outputs": [],
   "source": [
    "for t,p in zip(titles,paths):\n",
    "    os.chdir(p)\n",
    "    # cdz=np.genfromtxt(t+'_cdz.csv')\n",
    "    # o_r=np.genfromtxt(t+'_o_r.csv')    \n",
    "    # o_z=np.genfromtxt(t+'_o_z.csv')\n",
    "    after=np.genfromtxt(t+'_after.csv')\n",
    "    grads=np.genfromtxt(t+'_grads.csv')\n",
    "    cost=np.genfromtxt(t+'_cost.csv')\n",
    "    # plot_cdz(t,cdz)\n",
    "    # plot_diff(t,o_z,o_r,0.0375,0.1125)\n",
    "    plot_rms(cost,t)\n",
    "    plot_after(after,t)"
   ]
  },
  {
   "cell_type": "code",
   "execution_count": null,
   "id": "3c7658aa",
   "metadata": {},
   "outputs": [],
   "source": []
  },
  {
   "cell_type": "code",
   "execution_count": null,
   "id": "dfa6cf92",
   "metadata": {},
   "outputs": [],
   "source": []
  }
 ],
 "metadata": {
  "kernelspec": {
   "display_name": "Python 3 (ipykernel)",
   "language": "python",
   "name": "python3"
  },
  "language_info": {
   "codemirror_mode": {
    "name": "ipython",
    "version": 3
   },
   "file_extension": ".py",
   "mimetype": "text/x-python",
   "name": "python",
   "nbconvert_exporter": "python",
   "pygments_lexer": "ipython3",
   "version": "3.10.4"
  }
 },
 "nbformat": 4,
 "nbformat_minor": 5
}
