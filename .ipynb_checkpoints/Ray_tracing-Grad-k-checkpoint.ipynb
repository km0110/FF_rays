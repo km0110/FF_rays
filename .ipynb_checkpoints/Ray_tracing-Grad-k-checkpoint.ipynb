{
 "cells": [
  {
   "cell_type": "code",
   "execution_count": 1,
   "metadata": {},
   "outputs": [],
   "source": [
    "import numpy as np\n",
    "from scipy.interpolate import CubicSpline\n",
    "import matplotlib.pyplot as plt\n",
    "font = {'family' : 'normal',\n",
    "        'size'   : 12}\n",
    "\n",
    "plt.rc('font', **font)"
   ]
  },
  {
   "cell_type": "markdown",
   "metadata": {},
   "source": [
    "## Creating the initial optic\n",
    "\n",
    "We start with creating a conical lens defaulted to be a parabola (k=-1) with N=1000 points to span the space of the top half of the lens. One can start with other conical shapes by inputting the corresponding k value. The inputs are `thick` or the thickness of the lens and `R` which is the radius of curvature. The code only simulates the top half of the optic due to the assumption that the surface is cylindrically symmetric. The equation of the optic is derived from the equation for a conic section with the apex at the origin and solving for r:\n",
    "\n",
    "\\begin{align}\n",
    "    r^2-2Rz+(K+1)z^2=0\\\\\n",
    "    r=\\sqrt{2Rz+(K+1)z^2}\n",
    "\\end{align}\n",
    "\n",
    "One can plug in:\n",
    "- k=-1 for parabola\n",
    "- k=0 for spherical\n",
    "- k>0 for oblate ellipse\n",
    "- 0>K>−1 for prolate ellipse\n",
    "- k<-1 for hyperbola\n",
    "\n",
    "When plugging in the the values for `thick` and `R` one should keep in mind the thin lens approximation where the thickness << R"
   ]
  },
  {
   "cell_type": "code",
   "execution_count": 2,
   "metadata": {},
   "outputs": [],
   "source": [
    "def create_starting_optic(thick,R,k=-1,N=100):\n",
    "    z=np.geomspace(1e-6,thick,N) #solves the problem of not having enough points close to the origin\n",
    "    r=np.sqrt(2*R*z-(k+1)*z**2) \n",
    "    optic=np.array([z,r])\n",
    "    return optic"
   ]
  },
  {
   "cell_type": "markdown",
   "metadata": {},
   "source": [
    "## Finding the slope for refraction/reflection\n",
    "\n",
    "The goal of this is to find the normal to any shaped surface. The normal slope will be 1/m for reflected and -1/m for refracted where m is the tangent/slope of the surface at that point"
   ]
  },
  {
   "cell_type": "code",
   "execution_count": 3,
   "metadata": {},
   "outputs": [],
   "source": [
    "def find_local_eq(r,optic,N=1000):\n",
    "    # first find nearest point in the lens array to where the ray r intersects\n",
    "    z=optic[0]\n",
    "    opt=optic[1]\n",
    "    index=np.abs(opt-r).argmin()\n",
    "    \n",
    "    # isolate a few points around the closest index (look into how many points we actually want)\n",
    "    lower=index-5\n",
    "    upper=index+5\n",
    "        \n",
    "    local_z=np.array(z[lower:upper])\n",
    "    local_opt=np.array(opt[lower:upper])-r\n",
    "    \n",
    "    # Use cubic spline to interpolate the local points\n",
    "    cs=CubicSpline(local_z,local_opt)\n",
    "    zs=np.linspace(local_z[0],local_z[-1],N)\n",
    "    return zs,cs"
   ]
  },
  {
   "cell_type": "code",
   "execution_count": 4,
   "metadata": {},
   "outputs": [],
   "source": [
    "def find_norm(z,cs):\n",
    "    # find the normal to the surface\n",
    "    tang=cs(z,1) # 1st derivative of the spline at point z\n",
    "    norm=-1/tang\n",
    "    return norm"
   ]
  },
  {
   "cell_type": "markdown",
   "metadata": {},
   "source": [
    "`find_reflect_slope` takes the given normal slope to calculate the angle 2$\\theta$ where $\\theta$ is the angle that the incoming ray makes with the normal to the surface. "
   ]
  },
  {
   "cell_type": "code",
   "execution_count": 5,
   "metadata": {},
   "outputs": [],
   "source": [
    "def find_reflect_slope(norm):\n",
    "    theta=np.arctan(norm)\n",
    "    slope=np.tan(2*theta)\n",
    "    return slope"
   ]
  },
  {
   "cell_type": "markdown",
   "metadata": {},
   "source": [
    "`find__refract_slope` finds the slope of the ray after it refracts off of the surface. `norm` is the normal of the surface and is used to find the angle $\\phi_1$ which is the angle between the incident ray and the normal of the surface. This function returns the slope of the ray that refracts after encountering the surface using Snell's law "
   ]
  },
  {
   "cell_type": "code",
   "execution_count": 6,
   "metadata": {},
   "outputs": [],
   "source": [
    "def find_refract_slope(norm,n1,n2):\n",
    "    phi1=np.arctan(norm)\n",
    "    sinphi2=n1*np.sin(phi1)/n2\n",
    "    phi2=np.arcsin(sinphi2)\n",
    "    theta=phi1-phi2\n",
    "    slope=np.tan(theta)\n",
    "    return slope"
   ]
  },
  {
   "cell_type": "markdown",
   "metadata": {},
   "source": [
    "## Raytracing\n",
    "\n",
    "Now that we have the algorithm to find the slope normal to the surface we can simulate the ray propagation. We only need to calculate for two points:where the ray meets the surface the optic and where the ray crosses the optical axis. Additional functionality can be added later for multiple optics. Also need to change the input rays to be ray vectors instead. This code does both refraction and reflection."
   ]
  },
  {
   "cell_type": "code",
   "execution_count": 7,
   "metadata": {},
   "outputs": [],
   "source": [
    "def raytrace(optic, Nr=7, refract=False):\n",
    "    #create the starting rays\n",
    "    opt=optic[1]\n",
    "    # make sure that the rays are bounded \n",
    "    r_min=opt[5]\n",
    "    r_max=opt[-10]\n",
    "    \n",
    "    rays=np.linspace(r_min,r_max,Nr) #confine the rays to the diameter of the optic\n",
    "    rays[rays==0]=1e-9 # if r=0 exists set to small value so we don't get infinity values\n",
    "    raymatrix=[] # 3 points: before, at, after the optic\n",
    "    after=[]\n",
    "    for r in rays:\n",
    "        zs,cs=find_local_eq(r,optic)\n",
    "        z_optic=cs.roots()\n",
    "        if len(z_optic)>1:\n",
    "            print('Warning: multiple intersections with lens found') # many roots are usually found near r=0\n",
    "        \n",
    "        norm=find_norm(z_optic[0],cs)\n",
    "        slope=find_refract_slope(norm,1,3) if refract else find_reflect_slope(norm)\n",
    "        z_after=(-r/slope+z_optic[0]) # This is where the ray should intersect the z axis\n",
    "        z_bef=-1 if refract else z_after*1.5 # change this so that z_bef all starts at the same z value\n",
    "        z_ray=[z_bef,z_optic[0],z_after]\n",
    "        r_ray=[r,r,0]            \n",
    "        raymatrix.append([z_ray,r_ray])\n",
    "        after.append(z_after)\n",
    "        #np.concatenate(raymatrix)\n",
    "    return np.array(raymatrix),np.array(after)"
   ]
  },
  {
   "cell_type": "code",
   "execution_count": 8,
   "metadata": {},
   "outputs": [],
   "source": [
    "def plot(optic,raymatrix,exp_f,title, lambda0=None, norm=False,savefig=False):\n",
    "    #first plot the optic:\n",
    "    plt.figure(figsize=(15,10))\n",
    "    opt_z=optic[0] if not norm else optic[0]/lambda0\n",
    "    opt_r=optic[1] if not norm else optic[1]/lambda0\n",
    "    plt.plot(opt_z,opt_r,'b',opt_z,-1*opt_r,'b')\n",
    "    exp_freq=exp_f if not norm else exp_f/lambda0\n",
    "    plt.axvline(x=exp_freq, color='k', linestyle='--')\n",
    "    #Then plot the rays:\n",
    "    for ray in raymatrix:\n",
    "        ray_z=ray[0] if not norm else ray[0]/lambda0\n",
    "        ray_r=ray[1] if not norm else ray[1]/lambda0\n",
    "        plt.plot(ray_z,ray_r,'r',ray_z,-1*ray_r,'r')\n",
    "        \n",
    "    xl='z (m)' if not norm else 'z/lambda'\n",
    "    yl='r (m)' if not norm else 'r/lambda'\n",
    "    plt.xlabel(xl)\n",
    "    plt.ylabel(yl)\n",
    "    plt.title(title)\n",
    "    if savefig:\n",
    "        plt.savefig(title+\".png\")\n",
    "    plt.show()\n"
   ]
  },
  {
   "cell_type": "markdown",
   "metadata": {},
   "source": [
    "## `create_hist`\n",
    "Creates a histogram of where the rays meet on the z axis after the ray encounters the optic. The function uses [Sturge's Formula](https://en.wikipedia.org/wiki/Histogram#Sturges'_formula) to calculate the number of bins. We use the Rayleigh criterion as the bin width: $\\Delta\\theta = 1.22\\lambda/D$ \n",
    "\n",
    "$1.22 f\\#*\\lambda$ \n",
    "\n",
    "$f\\#=f/D$\n",
    "where $\\lambda$ is the wavelength and $D$ is the diameter of the optic. This is calculated with the function `calc_bw`. This function also rounds to the nearest 6th decimal by default which corresponds to the nearest micrometer for the physical case we've defined later in this notebook.  We set the bin number to be odd so that we have the expected focal length bin always as our center bar (this may need to be altered). We set the range as the $[f_{exp} - \\frac{1}{2}k \\Delta\\theta, f_{exp} + \\frac{1}{2}k\\Delta\\theta]$. \n",
    "\n",
    "7/5/22\n",
    "\n",
    "We've decided to instead use fractions of the Rayleigh Length $z_R=\\frac{\\pi w_0^2}{\\lambda}=1/2 k w_0^2$"
   ]
  },
  {
   "cell_type": "code",
   "execution_count": 9,
   "metadata": {},
   "outputs": [],
   "source": [
    "def calc_bw(lambda0,diam,dec=6):\n",
    "    ang_res= 1.22*lambda0/diam # The bin width is set as the minimum resolution \n",
    "    return np.around(ang_res,dec) "
   ]
  },
  {
   "cell_type": "code",
   "execution_count": 10,
   "metadata": {},
   "outputs": [],
   "source": [
    "def create_hist(rays_after,exp_f, bin_width, plot=False, lambda0=None, norm=False, savefig=False):\n",
    "    n=len(rays_after)    \n",
    "    #make k odd so that we have even number of bin below and above the expected focal value\n",
    "    k=int(np.ceil(np.log2(n)))+1\n",
    "    if k%2==0:\n",
    "        k+=1\n",
    "    \n",
    "    bw=bin_width if not norm else bin_width/lambda0\n",
    "    exp_freq=exp_f if not norm else exp_f/lambda0\n",
    "    bin_low=exp_freq-bw*(0.5*k)\n",
    "    bin_high=exp_freq+bw*(0.5*k)\n",
    "    \n",
    "    bins=np.linspace(bin_low,bin_high,k+1)\n",
    "    \n",
    "    rays = rays_after if not norm else rays_after/lambda0\n",
    "    #hist=np.histogram(rays,bins)\n",
    "    hist,bin_range=np.histogram(rays,bins)\n",
    "\n",
    "    #plots the histogram\n",
    "    if plot:\n",
    "        fig,ax=plt.subplots(figsize=(15,10))\n",
    "        ax.hist(rays,bins)\n",
    "        xl='z (m)' if not norm else 'z/lambda'\n",
    "        ax.set_xlabel(xl)\n",
    "        ax.ticklabel_format(useOffset=False)\n",
    "        ax.set_xticks(bins)\n",
    "        title=\"Expected f: %f m\" % (exp_f)\n",
    "        ax.set_title(title)\n",
    "        if savefig:\n",
    "            plt.savefig(title+\"_hist.png\")\n",
    "\n",
    "        plt.show()\n",
    "    \n",
    "    h=np.array(hist)\n",
    "    return h"
   ]
  },
  {
   "cell_type": "markdown",
   "metadata": {},
   "source": [
    "## The cost function\n",
    "\n",
    "The cost function is the chi-square goodness-of-fit test which is shown below:\n",
    "\n",
    "\\begin{equation}\n",
    "    \\chi^2=\\sum_{i=1}^{k}(O_i-E_i)^2\n",
    "\\end{equation}\n",
    "\n",
    "where $O_i$ is the observed frequency for bin $i$ and $E_i$ is the expected frequency for bin $i$. For our case we want to have all of our rays meet at the same point i.e have them all in the same bin. Therefore, the expected frequency for all of the non zero bins will be the total number of rays. We will need to minimize the chi-square value in order to get the optimal optic. \n",
    "\n",
    "The cost function may need to have additional terms to include the parameters we wish to optimize\n",
    "\n",
    "7/5/22 \n",
    "- Number of rays within the histogram. Right now, we have it such that not all the rays end up in the histogram because of the range we have defined so one of the metrics can be the number of rays we want to end up in the histogram itself. We can use this to quickly descend to the desired k (around -1) and then have the chi-square further narrow it down accurately. "
   ]
  },
  {
   "cell_type": "code",
   "execution_count": 11,
   "metadata": {},
   "outputs": [],
   "source": [
    "def chi_square(hist):\n",
    "    nr=np.sum(hist)\n",
    "    Oi=hist/nr\n",
    "    Ei=np.zeros(len(hist))\n",
    "    index=int(np.floor(len(hist)/2))\n",
    "    Ei[index]=1 #nr\n",
    "    chi_square=np.sum((Oi-Ei)**2)\n",
    "    return chi_square"
   ]
  },
  {
   "cell_type": "code",
   "execution_count": 12,
   "metadata": {},
   "outputs": [],
   "source": [
    "def cost_function(hist,alpha,Nr):\n",
    "    return chi_square(hist)+alpha*(Nr-np.sum(hist))/Nr"
   ]
  },
  {
   "cell_type": "code",
   "execution_count": 13,
   "metadata": {},
   "outputs": [],
   "source": [
    "def run_raytrace(k,thick,roc,exp_f,Nr):\n",
    "    o=create_starting_optic(thick,roc,k=k)\n",
    "    rm,af=raytrace(o,refract=False,Nr=Nr)\n",
    "    lambda0=1.054e-6 #m\n",
    "    diam=0.075 #m\n",
    "    bw=calc_bw(lambda0,diam)\n",
    "    hist=create_hist(af,exp_f,bw*10)\n",
    "    h=np.array(hist)\n",
    "    return h"
   ]
  },
  {
   "cell_type": "markdown",
   "metadata": {},
   "source": [
    "# Gradient\n",
    "\n",
    "Uses the central difference formula which has an error of $O(\\Delta k^2)$"
   ]
  },
  {
   "cell_type": "code",
   "execution_count": 14,
   "metadata": {},
   "outputs": [],
   "source": [
    "def grad(k,Del_k,alpha,thick,roc,exp_f,Nr):\n",
    "#     chi1=2\n",
    "#     chi2=1\n",
    "#     while np.abs(chi2-chi1)>1e-3:\n",
    "    h1=run_raytrace(k-Del_k,thick,roc,exp_f,Nr)\n",
    "    h2=run_raytrace(k+Del_k,thick,roc,exp_f,Nr)\n",
    "    c1=cost_function(h1,alpha,Nr)\n",
    "    c2=cost_function(h2,alpha,Nr)\n",
    "    return (c2-c1)/(2*Del_k)"
   ]
  },
  {
   "cell_type": "markdown",
   "metadata": {},
   "source": [
    "## Testing for the gradient steps"
   ]
  },
  {
   "cell_type": "code",
   "execution_count": 15,
   "metadata": {},
   "outputs": [],
   "source": [
    "cost=[]\n",
    "for k in np.linspace(-1.5,-0.5,500):\n",
    "    h=run_raytrace(k,0.064,0.1125,0.05625,1000)\n",
    "    cost.append(cost_function(h,1,1000))"
   ]
  },
  {
   "cell_type": "code",
   "execution_count": 16,
   "metadata": {},
   "outputs": [
    {
     "ename": "KeyboardInterrupt",
     "evalue": "",
     "output_type": "error",
     "traceback": [
      "\u001b[0;31m---------------------------------------------------------------------------\u001b[0m",
      "\u001b[0;31mKeyboardInterrupt\u001b[0m                         Traceback (most recent call last)",
      "\u001b[0;32m<ipython-input-16-b3ec317d5220>\u001b[0m in \u001b[0;36m<module>\u001b[0;34m\u001b[0m\n\u001b[1;32m      2\u001b[0m \u001b[0mnr\u001b[0m\u001b[0;34m=\u001b[0m\u001b[0;34m[\u001b[0m\u001b[0;34m]\u001b[0m\u001b[0;34m\u001b[0m\u001b[0;34m\u001b[0m\u001b[0m\n\u001b[1;32m      3\u001b[0m \u001b[0;32mfor\u001b[0m \u001b[0mk\u001b[0m \u001b[0;32min\u001b[0m \u001b[0mnp\u001b[0m\u001b[0;34m.\u001b[0m\u001b[0mlinspace\u001b[0m\u001b[0;34m(\u001b[0m\u001b[0;34m-\u001b[0m\u001b[0;36m1.2\u001b[0m\u001b[0;34m,\u001b[0m\u001b[0;34m-\u001b[0m\u001b[0;36m0.8\u001b[0m\u001b[0;34m,\u001b[0m\u001b[0;36m100\u001b[0m\u001b[0;34m)\u001b[0m\u001b[0;34m:\u001b[0m\u001b[0;34m\u001b[0m\u001b[0;34m\u001b[0m\u001b[0m\n\u001b[0;32m----> 4\u001b[0;31m     \u001b[0mh\u001b[0m\u001b[0;34m=\u001b[0m\u001b[0mrun_raytrace\u001b[0m\u001b[0;34m(\u001b[0m\u001b[0mk\u001b[0m\u001b[0;34m,\u001b[0m\u001b[0;36m0.064\u001b[0m\u001b[0;34m,\u001b[0m\u001b[0;36m0.1125\u001b[0m\u001b[0;34m,\u001b[0m\u001b[0;36m0.05625\u001b[0m\u001b[0;34m,\u001b[0m\u001b[0;36m1000\u001b[0m\u001b[0;34m)\u001b[0m\u001b[0;34m\u001b[0m\u001b[0;34m\u001b[0m\u001b[0m\n\u001b[0m\u001b[1;32m      5\u001b[0m     \u001b[0mchis\u001b[0m\u001b[0;34m.\u001b[0m\u001b[0mappend\u001b[0m\u001b[0;34m(\u001b[0m\u001b[0mchi_square\u001b[0m\u001b[0;34m(\u001b[0m\u001b[0mh\u001b[0m\u001b[0;34m)\u001b[0m\u001b[0;34m)\u001b[0m\u001b[0;34m\u001b[0m\u001b[0;34m\u001b[0m\u001b[0m\n\u001b[1;32m      6\u001b[0m     \u001b[0mnr\u001b[0m\u001b[0;34m.\u001b[0m\u001b[0mappend\u001b[0m\u001b[0;34m(\u001b[0m\u001b[0mnp\u001b[0m\u001b[0;34m.\u001b[0m\u001b[0msum\u001b[0m\u001b[0;34m(\u001b[0m\u001b[0mh\u001b[0m\u001b[0;34m)\u001b[0m\u001b[0;34m)\u001b[0m\u001b[0;34m\u001b[0m\u001b[0;34m\u001b[0m\u001b[0m\n",
      "\u001b[0;32m<ipython-input-13-020cb7810341>\u001b[0m in \u001b[0;36mrun_raytrace\u001b[0;34m(k, thick, roc, exp_f, Nr)\u001b[0m\n\u001b[1;32m      1\u001b[0m \u001b[0;32mdef\u001b[0m \u001b[0mrun_raytrace\u001b[0m\u001b[0;34m(\u001b[0m\u001b[0mk\u001b[0m\u001b[0;34m,\u001b[0m\u001b[0mthick\u001b[0m\u001b[0;34m,\u001b[0m\u001b[0mroc\u001b[0m\u001b[0;34m,\u001b[0m\u001b[0mexp_f\u001b[0m\u001b[0;34m,\u001b[0m\u001b[0mNr\u001b[0m\u001b[0;34m)\u001b[0m\u001b[0;34m:\u001b[0m\u001b[0;34m\u001b[0m\u001b[0;34m\u001b[0m\u001b[0m\n\u001b[1;32m      2\u001b[0m     \u001b[0mo\u001b[0m\u001b[0;34m=\u001b[0m\u001b[0mcreate_starting_optic\u001b[0m\u001b[0;34m(\u001b[0m\u001b[0mthick\u001b[0m\u001b[0;34m,\u001b[0m\u001b[0mroc\u001b[0m\u001b[0;34m,\u001b[0m\u001b[0mk\u001b[0m\u001b[0;34m=\u001b[0m\u001b[0mk\u001b[0m\u001b[0;34m)\u001b[0m\u001b[0;34m\u001b[0m\u001b[0;34m\u001b[0m\u001b[0m\n\u001b[0;32m----> 3\u001b[0;31m     \u001b[0mrm\u001b[0m\u001b[0;34m,\u001b[0m\u001b[0maf\u001b[0m\u001b[0;34m=\u001b[0m\u001b[0mraytrace\u001b[0m\u001b[0;34m(\u001b[0m\u001b[0mo\u001b[0m\u001b[0;34m,\u001b[0m\u001b[0mrefract\u001b[0m\u001b[0;34m=\u001b[0m\u001b[0;32mFalse\u001b[0m\u001b[0;34m,\u001b[0m\u001b[0mNr\u001b[0m\u001b[0;34m=\u001b[0m\u001b[0mNr\u001b[0m\u001b[0;34m)\u001b[0m\u001b[0;34m\u001b[0m\u001b[0;34m\u001b[0m\u001b[0m\n\u001b[0m\u001b[1;32m      4\u001b[0m     \u001b[0mlambda0\u001b[0m\u001b[0;34m=\u001b[0m\u001b[0;36m1.054e-6\u001b[0m \u001b[0;31m#m\u001b[0m\u001b[0;34m\u001b[0m\u001b[0;34m\u001b[0m\u001b[0m\n\u001b[1;32m      5\u001b[0m     \u001b[0mdiam\u001b[0m\u001b[0;34m=\u001b[0m\u001b[0;36m0.075\u001b[0m \u001b[0;31m#m\u001b[0m\u001b[0;34m\u001b[0m\u001b[0;34m\u001b[0m\u001b[0m\n",
      "\u001b[0;32m<ipython-input-7-a97f680a3251>\u001b[0m in \u001b[0;36mraytrace\u001b[0;34m(optic, Nr, refract)\u001b[0m\n\u001b[1;32m     11\u001b[0m     \u001b[0mafter\u001b[0m\u001b[0;34m=\u001b[0m\u001b[0;34m[\u001b[0m\u001b[0;34m]\u001b[0m\u001b[0;34m\u001b[0m\u001b[0;34m\u001b[0m\u001b[0m\n\u001b[1;32m     12\u001b[0m     \u001b[0;32mfor\u001b[0m \u001b[0mr\u001b[0m \u001b[0;32min\u001b[0m \u001b[0mrays\u001b[0m\u001b[0;34m:\u001b[0m\u001b[0;34m\u001b[0m\u001b[0;34m\u001b[0m\u001b[0m\n\u001b[0;32m---> 13\u001b[0;31m         \u001b[0mzs\u001b[0m\u001b[0;34m,\u001b[0m\u001b[0mcs\u001b[0m\u001b[0;34m=\u001b[0m\u001b[0mfind_local_eq\u001b[0m\u001b[0;34m(\u001b[0m\u001b[0mr\u001b[0m\u001b[0;34m,\u001b[0m\u001b[0moptic\u001b[0m\u001b[0;34m)\u001b[0m\u001b[0;34m\u001b[0m\u001b[0;34m\u001b[0m\u001b[0m\n\u001b[0m\u001b[1;32m     14\u001b[0m         \u001b[0mz_optic\u001b[0m\u001b[0;34m=\u001b[0m\u001b[0mcs\u001b[0m\u001b[0;34m.\u001b[0m\u001b[0mroots\u001b[0m\u001b[0;34m(\u001b[0m\u001b[0;34m)\u001b[0m\u001b[0;34m\u001b[0m\u001b[0;34m\u001b[0m\u001b[0m\n\u001b[1;32m     15\u001b[0m         \u001b[0;32mif\u001b[0m \u001b[0mlen\u001b[0m\u001b[0;34m(\u001b[0m\u001b[0mz_optic\u001b[0m\u001b[0;34m)\u001b[0m\u001b[0;34m>\u001b[0m\u001b[0;36m1\u001b[0m\u001b[0;34m:\u001b[0m\u001b[0;34m\u001b[0m\u001b[0;34m\u001b[0m\u001b[0m\n",
      "\u001b[0;32m<ipython-input-3-1f95742898e5>\u001b[0m in \u001b[0;36mfind_local_eq\u001b[0;34m(r, optic, N)\u001b[0m\n\u001b[1;32m     13\u001b[0m \u001b[0;34m\u001b[0m\u001b[0m\n\u001b[1;32m     14\u001b[0m     \u001b[0;31m# Use cubic spline to interpolate the local points\u001b[0m\u001b[0;34m\u001b[0m\u001b[0;34m\u001b[0m\u001b[0;34m\u001b[0m\u001b[0m\n\u001b[0;32m---> 15\u001b[0;31m     \u001b[0mcs\u001b[0m\u001b[0;34m=\u001b[0m\u001b[0mCubicSpline\u001b[0m\u001b[0;34m(\u001b[0m\u001b[0mlocal_z\u001b[0m\u001b[0;34m,\u001b[0m\u001b[0mlocal_opt\u001b[0m\u001b[0;34m)\u001b[0m\u001b[0;34m\u001b[0m\u001b[0;34m\u001b[0m\u001b[0m\n\u001b[0m\u001b[1;32m     16\u001b[0m     \u001b[0mzs\u001b[0m\u001b[0;34m=\u001b[0m\u001b[0mnp\u001b[0m\u001b[0;34m.\u001b[0m\u001b[0mlinspace\u001b[0m\u001b[0;34m(\u001b[0m\u001b[0mlocal_z\u001b[0m\u001b[0;34m[\u001b[0m\u001b[0;36m0\u001b[0m\u001b[0;34m]\u001b[0m\u001b[0;34m,\u001b[0m\u001b[0mlocal_z\u001b[0m\u001b[0;34m[\u001b[0m\u001b[0;34m-\u001b[0m\u001b[0;36m1\u001b[0m\u001b[0;34m]\u001b[0m\u001b[0;34m,\u001b[0m\u001b[0mN\u001b[0m\u001b[0;34m)\u001b[0m\u001b[0;34m\u001b[0m\u001b[0;34m\u001b[0m\u001b[0m\n\u001b[1;32m     17\u001b[0m     \u001b[0;32mreturn\u001b[0m \u001b[0mzs\u001b[0m\u001b[0;34m,\u001b[0m\u001b[0mcs\u001b[0m\u001b[0;34m\u001b[0m\u001b[0;34m\u001b[0m\u001b[0m\n",
      "\u001b[0;32m~/miniconda3/envs/gl/lib/python3.8/site-packages/scipy/interpolate/_cubic.py\u001b[0m in \u001b[0;36m__init__\u001b[0;34m(self, x, y, axis, bc_type, extrapolate)\u001b[0m\n\u001b[1;32m    776\u001b[0m                                  overwrite_b=True, check_finite=False)\n\u001b[1;32m    777\u001b[0m \u001b[0;34m\u001b[0m\u001b[0m\n\u001b[0;32m--> 778\u001b[0;31m         super(CubicSpline, self).__init__(x, y, s, axis=0,\n\u001b[0m\u001b[1;32m    779\u001b[0m                                           extrapolate=extrapolate)\n\u001b[1;32m    780\u001b[0m         \u001b[0mself\u001b[0m\u001b[0;34m.\u001b[0m\u001b[0maxis\u001b[0m \u001b[0;34m=\u001b[0m \u001b[0maxis\u001b[0m\u001b[0;34m\u001b[0m\u001b[0;34m\u001b[0m\u001b[0m\n",
      "\u001b[0;32m~/miniconda3/envs/gl/lib/python3.8/site-packages/scipy/interpolate/_cubic.py\u001b[0m in \u001b[0;36m__init__\u001b[0;34m(self, x, y, dydx, axis, extrapolate)\u001b[0m\n\u001b[1;32m    138\u001b[0m             \u001b[0mextrapolate\u001b[0m \u001b[0;34m=\u001b[0m \u001b[0;32mTrue\u001b[0m\u001b[0;34m\u001b[0m\u001b[0;34m\u001b[0m\u001b[0m\n\u001b[1;32m    139\u001b[0m \u001b[0;34m\u001b[0m\u001b[0m\n\u001b[0;32m--> 140\u001b[0;31m         \u001b[0mx\u001b[0m\u001b[0;34m,\u001b[0m \u001b[0mdx\u001b[0m\u001b[0;34m,\u001b[0m \u001b[0my\u001b[0m\u001b[0;34m,\u001b[0m \u001b[0maxis\u001b[0m\u001b[0;34m,\u001b[0m \u001b[0mdydx\u001b[0m \u001b[0;34m=\u001b[0m \u001b[0mprepare_input\u001b[0m\u001b[0;34m(\u001b[0m\u001b[0mx\u001b[0m\u001b[0;34m,\u001b[0m \u001b[0my\u001b[0m\u001b[0;34m,\u001b[0m \u001b[0maxis\u001b[0m\u001b[0;34m,\u001b[0m \u001b[0mdydx\u001b[0m\u001b[0;34m)\u001b[0m\u001b[0;34m\u001b[0m\u001b[0;34m\u001b[0m\u001b[0m\n\u001b[0m\u001b[1;32m    141\u001b[0m \u001b[0;34m\u001b[0m\u001b[0m\n\u001b[1;32m    142\u001b[0m         \u001b[0mdxr\u001b[0m \u001b[0;34m=\u001b[0m \u001b[0mdx\u001b[0m\u001b[0;34m.\u001b[0m\u001b[0mreshape\u001b[0m\u001b[0;34m(\u001b[0m\u001b[0;34m[\u001b[0m\u001b[0mdx\u001b[0m\u001b[0;34m.\u001b[0m\u001b[0mshape\u001b[0m\u001b[0;34m[\u001b[0m\u001b[0;36m0\u001b[0m\u001b[0;34m]\u001b[0m\u001b[0;34m]\u001b[0m \u001b[0;34m+\u001b[0m \u001b[0;34m[\u001b[0m\u001b[0;36m1\u001b[0m\u001b[0;34m]\u001b[0m \u001b[0;34m*\u001b[0m \u001b[0;34m(\u001b[0m\u001b[0my\u001b[0m\u001b[0;34m.\u001b[0m\u001b[0mndim\u001b[0m \u001b[0;34m-\u001b[0m \u001b[0;36m1\u001b[0m\u001b[0;34m)\u001b[0m\u001b[0;34m)\u001b[0m\u001b[0;34m\u001b[0m\u001b[0;34m\u001b[0m\u001b[0m\n",
      "\u001b[0;32m~/miniconda3/envs/gl/lib/python3.8/site-packages/scipy/interpolate/_cubic.py\u001b[0m in \u001b[0;36mprepare_input\u001b[0;34m(x, y, axis, dydx)\u001b[0m\n\u001b[1;32m     22\u001b[0m \u001b[0;34m\u001b[0m\u001b[0m\n\u001b[1;32m     23\u001b[0m     \u001b[0mx\u001b[0m\u001b[0;34m,\u001b[0m \u001b[0my\u001b[0m \u001b[0;34m=\u001b[0m \u001b[0mmap\u001b[0m\u001b[0;34m(\u001b[0m\u001b[0mnp\u001b[0m\u001b[0;34m.\u001b[0m\u001b[0masarray\u001b[0m\u001b[0;34m,\u001b[0m \u001b[0;34m(\u001b[0m\u001b[0mx\u001b[0m\u001b[0;34m,\u001b[0m \u001b[0my\u001b[0m\u001b[0;34m)\u001b[0m\u001b[0;34m)\u001b[0m\u001b[0;34m\u001b[0m\u001b[0;34m\u001b[0m\u001b[0m\n\u001b[0;32m---> 24\u001b[0;31m     \u001b[0;32mif\u001b[0m \u001b[0mnp\u001b[0m\u001b[0;34m.\u001b[0m\u001b[0missubdtype\u001b[0m\u001b[0;34m(\u001b[0m\u001b[0mx\u001b[0m\u001b[0;34m.\u001b[0m\u001b[0mdtype\u001b[0m\u001b[0;34m,\u001b[0m \u001b[0mnp\u001b[0m\u001b[0;34m.\u001b[0m\u001b[0mcomplexfloating\u001b[0m\u001b[0;34m)\u001b[0m\u001b[0;34m:\u001b[0m\u001b[0;34m\u001b[0m\u001b[0;34m\u001b[0m\u001b[0m\n\u001b[0m\u001b[1;32m     25\u001b[0m         \u001b[0;32mraise\u001b[0m \u001b[0mValueError\u001b[0m\u001b[0;34m(\u001b[0m\u001b[0;34m\"`x` must contain real values.\"\u001b[0m\u001b[0;34m)\u001b[0m\u001b[0;34m\u001b[0m\u001b[0;34m\u001b[0m\u001b[0m\n\u001b[1;32m     26\u001b[0m     \u001b[0mx\u001b[0m \u001b[0;34m=\u001b[0m \u001b[0mx\u001b[0m\u001b[0;34m.\u001b[0m\u001b[0mastype\u001b[0m\u001b[0;34m(\u001b[0m\u001b[0mfloat\u001b[0m\u001b[0;34m)\u001b[0m\u001b[0;34m\u001b[0m\u001b[0;34m\u001b[0m\u001b[0m\n",
      "\u001b[0;32m~/miniconda3/envs/gl/lib/python3.8/site-packages/numpy/core/numerictypes.py\u001b[0m in \u001b[0;36missubdtype\u001b[0;34m(arg1, arg2)\u001b[0m\n\u001b[1;32m    385\u001b[0m \u001b[0;34m\u001b[0m\u001b[0m\n\u001b[1;32m    386\u001b[0m     \"\"\"\n\u001b[0;32m--> 387\u001b[0;31m     \u001b[0;32mif\u001b[0m \u001b[0;32mnot\u001b[0m \u001b[0missubclass_\u001b[0m\u001b[0;34m(\u001b[0m\u001b[0marg1\u001b[0m\u001b[0;34m,\u001b[0m \u001b[0mgeneric\u001b[0m\u001b[0;34m)\u001b[0m\u001b[0;34m:\u001b[0m\u001b[0;34m\u001b[0m\u001b[0;34m\u001b[0m\u001b[0m\n\u001b[0m\u001b[1;32m    388\u001b[0m         \u001b[0marg1\u001b[0m \u001b[0;34m=\u001b[0m \u001b[0mdtype\u001b[0m\u001b[0;34m(\u001b[0m\u001b[0marg1\u001b[0m\u001b[0;34m)\u001b[0m\u001b[0;34m.\u001b[0m\u001b[0mtype\u001b[0m\u001b[0;34m\u001b[0m\u001b[0;34m\u001b[0m\u001b[0m\n\u001b[1;32m    389\u001b[0m     \u001b[0;32mif\u001b[0m \u001b[0;32mnot\u001b[0m \u001b[0missubclass_\u001b[0m\u001b[0;34m(\u001b[0m\u001b[0marg2\u001b[0m\u001b[0;34m,\u001b[0m \u001b[0mgeneric\u001b[0m\u001b[0;34m)\u001b[0m\u001b[0;34m:\u001b[0m\u001b[0;34m\u001b[0m\u001b[0;34m\u001b[0m\u001b[0m\n",
      "\u001b[0;32m~/miniconda3/envs/gl/lib/python3.8/site-packages/numpy/core/numerictypes.py\u001b[0m in \u001b[0;36missubclass_\u001b[0;34m(arg1, arg2)\u001b[0m\n\u001b[1;32m    321\u001b[0m     \"\"\"\n\u001b[1;32m    322\u001b[0m     \u001b[0;32mtry\u001b[0m\u001b[0;34m:\u001b[0m\u001b[0;34m\u001b[0m\u001b[0;34m\u001b[0m\u001b[0m\n\u001b[0;32m--> 323\u001b[0;31m         \u001b[0;32mreturn\u001b[0m \u001b[0missubclass\u001b[0m\u001b[0;34m(\u001b[0m\u001b[0marg1\u001b[0m\u001b[0;34m,\u001b[0m \u001b[0marg2\u001b[0m\u001b[0;34m)\u001b[0m\u001b[0;34m\u001b[0m\u001b[0;34m\u001b[0m\u001b[0m\n\u001b[0m\u001b[1;32m    324\u001b[0m     \u001b[0;32mexcept\u001b[0m \u001b[0mTypeError\u001b[0m\u001b[0;34m:\u001b[0m\u001b[0;34m\u001b[0m\u001b[0;34m\u001b[0m\u001b[0m\n\u001b[1;32m    325\u001b[0m         \u001b[0;32mreturn\u001b[0m \u001b[0;32mFalse\u001b[0m\u001b[0;34m\u001b[0m\u001b[0;34m\u001b[0m\u001b[0m\n",
      "\u001b[0;31mKeyboardInterrupt\u001b[0m: "
     ]
    }
   ],
   "source": [
    "chis=[]\n",
    "nr=[]\n",
    "for k in np.linspace(-1.2,-0.8,100):\n",
    "    h=run_raytrace(k,0.064,0.1125,0.05625,1000)\n",
    "    chis.append(chi_square(h)) \n",
    "    nr.append(np.sum(h))"
   ]
  },
  {
   "cell_type": "code",
   "execution_count": null,
   "metadata": {},
   "outputs": [],
   "source": [
    "fig,(ax1,ax2)=plt.subplots(2,1,figsize=(10,12))\n",
    "grad_chi=np.diff(chis)/np.diff(np.linspace(-1.2,-0.8,100))\n",
    "num=(1000-np.array(nr))/1000\n",
    "grad_nr=np.diff(num)/np.diff(np.linspace(-1.2,-0.8,100))\n",
    "k_val=np.linspace(-1.2,-0.8,100)[1:]\n",
    "ax1.plot(k_val,grad_chi)\n",
    "ax2.plot(k_val,grad_nr)\n",
    "kmin=k_val[np.argmin(grad_nr)]\n",
    "kmax=k_val[np.argmax(grad_nr)]\n",
    "ax2.axvline(kmin,color='k', linestyle='--')\n",
    "ax2.axvline(kmax,color='k', linestyle='--')\n",
    "ax1.axvline(kmin,color='k', linestyle='--')\n",
    "ax1.axvline(kmax,color='k', linestyle='--')\n",
    "ax1.set_title('Gradient of chi squared')\n",
    "ax2.set_title('Gradient of number of rays')\n",
    "ax1.set_xlabel('k')\n",
    "ax2.set_xlabel('k')\n",
    "ax1.set_ylabel('grad(chi sq)')\n",
    "ax2.set_ylabel('grad(Nr)')\n",
    "plt.savefig('brute_gradient.png')\n",
    "plt.show()"
   ]
  },
  {
   "cell_type": "code",
   "execution_count": null,
   "metadata": {},
   "outputs": [],
   "source": [
    "plt.figure(figsize=(15,10))\n",
    "plt.scatter(np.linspace(-1.2,-0.8,100),(1000-np.array(nr))/1000)\n",
    "plt.xlabel(\"k\")\n",
    "plt.ylabel('(N0-N)/N')\n",
    "plt.savefig('n_rays.png')"
   ]
  },
  {
   "cell_type": "code",
   "execution_count": null,
   "metadata": {},
   "outputs": [],
   "source": [
    "plt.figure(figsize=(15,10))\n",
    "plt.scatter(np.linspace(-1.2,-0.8,100),chis)\n",
    "plt.xlabel(\"k\")\n",
    "plt.ylabel('chi squared')\n",
    "plt.xlim((-1.2,-0.8))\n",
    "plt.savefig('chi_squared.png')"
   ]
  },
  {
   "cell_type": "code",
   "execution_count": null,
   "metadata": {},
   "outputs": [],
   "source": [
    "plt.figure(figsize=(15,10))\n",
    "plt.plot(np.linspace(-1.2,-0.8,100),cost)\n",
    "plt.scatter(np.linspace(-1.2,-0.8,100),chis+(1000-np.array(nr))/1000)\n",
    "plt.xlabel(\"k\")\n",
    "plt.ylabel(r'$\\chi^2+\\alpha(N_0-N_0)/N$')\n",
    "plt.title('The Cost Function')\n",
    "plt.savefig('cost_function.png')"
   ]
  },
  {
   "cell_type": "code",
   "execution_count": null,
   "metadata": {},
   "outputs": [],
   "source": [
    "# font = {'family' : 'normal',\n",
    "#         'size'   : 24}\n",
    "\n",
    "# plt.rc('font', **font)\n",
    "# plt.figure(figsize=(15,10))\n",
    "# plt.plot(np.linspace(-1.5,-0.5,500),cost,linewidth=4)\n",
    "# plt.xlabel(\"k\")\n",
    "# plt.ylabel(r'$\\chi^2+\\alpha(N_0-N_0)/N$')\n",
    "# plt.title('The Cost Function')\n",
    "# plt.savefig('cost_function.png')"
   ]
  },
  {
   "cell_type": "code",
   "execution_count": null,
   "metadata": {
    "jupyter": {
     "source_hidden": true
    }
   },
   "outputs": [],
   "source": [
    "fig,(ax1,ax2)=plt.subplots(2,1,figsize=(10,12))\n",
    "grad_chi=np.diff(chis)/np.diff(np.linspace(-1.2,-0.8,100))\n",
    "grad_nr=np.diff(nr)/np.diff(np.linspace(-1.2,-0.8,100))\n",
    "k_val=np.linspace(-1.2,-0.8,100)[1:]\n",
    "ax1.plot(k_val,grad_chi,label='brute')\n",
    "ax1.plot(np.linspace(-1.2,-0.8,100),np.array(grads)[:,0],label='calculated')\n",
    "ax2.plot(k_val,grad_nr,label='brute')\n",
    "ax2.plot(np.linspace(-1.2,-0.8,100),np.array(grads)[:,1],label='calculated')\n",
    "kmin=k_val[np.argmin(grad_nr)]\n",
    "kmax=k_val[np.argmax(grad_nr)]\n",
    "ax2.axvline(kmin,color='k', linestyle='--')\n",
    "ax2.axvline(kmax,color='k', linestyle='--')\n",
    "ax1.axvline(kmin,color='k', linestyle='--')\n",
    "ax1.axvline(kmax,color='k', linestyle='--')\n",
    "ax1.set_title('Gradient of chi squared')\n",
    "ax2.set_title('Gradient of number of rays')\n",
    "ax1.set_xlabel('k')\n",
    "ax2.set_xlabel('k')\n",
    "ax1.set_ylabel('grad(chi sq)')\n",
    "ax2.set_ylabel('grad(Nr)')\n",
    "ax1.legend()\n",
    "ax2.legend()\n",
    "\n",
    "plt.show()"
   ]
  },
  {
   "cell_type": "markdown",
   "metadata": {},
   "source": [
    "## The Gradient Descent Algorithm"
   ]
  },
  {
   "cell_type": "code",
   "execution_count": 17,
   "metadata": {},
   "outputs": [],
   "source": [
    "def gradient_descent(start_k,Del_k,alpha,thick,roc,exp_f,learn_rate,n_iter,tol=1e-6,Nr=1000):\n",
    "    k=start_k\n",
    "    ks=[start_k]\n",
    "    c1=run_raytrace(k,thick,roc,exp_f,Nr)\n",
    "    cost=[cost_function(c1,alpha,Nr)]\n",
    "    n=0\n",
    "    diff=1e6\n",
    "    while(n<n_iter and abs(diff)>tol and abs(k)<8):\n",
    "        diff=-learn_rate*grad(k,Del_k,alpha,thick,roc,exp_f,Nr)\n",
    "        print(\"%d \\t k:%f \\t diff:%f\"%(n,k,diff))\n",
    "        k+=diff\n",
    "        ks.append(k)\n",
    "        cost.append(cost_function(run_raytrace(k,thick,roc,exp_f,Nr),alpha,Nr))\n",
    "        n+=1\n",
    "    return ks,cost"
   ]
  },
  {
   "cell_type": "code",
   "execution_count": 18,
   "metadata": {},
   "outputs": [
    {
     "name": "stdout",
     "output_type": "stream",
     "text": [
      "0 \t k:-0.500000 \t diff:0.002920\n",
      "1 \t k:-0.497080 \t diff:0.012962\n",
      "2 \t k:-0.484119 \t diff:-0.115177\n",
      "3 \t k:-0.599296 \t diff:0.011647\n",
      "4 \t k:-0.587649 \t diff:0.012260\n",
      "5 \t k:-0.575388 \t diff:0.004082\n",
      "6 \t k:-0.571306 \t diff:0.004431\n",
      "7 \t k:-0.566876 \t diff:0.000955\n",
      "8 \t k:-0.565921 \t diff:0.004292\n",
      "9 \t k:-0.561629 \t diff:0.011114\n",
      "10 \t k:-0.550514 \t diff:-0.105607\n",
      "11 \t k:-0.656122 \t diff:0.010559\n",
      "12 \t k:-0.645563 \t diff:-0.002145\n",
      "13 \t k:-0.647707 \t diff:-0.089358\n",
      "14 \t k:-0.737066 \t diff:0.004296\n",
      "15 \t k:-0.732769 \t diff:0.000231\n",
      "16 \t k:-0.732538 \t diff:-0.004492\n",
      "17 \t k:-0.737030 \t diff:0.004296\n",
      "18 \t k:-0.732733 \t diff:0.000231\n",
      "19 \t k:-0.732502 \t diff:-0.004492\n",
      "20 \t k:-0.736994 \t diff:0.004296\n",
      "21 \t k:-0.732698 \t diff:-0.001177\n",
      "22 \t k:-0.733874 \t diff:0.002832\n",
      "23 \t k:-0.731042 \t diff:0.002838\n",
      "24 \t k:-0.728205 \t diff:-0.000695\n",
      "25 \t k:-0.728900 \t diff:-0.085604\n",
      "26 \t k:-0.814503 \t diff:-0.230684\n",
      "27 \t k:-1.045187 \t diff:0.316100\n",
      "28 \t k:-0.729087 \t diff:-0.085604\n",
      "29 \t k:-0.814691 \t diff:-0.221474\n",
      "30 \t k:-1.036164 \t diff:0.301900\n",
      "31 \t k:-0.734264 \t diff:-0.085598\n",
      "32 \t k:-0.819862 \t diff:-0.078928\n",
      "33 \t k:-0.898790 \t diff:-0.099842\n",
      "34 \t k:-0.998632 \t diff:-0.000000\n"
     ]
    }
   ],
   "source": [
    "k1,c1=gradient_descent(-0.5,0.001,1,0.064,0.1125,0.05625,0.05,500)"
   ]
  },
  {
   "cell_type": "code",
   "execution_count": 19,
   "metadata": {},
   "outputs": [
    {
     "name": "stdout",
     "output_type": "stream",
     "text": [
      "0 \t k:-1.500000 \t diff:-0.003821\n",
      "1 \t k:-1.503821 \t diff:-0.004065\n",
      "2 \t k:-1.507886 \t diff:-0.005237\n",
      "3 \t k:-1.513123 \t diff:-0.006044\n",
      "4 \t k:-1.519168 \t diff:-0.011543\n",
      "5 \t k:-1.530711 \t diff:-0.016767\n",
      "6 \t k:-1.547478 \t diff:-0.007219\n",
      "7 \t k:-1.554698 \t diff:-0.008102\n",
      "8 \t k:-1.562799 \t diff:-0.014516\n",
      "9 \t k:-1.577315 \t diff:-0.006211\n",
      "10 \t k:-1.583526 \t diff:-0.013635\n",
      "11 \t k:-1.597160 \t diff:-0.007007\n",
      "12 \t k:-1.604167 \t diff:-0.003830\n",
      "13 \t k:-1.607997 \t diff:-0.004109\n",
      "14 \t k:-1.612106 \t diff:0.138077\n",
      "15 \t k:-1.474029 \t diff:-0.012101\n",
      "16 \t k:-1.486130 \t diff:-0.007313\n",
      "17 \t k:-1.493443 \t diff:-0.001180\n",
      "18 \t k:-1.494623 \t diff:-0.015237\n",
      "19 \t k:-1.509860 \t diff:-0.006012\n",
      "20 \t k:-1.515872 \t diff:-0.011796\n",
      "21 \t k:-1.527668 \t diff:-0.012749\n",
      "22 \t k:-1.540417 \t diff:-0.002393\n",
      "23 \t k:-1.542810 \t diff:0.112534\n",
      "24 \t k:-1.430276 \t diff:-0.010291\n",
      "25 \t k:-1.440567 \t diff:0.113810\n",
      "26 \t k:-1.326756 \t diff:-0.009288\n",
      "27 \t k:-1.336044 \t diff:-0.006615\n",
      "28 \t k:-1.342659 \t diff:0.089192\n",
      "29 \t k:-1.253467 \t diff:-0.002063\n",
      "30 \t k:-1.255530 \t diff:0.087531\n",
      "31 \t k:-1.167998 \t diff:0.082514\n",
      "32 \t k:-1.085484 \t diff:0.173364\n",
      "33 \t k:-0.912120 \t diff:-0.177805\n",
      "34 \t k:-1.089925 \t diff:0.242186\n",
      "35 \t k:-0.847740 \t diff:-0.087455\n",
      "36 \t k:-0.935195 \t diff:-0.064450\n",
      "37 \t k:-0.999645 \t diff:-0.000000\n"
     ]
    }
   ],
   "source": [
    "k2,c2=gradient_descent(-1.5,0.001,1,0.064,0.1125,0.05625,0.05,500)"
   ]
  },
  {
   "cell_type": "code",
   "execution_count": 20,
   "metadata": {},
   "outputs": [
    {
     "name": "stderr",
     "output_type": "stream",
     "text": [
      "findfont: Font family ['normal'] not found. Falling back to DejaVu Sans.\n"
     ]
    },
    {
     "data": {
      "image/png": "[encoded data removed]",
      "text/plain": [
       "<Figure size 720x432 with 1 Axes>"
      ]
     },
     "metadata": {
      "needs_background": "light"
     },
     "output_type": "display_data"
    }
   ],
   "source": [
    "plt.figure(figsize=(10,6))\n",
    "plt.ylabel(\"Cost\")\n",
    "plt.xlabel(\"Iterations\")\n",
    "plt.plot(c1)\n",
    "plt.savefig('cost1')\n",
    "plt.show()"
   ]
  },
  {
   "cell_type": "code",
   "execution_count": 21,
   "metadata": {},
   "outputs": [
    {
     "data": {
      "image/png": "[encoded data removed]",
      "text/plain": [
       "<Figure size 720x432 with 1 Axes>"
      ]
     },
     "metadata": {
      "needs_background": "light"
     },
     "output_type": "display_data"
    }
   ],
   "source": [
    "plt.figure(figsize=(10,6))\n",
    "plt.ylabel(\"Cost\")\n",
    "plt.xlabel(\"Iterations\")\n",
    "plt.plot(c2)\n",
    "plt.savefig('cost2')\n",
    "plt.show()"
   ]
  },
  {
   "cell_type": "code",
   "execution_count": null,
   "metadata": {},
   "outputs": [],
   "source": [
    "font = {'family' : 'normal',\n",
    "        'size'   : 28}\n",
    "\n",
    "plt.rc('font', **font)"
   ]
  },
  {
   "cell_type": "code",
   "execution_count": null,
   "metadata": {},
   "outputs": [],
   "source": [
    "phi = np.linspace(0, 2*np.pi, 35)\n",
    "x = np.sin(phi)\n",
    "y = np.cos(phi)\n",
    "rgb_cycle = np.vstack((            # Three sinusoids\n",
    "    .5*(1.+np.cos(phi          )), # scaled to [0,1]\n",
    "    .5*(1.+np.cos(phi+2*np.pi/3)), # 120° phase shifted.\n",
    "    .5*(1.+np.cos(phi-2*np.pi/3)))).T # Shape = (60,3)"
   ]
  },
  {
   "cell_type": "code",
   "execution_count": null,
   "metadata": {},
   "outputs": [],
   "source": [
    "fig,ax=plt.subplots(figsize=(20,10))\n",
    "ax.plot(np.linspace(-1.5,-0.5,100),cost,linewidth=5,label='cost')\n",
    "for i in range(35):\n",
    "    ax.plot(k1[i:i+2],c1[i:i+2],'-o',c=rgb_cycle[i],label=str(i),linewidth=5,markersize=10,alpha=0.8)\n",
    "ax.set_xlabel(\"k\")\n",
    "ax.set_ylabel(r'$\\chi^2+\\alpha(N_0-N_0)/N$')\n",
    "#ax.set_xlim((-1.2,-0.8))\n",
    "#ax.set_title('Gradient Descent Starting from k=-0.5')\n",
    "ax.legend(bbox_to_anchor=(1.04,1),loc='upper left',ncol=2, prop={'size': 22})\n",
    "plt.tight_layout()\n",
    "plt.savefig('grad-0_5_alt_font_28.png')\n",
    "plt.show()"
   ]
  },
  {
   "cell_type": "code",
   "execution_count": null,
   "metadata": {},
   "outputs": [],
   "source": [
    "phi = np.linspace(0, 2*np.pi, 38)\n",
    "x = np.sin(phi)\n",
    "y = np.cos(phi)\n",
    "rgb_cycle = np.vstack((            # Three sinusoids\n",
    "    .5*(1.+np.cos(phi          )), # scaled to [0,1]\n",
    "    .5*(1.+np.cos(phi+2*np.pi/3)), # 120° phase shifted.\n",
    "    .5*(1.+np.cos(phi-2*np.pi/3)))).T # Shape = (60,3)"
   ]
  },
  {
   "cell_type": "code",
   "execution_count": null,
   "metadata": {},
   "outputs": [],
   "source": [
    "fig,ax=plt.subplots(figsize=(20,10))\n",
    "ax.plot(np.linspace(-1.5,-0.5,100),cost,linewidth=5,label='cost')\n",
    "for i in range(38):\n",
    "    ax.plot(k2[i:i+2],c2[i:i+2],'-o',c=rgb_cycle[i],label=str(i),linewidth=5,markersize=10,alpha=0.8)\n",
    "ax.set_xlabel(\"k\")\n",
    "ax.set_ylabel(r'$\\chi^2+\\alpha(N_0-N_0)/N$')\n",
    "#ax.set_xlim((-1.2,-0.8))\n",
    "#ax.set_title('Gradient Descent Starting from k=-1.5')\n",
    "ax.legend(bbox_to_anchor=(1.04,1),loc='upper left',ncol=2, prop={'size': 22})\n",
    "plt.tight_layout()\n",
    "plt.savefig('grad-1_5_alt_font_28.png')\n",
    "plt.show()"
   ]
  },
  {
   "cell_type": "code",
   "execution_count": null,
   "metadata": {},
   "outputs": [],
   "source": []
  },
  {
   "cell_type": "code",
   "execution_count": null,
   "metadata": {},
   "outputs": [],
   "source": []
  }
 ],
 "metadata": {
  "kernelspec": {
   "display_name": "Python 3",
   "language": "python",
   "name": "python3"
  },
  "language_info": {
   "codemirror_mode": {
    "name": "ipython",
    "version": 3
   },
   "file_extension": ".py",
   "mimetype": "text/x-python",
   "name": "python",
   "nbconvert_exporter": "python",
   "pygments_lexer": "ipython3",
   "version": "3.8.5"
  }
 },
 "nbformat": 4,
 "nbformat_minor": 4
}
