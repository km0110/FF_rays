{
 "cells": [
  {
   "cell_type": "code",
   "execution_count": 1,
   "metadata": {},
   "outputs": [],
   "source": [
    "import numpy as np\n",
    "from scipy.interpolate import CubicSpline\n",
    "import matplotlib.pyplot as plt\n",
    "font = {'family' : 'normal',\n",
    "        'size'   : 12}\n",
    "\n",
    "plt.rc('font', **font)"
   ]
  },
  {
   "cell_type": "markdown",
   "metadata": {},
   "source": [
    "## Creating the initial optic\n",
    "\n",
    "We start with creating a conical lens defaulted to be a parabola (k=-1) with N=1000 points to span the space of the top half of the lens. One can start with other conical shapes by inputting the corresponding k value. The inputs are `thick` or the thickness of the lens and `R` which is the radius of curvature. The code only simulates the top half of the optic due to the assumption that the surface is cylindrically symmetric. The equation of the optic is derived from the equation for a conic section with the apex at the origin and solving for r:\n",
    "\n",
    "\\begin{align}\n",
    "    r^2-2Rz+(K+1)z^2=0\\\\\n",
    "    r=\\sqrt{2Rz+(K+1)z^2}\n",
    "\\end{align}\n",
    "\n",
    "One can plug in:\n",
    "- k=-1 for parabola\n",
    "- k=0 for spherical\n",
    "- k>0 for oblate ellipse\n",
    "- 0>K>−1 for prolate ellipse\n",
    "- k<-1 for hyperbola\n",
    "\n",
    "When plugging in the the values for `thick` and `R` one should keep in mind the thin lens approximation where the thickness << R"
   ]
  },
  {
   "cell_type": "code",
   "execution_count": 11,
   "metadata": {},
   "outputs": [],
   "source": [
    "def create_starting_optic(thick,R,k=-1,N=100):\n",
    "    r_max=np.sqrt(2*R*thick-(k+1)*thick**2)\n",
    "    r=np.linspace(-r_max,r_max,N)\n",
    "    z=r**2/(R+R*np.sqrt(R**2-(k+1)*r**2))\n",
    "    optic=np.array([z,r])\n",
    "    print(max(z))\n",
    "    print(thick)\n",
    "    return optic"
   ]
  },
  {
   "cell_type": "markdown",
   "metadata": {},
   "source": [
    "## Finding the slope for refraction/reflection\n",
    "\n",
    "The goal of this is to find the normal to any shaped surface. The normal slope will be 1/m for reflected and -1/m for refracted where m is the tangent/slope of the surface at that point"
   ]
  },
  {
   "cell_type": "code",
   "execution_count": 3,
   "metadata": {},
   "outputs": [],
   "source": [
    "def find_local_eq(r,optic,N=1000):\n",
    "    # first find nearest point in the lens array to where the ray r intersects\n",
    "    z=optic[0]\n",
    "    opt=optic[1]\n",
    "    index=np.abs(opt-r).argmin()\n",
    "    \n",
    "    # isolate a few points around the closest index (look into how many points we actually want)\n",
    "    lower=index-5\n",
    "    upper=index+5\n",
    "        \n",
    "    local_z=np.array(z[lower:upper])\n",
    "    local_opt=np.array(opt[lower:upper])-r\n",
    "    \n",
    "    # Use cubic spline to interpolate the local points\n",
    "    cs=CubicSpline(local_z,local_opt)\n",
    "    zs=np.linspace(local_z[0],local_z[-1],N)\n",
    "    return zs,cs"
   ]
  },
  {
   "cell_type": "code",
   "execution_count": 4,
   "metadata": {},
   "outputs": [],
   "source": [
    "def find_norm(z,cs):\n",
    "    # find the normal to the surface\n",
    "    tang=cs(z,1) # 1st derivative of the spline at point z\n",
    "    norm=-1/tang\n",
    "    return norm"
   ]
  },
  {
   "cell_type": "markdown",
   "metadata": {},
   "source": [
    "`find_reflect_slope` takes the given normal slope to calculate the angle 2$\\theta$ where $\\theta$ is the angle that the incoming ray makes with the normal to the surface. "
   ]
  },
  {
   "cell_type": "code",
   "execution_count": 5,
   "metadata": {},
   "outputs": [],
   "source": [
    "def find_reflect_slope(norm):\n",
    "    theta=np.arctan(norm)\n",
    "    slope=np.tan(2*theta)\n",
    "    return slope"
   ]
  },
  {
   "cell_type": "markdown",
   "metadata": {},
   "source": [
    "`find__refract_slope` finds the slope of the ray after it refracts off of the surface. `norm` is the normal of the surface and is used to find the angle $\\phi_1$ which is the angle between the incident ray and the normal of the surface. This function returns the slope of the ray that refracts after encountering the surface using Snell's law "
   ]
  },
  {
   "cell_type": "code",
   "execution_count": 6,
   "metadata": {},
   "outputs": [],
   "source": [
    "def find_refract_slope(norm,n1,n2):\n",
    "    phi1=np.arctan(norm)\n",
    "    sinphi2=n1*np.sin(phi1)/n2\n",
    "    phi2=np.arcsin(sinphi2)\n",
    "    theta=phi1-phi2\n",
    "    slope=np.tan(theta)\n",
    "    return slope"
   ]
  },
  {
   "cell_type": "markdown",
   "metadata": {},
   "source": [
    "## Raytracing\n",
    "\n",
    "Now that we have the algorithm to find the slope normal to the surface we can simulate the ray propagation. We only need to calculate for two points:where the ray meets the surface the optic and where the ray crosses the optical axis. Additional functionality can be added later for multiple optics. Also need to change the input rays to be ray vectors instead. This code does both refraction and reflection."
   ]
  },
  {
   "cell_type": "code",
   "execution_count": 7,
   "metadata": {},
   "outputs": [],
   "source": [
    "def raytrace(optic, Nr=7, refract=False):\n",
    "    #create the starting rays\n",
    "    opt=optic[1]\n",
    "    # make sure that the rays are bounded \n",
    "    r_min=opt[5]\n",
    "    r_max=opt[-10]\n",
    "    \n",
    "    rays=np.linspace(r_min,r_max,Nr) #confine the rays to the diameter of the optic\n",
    "    rays[rays==0]=1e-9 # if r=0 exists set to small value so we don't get infinity values\n",
    "    raymatrix=[] # 3 points: before, at, after the optic\n",
    "    after=[]\n",
    "    for r in rays:\n",
    "        zs,cs=find_local_eq(r,optic)\n",
    "        z_optic=cs.roots()\n",
    "        if len(z_optic)>1:\n",
    "            print('Warning: multiple intersections with lens found') # many roots are usually found near r=0\n",
    "        \n",
    "        norm=find_norm(z_optic[0],cs)\n",
    "        slope=find_refract_slope(norm,1,3) if refract else find_reflect_slope(norm)\n",
    "        z_after=(-r/slope+z_optic[0]) # This is where the ray should intersect the z axis\n",
    "        z_bef=-1 if refract else z_after*1.5 # change this so that z_bef all starts at the same z value\n",
    "        z_ray=[z_bef,z_optic[0],z_after]\n",
    "        r_ray=[r,r,0]            \n",
    "        raymatrix.append([z_ray,r_ray])\n",
    "        after.append(z_after)\n",
    "        #np.concatenate(raymatrix)\n",
    "    return np.array(raymatrix),np.array(after)"
   ]
  },
  {
   "cell_type": "code",
   "execution_count": 8,
   "metadata": {},
   "outputs": [],
   "source": [
    "def plot(optic,raymatrix,exp_f,title, lambda0=None, norm=False,savefig=False):\n",
    "    #first plot the optic:\n",
    "    plt.figure(figsize=(15,10))\n",
    "    opt_z=optic[0] if not norm else optic[0]/lambda0\n",
    "    opt_r=optic[1] if not norm else optic[1]/lambda0\n",
    "    plt.plot(opt_z,opt_r,'b',opt_z,-1*opt_r,'b')\n",
    "    exp_freq=exp_f if not norm else exp_f/lambda0\n",
    "    plt.axvline(x=exp_freq, color='k', linestyle='--')\n",
    "    #Then plot the rays:\n",
    "    for ray in raymatrix:\n",
    "        ray_z=ray[0] if not norm else ray[0]/lambda0\n",
    "        ray_r=ray[1] if not norm else ray[1]/lambda0\n",
    "        plt.plot(ray_z,ray_r,'r',ray_z,-1*ray_r,'r')\n",
    "        \n",
    "    xl='z (m)' if not norm else 'z/lambda'\n",
    "    yl='r (m)' if not norm else 'r/lambda'\n",
    "    plt.xlabel(xl)\n",
    "    plt.ylabel(yl)\n",
    "    plt.title(title)\n",
    "    if savefig:\n",
    "        plt.savefig(title+\".png\")\n",
    "    plt.show()\n"
   ]
  },
  {
   "cell_type": "markdown",
   "metadata": {},
   "source": [
    "## `create_hist`\n",
    "Creates a histogram of where the rays meet on the z axis after the ray encounters the optic. The function uses [Sturge's Formula](https://en.wikipedia.org/wiki/Histogram#Sturges'_formula) to calculate the number of bins. We use the Rayleigh criterion as the bin width: $\\Delta\\theta = 1.22\\lambda/D$ \n",
    "\n",
    "$1.22 f\\#*\\lambda$ \n",
    "\n",
    "$f\\#=f/D$\n",
    "where $\\lambda$ is the wavelength and $D$ is the diameter of the optic. This is calculated with the function `calc_bw`. This function also rounds to the nearest 6th decimal by default which corresponds to the nearest micrometer for the physical case we've defined later in this notebook.  We set the bin number to be odd so that we have the expected focal length bin always as our center bar (this may need to be altered). We set the range as the $[f_{exp} - \\frac{1}{2}k \\Delta\\theta, f_{exp} + \\frac{1}{2}k\\Delta\\theta]$. \n",
    "\n",
    "7/5/22\n",
    "\n",
    "We've decided to instead use fractions of the Rayleigh Length $z_R=\\frac{\\pi w_0^2}{\\lambda}=1/2 k w_0^2$"
   ]
  },
  {
   "cell_type": "code",
   "execution_count": 9,
   "metadata": {},
   "outputs": [],
   "source": [
    "def calc_bw(lambda0,diam,dec=6):\n",
    "    ang_res= 1.22*lambda0/diam # The bin width is set as the minimum resolution \n",
    "    return np.around(ang_res,dec) "
   ]
  },
  {
   "cell_type": "code",
   "execution_count": 10,
   "metadata": {},
   "outputs": [],
   "source": [
    "def create_hist(rays_after,exp_f, bin_width, plot=False, lambda0=None, norm=False, savefig=False):\n",
    "    n=len(rays_after)    \n",
    "    #make k odd so that we have even number of bin below and above the expected focal value\n",
    "    k=int(np.ceil(np.log2(n)))+1\n",
    "    if k%2==0:\n",
    "        k+=1\n",
    "    \n",
    "    bw=bin_width if not norm else bin_width/lambda0\n",
    "    exp_freq=exp_f if not norm else exp_f/lambda0\n",
    "    bin_low=exp_freq-bw*(0.5*k)\n",
    "    bin_high=exp_freq+bw*(0.5*k)\n",
    "    \n",
    "    bins=np.linspace(bin_low,bin_high,k+1)\n",
    "    \n",
    "    rays = rays_after if not norm else rays_after/lambda0\n",
    "    #hist=np.histogram(rays,bins)\n",
    "    hist,bin_range=np.histogram(rays,bins)\n",
    "\n",
    "    #plots the histogram\n",
    "    if plot:\n",
    "        fig,ax=plt.subplots(figsize=(15,10))\n",
    "        ax.hist(rays,bins)\n",
    "        xl='z (m)' if not norm else 'z/lambda'\n",
    "        ax.set_xlabel(xl)\n",
    "        ax.ticklabel_format(useOffset=False)\n",
    "        ax.set_xticks(bins)\n",
    "        title=\"Expected f: %f m\" % (exp_f)\n",
    "        ax.set_title(title)\n",
    "        if savefig:\n",
    "            plt.savefig(title+\"_hist.png\")\n",
    "\n",
    "        plt.show()\n",
    "    \n",
    "    h=np.array(hist)\n",
    "    return h"
   ]
  },
  {
   "cell_type": "markdown",
   "metadata": {},
   "source": [
    "## The cost function\n",
    "\n",
    "The cost function is the chi-square goodness-of-fit test which is shown below:\n",
    "\n",
    "\\begin{equation}\n",
    "    \\chi^2=\\sum_{i=1}^{k}(O_i-E_i)^2\n",
    "\\end{equation}\n",
    "\n",
    "where $O_i$ is the observed frequency for bin $i$ and $E_i$ is the expected frequency for bin $i$. For our case we want to have all of our rays meet at the same point i.e have them all in the same bin. Therefore, the expected frequency for all of the non zero bins will be the total number of rays. We will need to minimize the chi-square value in order to get the optimal optic. \n",
    "\n",
    "The cost function may need to have additional terms to include the parameters we wish to optimize\n",
    "\n",
    "7/5/22 \n",
    "- Number of rays within the histogram. Right now, we have it such that not all the rays end up in the histogram because of the range we have defined so one of the metrics can be the number of rays we want to end up in the histogram itself. We can use this to quickly descend to the desired k (around -1) and then have the chi-square further narrow it down accurately. "
   ]
  },
  {
   "cell_type": "code",
   "execution_count": 11,
   "metadata": {},
   "outputs": [],
   "source": [
    "def chi_square(hist):\n",
    "    nr=np.sum(hist)\n",
    "    Oi=hist/nr\n",
    "    Ei=np.zeros(len(hist))\n",
    "    index=int(np.floor(len(hist)/2))\n",
    "    Ei[index]=1 #nr\n",
    "    chi_square=np.sum((Oi-Ei)**2)\n",
    "    return chi_square"
   ]
  },
  {
   "cell_type": "code",
   "execution_count": 12,
   "metadata": {},
   "outputs": [],
   "source": [
    "def cost_function(hist,alpha,Nr):\n",
    "    return chi_square(hist)+alpha*(Nr-np.sum(hist))/Nr"
   ]
  },
  {
   "cell_type": "code",
   "execution_count": 13,
   "metadata": {},
   "outputs": [],
   "source": [
    "def run_raytrace(k,thick,roc,exp_f,Nr):\n",
    "    o=create_starting_optic(thick,roc,k=k)\n",
    "    rm,af=raytrace(o,refract=False,Nr=Nr)\n",
    "    lambda0=1.054e-6 #m\n",
    "    diam=0.075 #m\n",
    "    bw=calc_bw(lambda0,diam)\n",
    "    hist=create_hist(af,exp_f,bw*10)\n",
    "    h=np.array(hist)\n",
    "    return h"
   ]
  },
  {
   "cell_type": "markdown",
   "metadata": {},
   "source": [
    "# Gradient\n",
    "\n",
    "Uses the central difference formula which has an error of $O(\\Delta k^2)$"
   ]
  },
  {
   "cell_type": "code",
   "execution_count": 14,
   "metadata": {},
   "outputs": [],
   "source": [
    "def grad(k,Del_k,alpha,thick,roc,exp_f,Nr):\n",
    "#     chi1=2\n",
    "#     chi2=1\n",
    "#     while np.abs(chi2-chi1)>1e-3:\n",
    "    h1=run_raytrace(k-Del_k,thick,roc,exp_f,Nr)\n",
    "    h2=run_raytrace(k+Del_k,thick,roc,exp_f,Nr)\n",
    "    c1=cost_function(h1,alpha,Nr)\n",
    "    c2=cost_function(h2,alpha,Nr)\n",
    "    return (c2-c1)/(2*Del_k)"
   ]
  },
  {
   "cell_type": "code",
   "execution_count": 15,
   "metadata": {
    "jupyter": {
     "source_hidden": true
    }
   },
   "outputs": [
    {
     "ename": "NameError",
     "evalue": "name 'chis' is not defined",
     "output_type": "error",
     "traceback": [
      "\u001b[0;31m---------------------------------------------------------------------------\u001b[0m",
      "\u001b[0;31mNameError\u001b[0m                                 Traceback (most recent call last)",
      "\u001b[0;32m<ipython-input-15-138042adca2b>\u001b[0m in \u001b[0;36m<module>\u001b[0;34m\u001b[0m\n\u001b[1;32m      1\u001b[0m \u001b[0mfig\u001b[0m\u001b[0;34m,\u001b[0m\u001b[0;34m(\u001b[0m\u001b[0max1\u001b[0m\u001b[0;34m,\u001b[0m\u001b[0max2\u001b[0m\u001b[0;34m)\u001b[0m\u001b[0;34m=\u001b[0m\u001b[0mplt\u001b[0m\u001b[0;34m.\u001b[0m\u001b[0msubplots\u001b[0m\u001b[0;34m(\u001b[0m\u001b[0;36m2\u001b[0m\u001b[0;34m,\u001b[0m\u001b[0;36m1\u001b[0m\u001b[0;34m,\u001b[0m\u001b[0mfigsize\u001b[0m\u001b[0;34m=\u001b[0m\u001b[0;34m(\u001b[0m\u001b[0;36m10\u001b[0m\u001b[0;34m,\u001b[0m\u001b[0;36m12\u001b[0m\u001b[0;34m)\u001b[0m\u001b[0;34m)\u001b[0m\u001b[0;34m\u001b[0m\u001b[0;34m\u001b[0m\u001b[0m\n\u001b[0;32m----> 2\u001b[0;31m \u001b[0mgrad_chi\u001b[0m\u001b[0;34m=\u001b[0m\u001b[0mnp\u001b[0m\u001b[0;34m.\u001b[0m\u001b[0mdiff\u001b[0m\u001b[0;34m(\u001b[0m\u001b[0mchis\u001b[0m\u001b[0;34m)\u001b[0m\u001b[0;34m/\u001b[0m\u001b[0mnp\u001b[0m\u001b[0;34m.\u001b[0m\u001b[0mdiff\u001b[0m\u001b[0;34m(\u001b[0m\u001b[0mnp\u001b[0m\u001b[0;34m.\u001b[0m\u001b[0mlinspace\u001b[0m\u001b[0;34m(\u001b[0m\u001b[0;34m-\u001b[0m\u001b[0;36m1.2\u001b[0m\u001b[0;34m,\u001b[0m\u001b[0;34m-\u001b[0m\u001b[0;36m0.8\u001b[0m\u001b[0;34m,\u001b[0m\u001b[0;36m100\u001b[0m\u001b[0;34m)\u001b[0m\u001b[0;34m)\u001b[0m\u001b[0;34m\u001b[0m\u001b[0;34m\u001b[0m\u001b[0m\n\u001b[0m\u001b[1;32m      3\u001b[0m \u001b[0mgrad_nr\u001b[0m\u001b[0;34m=\u001b[0m\u001b[0mnp\u001b[0m\u001b[0;34m.\u001b[0m\u001b[0mdiff\u001b[0m\u001b[0;34m(\u001b[0m\u001b[0mnr\u001b[0m\u001b[0;34m)\u001b[0m\u001b[0;34m/\u001b[0m\u001b[0mnp\u001b[0m\u001b[0;34m.\u001b[0m\u001b[0mdiff\u001b[0m\u001b[0;34m(\u001b[0m\u001b[0mnp\u001b[0m\u001b[0;34m.\u001b[0m\u001b[0mlinspace\u001b[0m\u001b[0;34m(\u001b[0m\u001b[0;34m-\u001b[0m\u001b[0;36m1.2\u001b[0m\u001b[0;34m,\u001b[0m\u001b[0;34m-\u001b[0m\u001b[0;36m0.8\u001b[0m\u001b[0;34m,\u001b[0m\u001b[0;36m100\u001b[0m\u001b[0;34m)\u001b[0m\u001b[0;34m)\u001b[0m\u001b[0;34m\u001b[0m\u001b[0;34m\u001b[0m\u001b[0m\n\u001b[1;32m      4\u001b[0m \u001b[0mk_val\u001b[0m\u001b[0;34m=\u001b[0m\u001b[0mnp\u001b[0m\u001b[0;34m.\u001b[0m\u001b[0mlinspace\u001b[0m\u001b[0;34m(\u001b[0m\u001b[0;34m-\u001b[0m\u001b[0;36m1.2\u001b[0m\u001b[0;34m,\u001b[0m\u001b[0;34m-\u001b[0m\u001b[0;36m0.8\u001b[0m\u001b[0;34m,\u001b[0m\u001b[0;36m100\u001b[0m\u001b[0;34m)\u001b[0m\u001b[0;34m[\u001b[0m\u001b[0;36m1\u001b[0m\u001b[0;34m:\u001b[0m\u001b[0;34m]\u001b[0m\u001b[0;34m\u001b[0m\u001b[0;34m\u001b[0m\u001b[0m\n\u001b[1;32m      5\u001b[0m \u001b[0max1\u001b[0m\u001b[0;34m.\u001b[0m\u001b[0mplot\u001b[0m\u001b[0;34m(\u001b[0m\u001b[0mk_val\u001b[0m\u001b[0;34m,\u001b[0m\u001b[0mgrad_chi\u001b[0m\u001b[0;34m,\u001b[0m\u001b[0mlabel\u001b[0m\u001b[0;34m=\u001b[0m\u001b[0;34m'brute'\u001b[0m\u001b[0;34m)\u001b[0m\u001b[0;34m\u001b[0m\u001b[0;34m\u001b[0m\u001b[0m\n",
      "\u001b[0;31mNameError\u001b[0m: name 'chis' is not defined"
     ]
    },
    {
     "name": "stderr",
     "output_type": "stream",
     "text": [
      "findfont: Font family ['normal'] not found. Falling back to DejaVu Sans.\n"
     ]
    },
    {
     "data": {
      "image/png": "[encoded data removed]",
      "text/plain": [
       "<Figure size 720x864 with 2 Axes>"
      ]
     },
     "metadata": {
      "needs_background": "light"
     },
     "output_type": "display_data"
    }
   ],
   "source": [
    "fig,(ax1,ax2)=plt.subplots(2,1,figsize=(10,12))\n",
    "grad_chi=np.diff(chis)/np.diff(np.linspace(-1.2,-0.8,100))\n",
    "grad_nr=np.diff(nr)/np.diff(np.linspace(-1.2,-0.8,100))\n",
    "k_val=np.linspace(-1.2,-0.8,100)[1:]\n",
    "ax1.plot(k_val,grad_chi,label='brute')\n",
    "ax1.plot(np.linspace(-1.2,-0.8,100),np.array(grads)[:,0],label='calculated')\n",
    "ax2.plot(k_val,grad_nr,label='brute')\n",
    "ax2.plot(np.linspace(-1.2,-0.8,100),np.array(grads)[:,1],label='calculated')\n",
    "kmin=k_val[np.argmin(grad_nr)]\n",
    "kmax=k_val[np.argmax(grad_nr)]\n",
    "ax2.axvline(kmin,color='k', linestyle='--')\n",
    "ax2.axvline(kmax,color='k', linestyle='--')\n",
    "ax1.axvline(kmin,color='k', linestyle='--')\n",
    "ax1.axvline(kmax,color='k', linestyle='--')\n",
    "ax1.set_title('Gradient of chi squared')\n",
    "ax2.set_title('Gradient of number of rays')\n",
    "ax1.set_xlabel('k')\n",
    "ax2.set_xlabel('k')\n",
    "ax1.set_ylabel('grad(chi sq)')\n",
    "ax2.set_ylabel('grad(Nr)')\n",
    "ax1.legend()\n",
    "ax2.legend()\n",
    "\n",
    "plt.show()"
   ]
  },
  {
   "cell_type": "markdown",
   "metadata": {},
   "source": [
    "## The Gradient Descent Algorithm"
   ]
  },
  {
   "cell_type": "code",
   "execution_count": null,
   "metadata": {},
   "outputs": [],
   "source": [
    "def gradient_descent(start_k,Del_k,alpha,thick,roc,exp_f,learn_rate,n_iter,tol=1e-6,Nr=1000):\n",
    "    k=start_k\n",
    "    ks=[start_k]\n",
    "    c1=run_raytrace(k,thick,roc,exp_f,Nr)\n",
    "    cost=[cost_function(c1,alpha,Nr)]\n",
    "    n=0\n",
    "    diff=1e6\n",
    "    while(n<n_iter and abs(diff)>tol and abs(k)<8):\n",
    "        diff=-learn_rate*grad(k,Del_k,alpha,thick,roc,exp_f,Nr)\n",
    "        print(\"%d \\t k:%f \\t diff:%f\"%(n,k,diff))\n",
    "        k+=diff\n",
    "        ks.append(k)\n",
    "        cost.append(cost_function(run_raytrace(k,thick,roc,exp_f,Nr),alpha,Nr))\n",
    "        n+=1\n",
    "    return ks,cost"
   ]
  }
 ],
 "metadata": {
  "kernelspec": {
   "display_name": "Python 3",
   "language": "python",
   "name": "python3"
  },
  "language_info": {
   "codemirror_mode": {
    "name": "ipython",
    "version": 3
   },
   "file_extension": ".py",
   "mimetype": "text/x-python",
   "name": "python",
   "nbconvert_exporter": "python",
   "pygments_lexer": "ipython3",
   "version": "3.8.5"
  }
 },
 "nbformat": 4,
 "nbformat_minor": 4
}
