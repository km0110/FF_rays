{
 "cells": [
  {
   "cell_type": "code",
   "execution_count": 1,
   "id": "248e4064-3cc2-48c9-a7b7-fdb6debf5f1c",
   "metadata": {},
   "outputs": [],
   "source": [
    "import os\n",
    "import numpy as np\n",
    "import matplotlib.pyplot as plt"
   ]
  },
  {
   "cell_type": "code",
   "execution_count": 2,
   "id": "90e819b3-5117-495e-aec0-549d5cb5e982",
   "metadata": {},
   "outputs": [],
   "source": [
    "def plot_cdz(title,cdz,No):\n",
    "    fig, ax = plt.subplots(figsize=(20,10))\n",
    "    zeros=np.zeros((11,1))\n",
    "    cdz=np.hstack((zeros,cdz))\n",
    "    im=ax.imshow(np.array(cdz).T,origin='lower')\n",
    "    ax.figure.colorbar(im,fraction=0.046, pad=0.04)\n",
    "    plt.xlabel('iterations')\n",
    "    plt.ylabel('r(m)')\n",
    "    x_positions=np.linspace(0,No,6)\n",
    "    step=No//5\n",
    "    x_labels=np.append(o_r[::step],o_r[-1])\n",
    "    ax.set_yticks(x_positions)\n",
    "    ax.set_yticklabels(['{:.3e}'.format(x) for x in x_labels])\n",
    "    plt.tight_layout()\n",
    "    plt.savefig(title+'plot_cdz')\n",
    "    plt.show()"
   ]
  },
  {
   "cell_type": "code",
   "execution_count": 3,
   "id": "797ed04a-cf6d-462d-9408-eee33493714f",
   "metadata": {},
   "outputs": [],
   "source": [
    "def plot_diff(title,o_z,o_r,r,R,start_o,No):\n",
    "    oz=np.copy(o_z)\n",
    "    fig, ax = plt.subplots(figsize=(15,10))\n",
    "    end_o=create_starting_optic(r,R,k=-1,N=No)[1][1:]\n",
    "    total_change=end_o-start_o[1][1:]\n",
    "    exp_o=np.tile(end_o,(len(o_z),1))\n",
    "    oz[:,1:]-=exp_o\n",
    "    #oz[:,1:]/=total_change\n",
    "    im=ax.imshow(np.array(oz).T,origin='lower')\n",
    "    ax.figure.colorbar(im,fraction=0.046, pad=0.04)\n",
    "    plt.xlabel('iterations')\n",
    "    plt.ylabel('r(m)')\n",
    "    step=No//5\n",
    "    y_positions=np.linspace(0,No,6)\n",
    "    y_labels=np.append(o_r[::step],o_r[-1])\n",
    "    ax.set_yticks(y_positions)\n",
    "    ax.set_yticklabels(['{:.3e}'.format(y) for y in y_labels])\n",
    "    plt.tight_layout()\n",
    "    #plt.savefig(title + \"plot_diff\")\n",
    "    plt.show()"
   ]
  },
  {
   "cell_type": "code",
   "execution_count": null,
   "id": "bc02d239-fb8d-425e-a012-beb0c12adfed",
   "metadata": {},
   "outputs": [
    {
     "data": {
      "text/plain": [
       "'/Users/gracekim/flying_focus/FF_rays/dz0_k--0.50_eps-1.0e-07_lr-1.0e-03_No-100_Nr-100_N-1000_t-2.92e+03'"
      ]
     },
     "execution_count": 55,
     "metadata": {},
     "output_type": "execute_result"
    }
   ],
   "source": [
    "sv\"th0)"
   ]
  },
  {
   "cell_type": "code",
   "execution_count": 26,
   "id": "9c0dfab7-e06a-4c92-85b0-2dc11a8e1c50",
   "metadata": {},
   "outputs": [
    {
     "data": {
      "text/plain": [
       "['/Users/gracekim/flying_focus/FF_rays/dz0_k--0.50_eps-1.0e-07_lr-1.0e-03_No-100_Nr-100_N-1000_t-2.92e+03',\n",
       " '/Users/gracekim/flying_focus/FF_rays/dz0_k--0.50_eps-1.0e-07_lr-1.0e-03_No-100_Nr-100_N-100_t-2.93e+02',\n",
       " '/Users/gracekim/flying_focus/FF_rays/dz0_k--0.50_eps-1.0e-07_lr-1.0e-03_No-100_Nr-20_N-1000_t-5.96e+02',\n",
       " '/Users/gracekim/flying_focus/FF_rays/dz0_k--1.50_eps-1.0e-07_lr-1.0e-03_No-100_Nr-100_N-1000_t-2.92e+03',\n",
       " '/Users/gracekim/flying_focus/FF_rays/dz0_k--1.50_eps-1.0e-07_lr-1.0e-03_No-100_Nr-100_N-100_t-2.92e+02',\n",
       " '/Users/gracekim/flying_focus/FF_rays/dz0_k--1.50_eps-1.0e-07_lr-1.0e-03_No-100_Nr-20_N-1000_t-5.96e+02',\n",
       " '/Users/gracekim/flying_focus/FF_rays/k--0.50_eps-1.0e-07_lr-1.0e-03_No-100_Nr-100_N-1000_t-2.94e+03',\n",
       " '/Users/gracekim/flying_focus/FF_rays/k--0.50_eps-1.0e-07_lr-1.0e-03_No-100_Nr-100_N-100_t-2.95e+02',\n",
       " '/Users/gracekim/flying_focus/FF_rays/k--0.50_eps-1.0e-07_lr-1.0e-03_No-100_Nr-100_N-10_t-3.13e+01',\n",
       " '/Users/gracekim/flying_focus/FF_rays/k--0.50_eps-1.0e-07_lr-1.0e-03_No-100_Nr-20_N-1000_t-5.99e+02',\n",
       " '/Users/gracekim/flying_focus/FF_rays/k--0.50_eps-1.0e-07_lr-1.0e-03_No-20_Nr-20_N-1000_t-1.18e+02',\n",
       " '/Users/gracekim/flying_focus/FF_rays/k--0.50_eps-1.0e-07_lr-1.0e-03_No-20_Nr-20_N-1000_t-1.22e+02',\n",
       " '/Users/gracekim/flying_focus/FF_rays/k--0.50_eps-1.0e-07_lr-1.0e-03_No-250_Nr-250_N-1000_t-1.86e+04',\n",
       " '/Users/gracekim/flying_focus/FF_rays/k--0.50_eps-1.0e-07_lr-1.0e-03_No-500_Nr-500_N-1000_t-7.45e+04',\n",
       " '/Users/gracekim/flying_focus/FF_rays/k--0.50_eps-1.0e-07_lr-1.0e-03_No-50_Nr-50_N-1000_t-7.42e+02',\n",
       " '/Users/gracekim/flying_focus/FF_rays/k--0.50_eps-1.0e-07_lr-1.0e-03_No-50_Nr-50_N-1000_t-7.60e+02',\n",
       " '/Users/gracekim/flying_focus/FF_rays/k--0.50_eps-1.0e-07_lr-1.0e-04_No-100_Nr-100_N-1000_t-2.94e+03',\n",
       " '/Users/gracekim/flying_focus/FF_rays/k--0.50_eps-1.0e-07_lr-1.0e-04_No-100_Nr-250_N-1000_t-7.32e+03',\n",
       " '/Users/gracekim/flying_focus/FF_rays/k--0.50_eps-1.0e-07_lr-1.0e-04_No-100_Nr-500_N-1000_t-1.47e+04',\n",
       " '/Users/gracekim/flying_focus/FF_rays/k--0.50_eps-1.0e-07_lr-1.0e-04_No-100_Nr-50_N-1000_t-1.47e+03',\n",
       " '/Users/gracekim/flying_focus/FF_rays/k--1.50_eps-1.0e-07_lr-1.0e-03_No-100_Nr-100_N-1000_t-2.94e+03',\n",
       " '/Users/gracekim/flying_focus/FF_rays/k--1.50_eps-1.0e-07_lr-1.0e-03_No-100_Nr-100_N-100_t-2.94e+02',\n",
       " '/Users/gracekim/flying_focus/FF_rays/k--1.50_eps-1.0e-07_lr-1.0e-03_No-100_Nr-20_N-1000_t-5.98e+02',\n",
       " '/Users/gracekim/flying_focus/FF_rays/k--1.50_eps-1.0e-07_lr-1.0e-04_No-100_Nr-100_N-1000_t-2.95e+03',\n",
       " '/Users/gracekim/flying_focus/FF_rays/k--1.50_eps-1.0e-07_lr-1.0e-04_No-100_Nr-250_N-1000_t-7.33e+03',\n",
       " '/Users/gracekim/flying_focus/FF_rays/k--1.50_eps-1.0e-07_lr-1.0e-04_No-100_Nr-500_N-1000_t-1.46e+04',\n",
       " '/Users/gracekim/flying_focus/FF_rays/k--1.50_eps-1.0e-07_lr-1.0e-04_No-100_Nr-50_N-1000_t-1.47e+03']"
      ]
     },
     "execution_count": 31,
     "metadata": {},
     "output_type": "execute_result"
    }
   ],
   "source": [
    "paths"
   ]
  },
  {
   "cell_type": "code",
   "execution_count": null,
   "id": "b352d3d2-d8a2-44fb-a0a7-079e54046f8d",
   "metadata": {},
   "outputs": [],
   "source": []
  }
 ],
 "metadata": {
  "kernelspec": {
   "display_name": "Python 3 (ipykernel)",
   "language": "python",
   "name": "python3"
  },
  "language_info": {
   "codemirror_mode": {
    "name": "ipython",
    "version": 3
   },
   "file_extension": ".py",
   "mimetype": "text/x-python",
   "name": "python",
   "nbconvert_exporter": "python",
   "pygments_lexer": "ipython3",
   "version": "3.10.4"
  }
 },
 "nbformat": 4,
 "nbformat_minor": 5
}
