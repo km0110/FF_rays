{
 "cells": [
  {
   "cell_type": "code",
   "execution_count": 1,
   "metadata": {},
   "outputs": [],
   "source": [
    "import numpy as np\n",
    "import time\n",
    "from scipy.interpolate import CubicSpline\n",
    "import matplotlib.pyplot as plt\n",
    "import os\n",
    "font = {'family' : 'normal',\n",
    "        'size'   : 15}\n",
    "\n",
    "plt.rc('font', **font)"
   ]
  },
  {
   "cell_type": "code",
   "execution_count": 2,
   "metadata": {
    "tags": []
   },
   "outputs": [],
   "source": [
    "def create_starting_optic(r,R,k=-1,N=100):\n",
    "    r=np.linspace(0,r,N) #solves the problem of not having enough points close to the origin\n",
    "    z=r*r/(R+np.sqrt(R*R-(k+1)*r*r))\n",
    "    optic=np.array([r,z])\n",
    "    return optic"
   ]
  },
  {
   "cell_type": "code",
   "execution_count": 3,
   "metadata": {},
   "outputs": [],
   "source": [
    "def find_local_eq(h,optic,N=100):\n",
    "    # first find nearest point in the lens array to where the ray r intersects\n",
    "    r=optic[0]\n",
    "    z=optic[1]\n",
    "    index=np.abs(r-h).argmin()\n",
    "    \n",
    "    # isolate a few points around the closest index (look into how many points we actually want)\n",
    "    lower=index-3 if index-3>0 else 0 # set the boundary conditions...\n",
    "    upper=index+3\n",
    "    \n",
    "    \n",
    "    local_r=np.array(r[lower:upper])-h\n",
    "    local_z=np.array(z[lower:upper])\n",
    "    \n",
    "    # Use cubic spline to interpolate the local points\n",
    "    # need to switch the z and the r coordinates so that cubic spline won't give error\n",
    "    cs=None\n",
    "    try:\n",
    "        cs=CubicSpline(local_r,local_z)\n",
    "    except:\n",
    "        print(local_opt)\n",
    "        print(lower)\n",
    "        print(upper)\n",
    "    #zs=np.linspace(local_z[0],local_z[-1],N) \n",
    "    return cs"
   ]
  },
  {
   "cell_type": "code",
   "execution_count": 4,
   "metadata": {},
   "outputs": [],
   "source": [
    "def find_reflect_slope(norm):\n",
    "    theta=np.arctan(norm)\n",
    "    slope=np.tan(2*theta)\n",
    "    return slope"
   ]
  },
  {
   "cell_type": "code",
   "execution_count": 5,
   "metadata": {},
   "outputs": [],
   "source": [
    "def raytrace(optic, exp_f, Nr=7, linsp=True):\n",
    "    #create the starting rays\n",
    "    r=optic[0]\n",
    "    # make sure that the rays are bounded \n",
    "    r_max=r[-1]\n",
    "    \n",
    "    rays=np.linspace(0,r_max,Nr) if linsp else np.geomspace(1e-9,r_max,Nr) #confine the rays to the diameter of the optic\n",
    "    #rays[rays==0]=1e-9 # if r=0 exists set to small value so we don't get infinity values\n",
    "    raymatrix=[] # 3 points: before, at, after the optic\n",
    "    after=[]\n",
    "    for h in rays:\n",
    "        cs=find_local_eq(h,optic)\n",
    "        z_optic=cs(0)        \n",
    "        norm=1/cs(0,1) #The normal is just the derivative \n",
    "        slope=find_reflect_slope(norm)\n",
    "        r_after=slope*(exp_f-z_optic)+h # This is where the ray meets z=exp_f\n",
    "        ray_z=[z_optic,exp_f]\n",
    "        ray_r=[h,r_after]            \n",
    "        raymatrix.append([ray_r,ray_z])\n",
    "        after.append(r_after)\n",
    "        #np.concatenate(raymatrix)\n",
    "    return np.array(raymatrix),np.array(after)"
   ]
  },
  {
   "cell_type": "code",
   "execution_count": 6,
   "metadata": {},
   "outputs": [],
   "source": [
    "def plot(optic,raymatrix,exp_f,title=None, lambda0=None, norm=False,savefig=False):\n",
    "    #first plot the optic:\n",
    "    plt.figure(figsize=(15,10))\n",
    "    opt_r=optic[0] if not norm else optic[0]/lambda0\n",
    "    opt_z=optic[1] if not norm else optic[1]/lambda0\n",
    "    plt.plot(opt_z,opt_r,'b',opt_z,-1*opt_r,'b')\n",
    "    exp_freq=exp_f if not norm else exp_f/lambda0\n",
    "    plt.axvline(x=exp_freq, color='k', linestyle='--')\n",
    "    #Then plot the rays:\n",
    "    for ray in raymatrix:\n",
    "        ray_r=ray[0] if not norm else ray[0]/lambda0\n",
    "        ray_z=ray[1] if not norm else ray[1]/lambda0\n",
    "        plt.plot(ray_z,ray_r,'r',ray_z,-1*ray_r,'r')\n",
    "        \n",
    "    xl='z (m)' if not norm else 'z/lambda'\n",
    "    yl='r (m)' if not norm else 'r/lambda'\n",
    "    plt.xlabel(xl)\n",
    "    plt.ylabel(yl)\n",
    "    plt.title(title)\n",
    "    plt.xlim((-0.01,exp_f+0.02))\n",
    "    r_max=max(opt_r)+0.001\n",
    "    plt.ylim((-r_max,r_max))\n",
    "    if savefig:\n",
    "        plt.savefig(title+\".png\")\n",
    "    #plt.show()\n",
    "    plt.close()"
   ]
  },
  {
   "cell_type": "code",
   "execution_count": 7,
   "metadata": {},
   "outputs": [],
   "source": [
    "def rms(rays_after):\n",
    "    n=len(rays_after)\n",
    "    return np.sqrt(np.sum(rays_after**2)/n)"
   ]
  },
  {
   "cell_type": "code",
   "execution_count": 8,
   "metadata": {},
   "outputs": [],
   "source": [
    "def grad(i,epsilon,optic,exp_f,Nr):\n",
    "    o_r=optic[0]\n",
    "    o_z=optic[1]\n",
    "    j=i+1\n",
    "    # o_z[j]+=signs[i]*epsilon\n",
    "    o_z[j]+=epsilon\n",
    "    rm1,af1=raytrace([o_r,o_z],exp_f,Nr)\n",
    "    # o_z[j]-=2*signs[i]*epsilon\n",
    "    o_z[j]-=2*epsilon\n",
    "    rm2,af2=raytrace([o_r,o_z],exp_f,Nr)\n",
    "    c1=rms(af1)\n",
    "    c2=rms(af2)\n",
    "    return c1-c2"
   ]
  },
  {
   "cell_type": "code",
   "execution_count": 20,
   "metadata": {},
   "outputs": [],
   "source": [
    "def plot_cdz(title,cdz,No):\n",
    "    fig, ax = plt.subplots(figsize=(20,10))\n",
    "    zeros=np.zeros((11,1))\n",
    "    cdz=np.hstack((zeros,cdz))\n",
    "    im=ax.imshow(np.array(cdz).T,origin='lower')\n",
    "    ax.figure.colorbar(im,fraction=0.046, pad=0.04)\n",
    "    plt.xlabel('iterations')\n",
    "    plt.ylabel('r(m)')\n",
    "    x_positions=np.linspace(0,No,6)\n",
    "    step=No//5\n",
    "    x_labels=np.append(o_r[::step],o_r[-1])\n",
    "    ax.set_yticks(x_positions)\n",
    "    ax.set_yticklabels(['{:.3e}'.format(x) for x in x_labels])\n",
    "    plt.tight_layout()\n",
    "    #plt.savefig(title+'plot_cdz')\n",
    "    plt.show()"
   ]
  },
  {
   "cell_type": "code",
   "execution_count": 10,
   "metadata": {},
   "outputs": [],
   "source": [
    "def plot_diff(title,o_z,o_r,r,R,start_o,No):\n",
    "    oz=np.copy(o_z)\n",
    "    fig, ax = plt.subplots(figsize=(15,10))\n",
    "    end_o=create_starting_optic(r,R,k=-1,N=No)[1][1:]\n",
    "    total_change=end_o-start_o[1][1:]\n",
    "    exp_o=np.tile(end_o,(len(o_z),1))\n",
    "    oz[:,1:]-=exp_o\n",
    "    #oz[:,1:]/=total_change\n",
    "    im=ax.imshow(np.array(oz).T,origin='lower')\n",
    "    ax.figure.colorbar(im,fraction=0.046, pad=0.04)\n",
    "    plt.xlabel('iterations')\n",
    "    plt.ylabel('r(m)')\n",
    "    step=No//5\n",
    "    y_positions=np.linspace(0,No,6)\n",
    "    y_labels=np.append(o_r[::step],o_r[-1])\n",
    "    ax.set_yticks(y_positions)\n",
    "    ax.set_yticklabels(['{:.3e}'.format(y) for y in y_labels])\n",
    "    plt.tight_layout()\n",
    "    #plt.savefig(title + \"plot_diff\")\n",
    "    plt.show()"
   ]
  },
  {
   "cell_type": "code",
   "execution_count": 11,
   "metadata": {},
   "outputs": [],
   "source": [
    "def write_data(o_z,o_r,cost,cdz,title):\n",
    "    os.system('mkdir '+title)\n",
    "    np.savetxt(title+'/'+title+\"_o_z.csv\",o_z)\n",
    "    np.savetxt(title+'/'+title+\"_o_r.csv\",o_r)\n",
    "    np.savetxt(title+'/'+title+\"_cost.csv\",cost)\n",
    "    np.savetxt(title+'/'+title+\"_cdz.csv\",cdz)"
   ]
  },
  {
   "cell_type": "code",
   "execution_count": 12,
   "metadata": {},
   "outputs": [],
   "source": [
    "def gradient_descent(epsilon,dz,start_k,r,R,exp_f,learn_rate,n_iter=1000,tol=1e-6,No=100,Nr=1000,plt=False,title=None):\n",
    "    start_time=time.time()\n",
    "    start_o=create_starting_optic(r,R,k=start_k,N=No)\n",
    "    o_r=start_o[0]\n",
    "    o_z=np.array([start_o[1]])\n",
    "    rm0,af0=raytrace(start_o,exp_f,Nr)\n",
    "    cost=[rms(af0)]\n",
    "    n=0\n",
    "    if plt:\n",
    "        plot(start_o,rm0,exp_f,title+\"/step_%d\"%(n),savefig=True)\n",
    "    diff=cost[0]\n",
    "    dzs=np.ones(No-1)*dz\n",
    "    cdz=np.array(dzs)\n",
    "    #print(dzs)\n",
    "    #print('Step: %d\\t Cost: %f'%(n,cost[0]))\n",
    "    o=start_o[1]\n",
    "    while(n<n_iter and abs(diff)>tol):\n",
    "        #print(change_dzs)\n",
    "        #start_time=time.time()\n",
    "        n+=1\n",
    "        #signs=np.random.choice([-1,1],No-1)\n",
    "        #o[1:]+=signs*dzs #move each point in the optic randomly by dz except for the point at origin\n",
    "        o[1:]+=dzs\n",
    "        o_z=np.vstack([o_z,o])\n",
    "        rm,af=raytrace([o_r,o],exp_f,Nr)\n",
    "        c=rms(af)\n",
    "        cost.append(c)\n",
    "        if plt:\n",
    "            plot([o_r,o],rm,exp_f,title+\"/step_%d\"%(n),savefig=True)\n",
    "        for i in range(len(dzs)):\n",
    "            step_size=learn_rate*grad(i,epsilon,[o_r,o],exp_f,Nr)\n",
    "            dzs[i]=dzs[i]-step_size\n",
    "        diff=c\n",
    "        cdz=np.vstack([cdz,dzs])\n",
    "        #print(dzs)\n",
    "        print('Step:%d  \\t Cost: %E \\t time: %s'%(n,c,time.time()-start_time))\n",
    "    title='k-%.2f_eps-%.1e_lr-%.1e_No-%d_Nr-%d_N-%d_t-%.2e'%(start_k,epsilon,learn_rate,No,Nr,n_iter,time.time()-start_time)\n",
    "    #write_data(o_z,o_r,cost,cdz,title)\n",
    "    return np.array(o_z),o_r,cost,cdz"
   ]
  },
  {
   "cell_type": "code",
   "execution_count": 22,
   "metadata": {},
   "outputs": [
    {
     "name": "stdout",
     "output_type": "stream",
     "text": [
      "Step:1  \t Cost: 4.751543E-04 \t time: 3.0291671752929688\n",
      "Step:2  \t Cost: 4.750344E-04 \t time: 6.0589439868927\n",
      "Step:3  \t Cost: 4.747835E-04 \t time: 9.071637153625488\n",
      "Step:4  \t Cost: 4.744127E-04 \t time: 12.10261607170105\n",
      "Step:5  \t Cost: 4.739386E-04 \t time: 15.14027738571167\n",
      "Step:6  \t Cost: 4.733818E-04 \t time: 18.179713010787964\n",
      "Step:7  \t Cost: 4.727667E-04 \t time: 21.2264301776886\n",
      "Step:8  \t Cost: 4.721207E-04 \t time: 24.24300217628479\n",
      "Step:9  \t Cost: 4.714727E-04 \t time: 27.277711153030396\n",
      "Step:10  \t Cost: 4.708521E-04 \t time: 30.33428120613098\n"
     ]
    }
   ],
   "source": [
    "o_z,o_r,cost,cdz=gradient_descent(1e-7,0,-0.5,0.0375,0.1125,0.05625,1e-3,n_iter=10,Nr=100,No=100)"
   ]
  },
  {
   "cell_type": "code",
   "execution_count": 23,
   "metadata": {},
   "outputs": [
    {
     "name": "stdout",
     "output_type": "stream",
     "text": [
      "[-9.03666064e-13 -1.44587800e-11 -7.31986109e-11 -2.31348348e-10\n",
      " -5.64829711e-10 -1.17126741e-09 -2.16999744e-09 -3.70207725e-09\n",
      " -5.93029773e-09 -9.03919708e-09 -1.32350765e-08 -1.87460178e-08\n",
      " -2.58219029e-08 -3.47344348e-08 -4.57771611e-08 -5.92654992e-08\n",
      " -7.55367626e-08 -9.49501902e-08 -1.17886977e-07 -1.44750306e-07\n",
      " -1.75965385e-07 -2.11979479e-07 -2.53261952e-07 -3.00304306e-07\n",
      " -3.53620223e-07 -4.13745610e-07 -4.81238645e-07 -5.56679823e-07\n",
      " -6.40672008e-07 -7.33840485e-07 -8.36833014e-07 -9.50319885e-07\n",
      " -1.07499398e-06 -1.21157081e-06 -1.36078864e-06 -1.52340846e-06\n",
      " -1.70021413e-06 -1.89201242e-06 -2.09963306e-06 -2.32392885e-06\n",
      " -2.56577572e-06 -2.82607278e-06 -3.10574244e-06 -3.40573047e-06\n",
      " -3.72700609e-06 -4.07056205e-06 -4.43741470e-06 -4.82860413e-06\n",
      " -5.24519422e-06 -5.68827274e-06 -6.15895145e-06 -6.65836622e-06\n",
      " -7.18767708e-06 -7.74806840e-06 -8.34074892e-06 -8.96695189e-06\n",
      " -9.62793521e-06 -1.03249815e-05 -1.10593982e-05 -1.18325178e-05\n",
      " -1.26456978e-05 -1.35003209e-05 -1.43977953e-05 -1.53395544e-05\n",
      " -1.63270575e-05 -1.73617893e-05 -1.84452608e-05 -1.95790086e-05\n",
      " -2.07645956e-05 -2.20036111e-05 -2.32976708e-05 -2.46484168e-05\n",
      " -2.60575182e-05 -2.75266709e-05 -2.90575979e-05 -3.06520493e-05\n",
      " -3.23118027e-05 -3.40386633e-05 -3.58344640e-05 -3.77010655e-05\n",
      " -3.96403567e-05 -4.16542547e-05 -4.37447052e-05 -4.59136823e-05\n",
      " -4.81631890e-05 -5.04952575e-05 -5.29119491e-05 -5.54153543e-05\n",
      " -5.80075936e-05 -6.06908172e-05 -6.34672051e-05 -6.63389680e-05\n",
      " -6.93083467e-05 -7.23776130e-05 -7.55490693e-05 -7.88250496e-05\n",
      " -8.22079188e-05 -8.57000738e-05 -8.93039433e-05]\n"
     ]
    }
   ],
   "source": [
    "start_o=create_starting_optic(0.0375,0.1125,k=-0.5,N=100)\n",
    "end_o=create_starting_optic(0.0375,0.1125,k=-1,N=100)\n",
    "print(end_o[1][1:]-start_o[1][1:])"
   ]
  },
  {
   "cell_type": "code",
   "execution_count": 24,
   "metadata": {},
   "outputs": [
    {
     "data": {
      "text/plain": [
       "array([0., 0., 0., 0., 0., 0., 0., 0., 0., 0., 0., 0., 0., 0., 0., 0., 0.,\n",
       "       0., 0., 0., 0., 0., 0., 0., 0., 0., 0., 0., 0., 0., 0., 0., 0., 0.,\n",
       "       0., 0., 0., 0., 0., 0., 0., 0., 0., 0., 0., 0., 0., 0., 0., 0., 0.,\n",
       "       0., 0., 0., 0., 0., 0., 0., 0., 0., 0., 0., 0., 0., 0., 0., 0., 0.,\n",
       "       0., 0., 0., 0., 0., 0., 0., 0., 0., 0., 0., 0., 0., 0., 0., 0., 0.,\n",
       "       0., 0., 0., 0., 0., 0., 0., 0., 0., 0., 0., 0., 0., 0., 0.])"
      ]
     },
     "execution_count": 24,
     "metadata": {},
     "output_type": "execute_result"
    }
   ],
   "source": [
    "start_o[1]-o_z[0]"
   ]
  },
  {
   "cell_type": "code",
   "execution_count": 25,
   "metadata": {},
   "outputs": [
    {
     "data": {
      "text/plain": [
       "array([-8.87172000e-07, -9.04640648e-07, -9.01640229e-07, -9.00581614e-07,\n",
       "       -9.00374705e-07, -8.99757209e-07, -8.98756805e-07, -8.97222493e-07,\n",
       "       -8.94991852e-07, -8.91880226e-07, -8.87681327e-07, -8.82167068e-07,\n",
       "       -8.75087564e-07, -8.66171107e-07, -8.55124145e-07, -8.41631257e-07,\n",
       "       -8.25355123e-07, -8.05936500e-07, -7.82994185e-07, -7.56124990e-07,\n",
       "       -7.24903701e-07, -6.88883045e-07, -6.47593651e-07, -6.00544008e-07,\n",
       "       -5.47220426e-07, -4.87086990e-07, -4.19585513e-07, -3.44135490e-07,\n",
       "       -2.60134046e-07, -1.66955885e-07, -6.39532370e-08,  4.95441997e-08,\n",
       "        1.74229316e-07,  3.10817652e-07,  4.60047459e-07,  6.22679763e-07,\n",
       "        7.99498432e-07,  9.91310244e-07,  1.19894496e-06,  1.42325538e-06,\n",
       "        1.66511746e-06,  1.92543033e-06,  2.20511641e-06,  2.50512151e-06,\n",
       "        2.82641484e-06,  3.16998918e-06,  3.53686093e-06,  3.92807017e-06,\n",
       "        4.34468082e-06,  4.78778066e-06,  5.25848149e-06,  5.75791920e-06,\n",
       "        6.28725386e-06,  6.84766984e-06,  7.44037594e-06,  8.06660544e-06,\n",
       "        8.72761625e-06,  9.42469103e-06,  1.01591373e-05,  1.09322875e-05,\n",
       "        1.17454992e-05,  1.26001552e-05,  1.34976637e-05,  1.44394582e-05,\n",
       "        1.54269979e-05,  1.64617677e-05,  1.75452785e-05,  1.86790671e-05,\n",
       "        1.98646964e-05,  2.11037557e-05,  2.23978607e-05,  2.37486538e-05,\n",
       "        2.51578040e-05,  2.66270073e-05,  2.81579866e-05,  2.97524924e-05,\n",
       "        3.14123021e-05,  3.31392212e-05,  3.49350824e-05,  3.68017467e-05,\n",
       "        3.87411030e-05,  4.07550686e-05,  4.28455891e-05,  4.50146389e-05,\n",
       "        4.72642210e-05,  4.95963677e-05,  5.20131404e-05,  5.45166298e-05,\n",
       "        5.71089565e-05,  5.97922706e-05,  6.25687527e-05,  6.54406145e-05,\n",
       "        6.84100746e-05,  7.14795809e-05,  7.46524917e-05,  7.79408437e-05,\n",
       "        8.12283456e-05,  8.49476760e-05,  8.82121808e-05])"
      ]
     },
     "execution_count": 25,
     "metadata": {},
     "output_type": "execute_result"
    }
   ],
   "source": [
    "(o_z[10][1:]-end_o[1][1:])"
   ]
  },
  {
   "cell_type": "code",
   "execution_count": 26,
   "metadata": {},
   "outputs": [
    {
     "data": {
      "text/plain": [
       "array([ 9.81747611e+05,  6.25668729e+04,  1.23177232e+04,  3.89275144e+03,\n",
       "        1.59406399e+03,  7.68191109e+02,  4.14174132e+02,  2.42356502e+02,\n",
       "        1.50918536e+02,  9.86680806e+01,  6.70703585e+01,  4.70589048e+01,\n",
       "        3.38893523e+01,  2.49369570e+01,  1.86801480e+01,  1.42010321e+01,\n",
       "        1.09265356e+01,  8.48799247e+00,  6.64190571e+00,  5.22365036e+00,\n",
       "        4.11958126e+00,  3.24976290e+00,  2.55701122e+00,  1.99978487e+00,\n",
       "        1.54748058e+00,  1.17726201e+00,  8.71886573e-01,  6.18192856e-01,\n",
       "        4.06033106e-01,  2.27509777e-01,  7.64229373e-02, -5.21342345e-02,\n",
       "       -1.62074691e-01, -2.56541053e-01, -3.38074147e-01, -4.08741174e-01,\n",
       "       -4.70233965e-01, -5.23944893e-01, -5.71025948e-01, -6.12435007e-01,\n",
       "       -6.48972336e-01, -6.81309534e-01, -7.10012648e-01, -7.35560705e-01,\n",
       "       -7.58360671e-01, -7.78759579e-01, -7.97054404e-01, -8.13500147e-01,\n",
       "       -8.28316480e-01, -8.41693230e-01, -8.53794924e-01, -8.64764570e-01,\n",
       "       -8.74726811e-01, -8.83790577e-01, -8.92051303e-01, -8.99592808e-01,\n",
       "       -9.06488884e-01, -9.12804642e-01, -9.18597658e-01, -9.23918957e-01,\n",
       "       -9.28813849e-01, -9.33322647e-01, -9.37481292e-01, -9.41321879e-01,\n",
       "       -9.44873129e-01, -9.48160779e-01, -9.51207939e-01, -9.54035389e-01,\n",
       "       -9.56661845e-01, -9.59104192e-01, -9.61377682e-01, -9.63496114e-01,\n",
       "       -9.65471992e-01, -9.67316656e-01, -9.69040413e-01, -9.70652635e-01,\n",
       "       -9.72161858e-01, -9.73575868e-01, -9.74901771e-01, -9.76146065e-01,\n",
       "       -9.77314694e-01, -9.78413103e-01, -9.79446289e-01, -9.80418835e-01,\n",
       "       -9.81334957e-01, -9.82198530e-01, -9.83013124e-01, -9.83782031e-01,\n",
       "       -9.84508284e-01, -9.85194687e-01, -9.85843832e-01, -9.86458133e-01,\n",
       "       -9.87039480e-01, -9.87592406e-01, -9.88132512e-01, -9.88782679e-01,\n",
       "       -9.88084199e-01, -9.91220569e-01, -9.87774756e-01])"
      ]
     },
     "execution_count": 26,
     "metadata": {},
     "output_type": "execute_result"
    }
   ],
   "source": [
    "(o_z[10][1:]-end_o[1][1:])/(end_o[1][1:]-start_o[1][1:])"
   ]
  },
  {
   "cell_type": "code",
   "execution_count": 27,
   "metadata": {},
   "outputs": [
    {
     "data": {
      "text/plain": [
       "array([[ 0.00000000e+00,  0.00000000e+00,  0.00000000e+00, ...,\n",
       "         0.00000000e+00,  0.00000000e+00,  0.00000000e+00],\n",
       "       [ 0.00000000e+00,  7.09244106e-15, -6.12451987e-11, ...,\n",
       "        -1.93108870e-09,  3.57780190e-09, -4.42488379e-09],\n",
       "       [ 0.00000000e+00,  1.07399824e-10, -1.38608722e-10, ...,\n",
       "        -3.83934398e-09,  7.11387461e-09, -8.82683281e-09],\n",
       "       ...,\n",
       "       [ 0.00000000e+00,  2.99067435e-09, -9.31723522e-10, ...,\n",
       "        -1.35875742e-08,  2.52181874e-08, -3.35297129e-08],\n",
       "       [ 0.00000000e+00,  3.83840283e-09, -1.11560385e-09, ...,\n",
       "        -1.47417942e-08,  2.73739836e-08, -3.71713039e-08],\n",
       "       [ 0.00000000e+00,  4.78811589e-09, -1.31287696e-09, ...,\n",
       "        -1.57154815e-08,  2.91986194e-08, -4.06286767e-08]])"
      ]
     },
     "execution_count": 27,
     "metadata": {},
     "output_type": "execute_result"
    }
   ],
   "source": [
    "zeros=np.zeros((11,1))\n",
    "cdzt=np.hstack((zeros,cdz))\n",
    "cdzt"
   ]
  },
  {
   "cell_type": "code",
   "execution_count": null,
   "metadata": {},
   "outputs": [],
   "source": []
  },
  {
   "cell_type": "code",
   "execution_count": 28,
   "metadata": {},
   "outputs": [
    {
     "data": {
      "image/png": "[encoded data removed]",
      "text/plain": [
       "<Figure size 2000x1000 with 2 Axes>"
      ]
     },
     "metadata": {},
     "output_type": "display_data"
    }
   ],
   "source": [
    "plot_cdz('t',cdz,100)"
   ]
  },
  {
   "cell_type": "code",
   "execution_count": 30,
   "metadata": {},
   "outputs": [
    {
     "data": {
      "image/png": "[encoded data removed]",
      "text/plain": [
       "<Figure size 1500x1000 with 2 Axes>"
      ]
     },
     "metadata": {},
     "output_type": "display_data"
    }
   ],
   "source": [
    "plot_diff('t',o_z,o_r,0.0375,0.1125,start_o,100)"
   ]
  },
  {
   "cell_type": "code",
   "execution_count": 27,
   "metadata": {},
   "outputs": [],
   "source": [
    "gradient_descent(1e-7,5e-7,-0.5,0.0375,0.1125,0.05625,1e-3,n_iter=100,Nr=100,No=100)"
   ]
  },
  {
   "cell_type": "code",
   "execution_count": null,
   "metadata": {},
   "outputs": [],
   "source": [
    "gradient_descent(1e-7,5e-7,-0.5,0.0375,0.1125,0.05625,1e-3,n_iter=1000,Nr=100,No=100)"
   ]
  },
  {
   "cell_type": "code",
   "execution_count": null,
   "metadata": {},
   "outputs": [],
   "source": [
    "gradient_descent(1e-7,5e-7,-0.5,0.0375,0.1125,0.05625,1e-3,n_iter=1000,Nr=20,No=100)"
   ]
  },
  {
   "cell_type": "code",
   "execution_count": null,
   "metadata": {},
   "outputs": [],
   "source": [
    "gradient_descent(1e-7,5e-7,-1.5,0.0375,0.1125,0.05625,1e-3,n_iter=100,Nr=100,No=100)"
   ]
  },
  {
   "cell_type": "code",
   "execution_count": null,
   "metadata": {},
   "outputs": [],
   "source": [
    "gradient_descent(1e-7,5e-7,-1.5,0.0375,0.1125,0.05625,1e-3,n_iter=1000,Nr=100,No=100)"
   ]
  },
  {
   "cell_type": "code",
   "execution_count": null,
   "metadata": {},
   "outputs": [],
   "source": [
    "gradient_descent(1e-7,5e-7,-1.5,0.0375,0.1125,0.05625,1e-3,n_iter=1000,Nr=20,No=100)"
   ]
  }
 ],
 "metadata": {
  "kernelspec": {
   "display_name": "Python 3 (ipykernel)",
   "language": "python",
   "name": "python3"
  },
  "language_info": {
   "codemirror_mode": {
    "name": "ipython",
    "version": 3
   },
   "file_extension": ".py",
   "mimetype": "text/x-python",
   "name": "python",
   "nbconvert_exporter": "python",
   "pygments_lexer": "ipython3",
   "version": "3.10.4"
  }
 },
 "nbformat": 4,
 "nbformat_minor": 4
}
