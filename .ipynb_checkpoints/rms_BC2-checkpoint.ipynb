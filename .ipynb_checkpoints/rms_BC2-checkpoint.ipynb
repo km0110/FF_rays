{
 "cells": [
  {
   "cell_type": "code",
   "execution_count": 1,
   "metadata": {},
   "outputs": [],
   "source": [
    "import numpy as np\n",
    "import time\n",
    "from scipy.interpolate import CubicSpline\n",
    "import matplotlib.pyplot as plt\n",
    "import os\n",
    "font = {'family' : 'normal',\n",
    "        'size'   : 15}\n",
    "\n",
    "plt.rc('font', **font)"
   ]
  },
  {
   "cell_type": "code",
   "execution_count": 2,
   "metadata": {
    "tags": []
   },
   "outputs": [],
   "source": [
    "def create_starting_optic(r,R,k=-1,N=100):\n",
    "    r=np.linspace(0,r,N) #solves the problem of not having enough points close to the origin\n",
    "    z=r*r/(R+np.sqrt(R*R-(k+1)*r*r))\n",
    "    optic=np.array([r,z])\n",
    "    return optic"
   ]
  },
  {
   "cell_type": "code",
   "execution_count": 3,
   "metadata": {},
   "outputs": [],
   "source": [
    "def find_local_eq(h,optic,N=100):\n",
    "    # first find nearest point in the lens array to where the ray r intersects\n",
    "    r=optic[0]\n",
    "    z=optic[1]\n",
    "    index=np.abs(r-h).argmin()\n",
    "    \n",
    "    # isolate a few points around the closest index (look into how many points we actually want)\n",
    "    lower=index-3 if index-3>0 else 0 # set the boundary conditions...\n",
    "    upper=index+3\n",
    "    \n",
    "    \n",
    "    local_r=np.array(r[lower:upper])-h\n",
    "    local_z=np.array(z[lower:upper])\n",
    "    \n",
    "    # Use cubic spline to interpolate the local points\n",
    "    # need to switch the z and the r coordinates so that cubic spline won't give error\n",
    "    cs=None\n",
    "    try:\n",
    "        cs=CubicSpline(local_r,local_z)\n",
    "    except:\n",
    "        print(local_opt)\n",
    "        print(lower)\n",
    "        print(upper)\n",
    "    #zs=np.linspace(local_z[0],local_z[-1],N) \n",
    "    return cs"
   ]
  },
  {
   "cell_type": "code",
   "execution_count": 4,
   "metadata": {},
   "outputs": [],
   "source": [
    "def find_reflect_slope(norm):\n",
    "    theta=np.arctan(norm)\n",
    "    slope=np.tan(2*theta)\n",
    "    return slope"
   ]
  },
  {
   "cell_type": "code",
   "execution_count": 5,
   "metadata": {},
   "outputs": [],
   "source": [
    "def raytrace(optic, exp_f, Nr=7, linsp=True):\n",
    "    #create the starting rays\n",
    "    r=optic[0]\n",
    "    # make sure that the rays are bounded \n",
    "    r_max=r[-1]\n",
    "    \n",
    "    rays=np.linspace(0,r_max,Nr) if linsp else np.geomspace(1e-9,r_max,Nr) #confine the rays to the diameter of the optic\n",
    "    #rays[rays==0]=1e-9 # if r=0 exists set to small value so we don't get infinity values\n",
    "    raymatrix=[] # 3 points: before, at, after the optic\n",
    "    after=[]\n",
    "    for h in rays:\n",
    "        cs=find_local_eq(h,optic)\n",
    "        z_optic=cs(0)        \n",
    "        norm=1/cs(0,1) #The normal is just the derivative \n",
    "        slope=find_reflect_slope(norm)\n",
    "        r_after=slope*(exp_f-z_optic)+h # This is where the ray meets z=exp_f\n",
    "        ray_z=[z_optic,exp_f]\n",
    "        ray_r=[h,r_after]            \n",
    "        raymatrix.append([ray_r,ray_z])\n",
    "        after.append(r_after)\n",
    "        #np.concatenate(raymatrix)\n",
    "    return np.array(raymatrix),np.array(after)"
   ]
  },
  {
   "cell_type": "code",
   "execution_count": 6,
   "metadata": {},
   "outputs": [],
   "source": [
    "def plot(optic,raymatrix,exp_f,title=None, lambda0=None, norm=False,savefig=False):\n",
    "    #first plot the optic:\n",
    "    plt.figure(figsize=(15,10))\n",
    "    opt_r=optic[0] if not norm else optic[0]/lambda0\n",
    "    opt_z=optic[1] if not norm else optic[1]/lambda0\n",
    "    plt.plot(opt_z,opt_r,'b',opt_z,-1*opt_r,'b')\n",
    "    exp_freq=exp_f if not norm else exp_f/lambda0\n",
    "    plt.axvline(x=exp_freq, color='k', linestyle='--')\n",
    "    #Then plot the rays:\n",
    "    for ray in raymatrix:\n",
    "        ray_r=ray[0] if not norm else ray[0]/lambda0\n",
    "        ray_z=ray[1] if not norm else ray[1]/lambda0\n",
    "        plt.plot(ray_z,ray_r,'r',ray_z,-1*ray_r,'r')\n",
    "        \n",
    "    xl='z (m)' if not norm else 'z/lambda'\n",
    "    yl='r (m)' if not norm else 'r/lambda'\n",
    "    plt.xlabel(xl)\n",
    "    plt.ylabel(yl)\n",
    "    plt.title(title)\n",
    "    plt.xlim((-0.01,exp_f+0.02))\n",
    "    r_max=max(opt_r)+0.001\n",
    "    plt.ylim((-r_max,r_max))\n",
    "    if savefig:\n",
    "        plt.savefig(title+\".png\")\n",
    "    #plt.show()\n",
    "    plt.close()"
   ]
  },
  {
   "cell_type": "code",
   "execution_count": 7,
   "metadata": {},
   "outputs": [],
   "source": [
    "def rms(rays_after):\n",
    "    n=len(rays_after)\n",
    "    return np.sqrt(np.sum(rays_after**2)/n)"
   ]
  },
  {
   "cell_type": "code",
   "execution_count": 8,
   "metadata": {},
   "outputs": [],
   "source": [
    "def grad(i,epsilon,optic,exp_f,Nr):\n",
    "    o_r=optic[0]\n",
    "    o_z=optic[1]\n",
    "    j=i+1\n",
    "    # o_z[j]+=signs[i]*epsilon\n",
    "    o_z[j]+=epsilon\n",
    "    rm1,af1=raytrace([o_r,o_z],exp_f,Nr)\n",
    "    # o_z[j]-=2*signs[i]*epsilon\n",
    "    o_z[j]-=2*epsilon\n",
    "    rm2,af2=raytrace([o_r,o_z],exp_f,Nr)\n",
    "    c1=rms(af1)\n",
    "    c2=rms(af2)\n",
    "    return c1-c2"
   ]
  },
  {
   "cell_type": "code",
   "execution_count": 9,
   "metadata": {},
   "outputs": [],
   "source": [
    "def plot_cdz(title,cdz,o_r):\n",
    "    fig, ax = plt.subplots(figsize=(12,10))\n",
    "    zeros=np.zeros((len(cdz),1))\n",
    "    cdz=np.hstack((zeros,cdz))\n",
    "    n_iter=len(cdz)\n",
    "    if n_iter>100:\n",
    "        steps=len(cdz)//100\n",
    "        cdz=cdz[::steps]\n",
    "    im=ax.imshow(np.array(cdz).T,origin='lower')\n",
    "    cbar=ax.figure.colorbar(im,fraction=0.046, pad=0.04, label=r'$\\Delta dz$')\n",
    "    cbar.formatter.set_powerlimits((0, 0))\n",
    "    plt.xlabel('iterations')\n",
    "    plt.ylabel('r(m)')\n",
    "    No=len(cdz[0])+1\n",
    "    y_positions=np.linspace(0,No,6)\n",
    "    step=No//5\n",
    "    y_labels=np.append(o_r[::step],o_r[-1])\n",
    "    ax.set_yticks(y_positions)\n",
    "    ax.set_yticklabels(['{:.3e}'.format(y) for y in y_labels])\n",
    "    \n",
    "    if n_iter>100:\n",
    "        x_positions=np.linspace(0,100,6)\n",
    "        x_labels=np.linspace(0,n_iter-1,6).astype(int)\n",
    "        ax.set_xticks(x_positions)\n",
    "        ax.set_xticklabels(['{:d}'.format(x) for x in x_labels])\n",
    "\n",
    "    plt.tight_layout()\n",
    "    plt.savefig(title+'/'+title+'_plot_cdz.png')\n",
    "    #plt.show()"
   ]
  },
  {
   "cell_type": "code",
   "execution_count": 10,
   "metadata": {},
   "outputs": [],
   "source": [
    "def plot_diff(title,o_z,o_r,r,R):\n",
    "    oz=np.copy(o_z)*-1\n",
    "    fig, ax = plt.subplots(figsize=(12,10))\n",
    "    No=len(o_r)\n",
    "    start_o=oz[0]\n",
    "    end_o=create_starting_optic(r,R,k=-1,N=No)[1][1:]\n",
    "    #total_change=end_o+start_o[1:]\n",
    "    exp_o=np.tile(end_o,(len(o_z),1))\n",
    "    #print(exp_o[0])\n",
    "    oz[:,1:]+=exp_o\n",
    "    #oz[:,1:]/=total_change\n",
    "    #print(oz[0])\n",
    "    n_iter=len(oz)\n",
    "    if n_iter>100:\n",
    "        steps=len(oz)//100\n",
    "        oz=oz[::steps]\n",
    "\n",
    "    im=ax.imshow(np.array(oz).T,origin='lower')\n",
    "    cbar=ax.figure.colorbar(im,fraction=0.046, pad=0.04,label='K=-1 - current optic')\n",
    "    cbar.formatter.set_powerlimits((0, 0))\n",
    "    plt.xlabel('iterations')\n",
    "    plt.ylabel('r(m)')\n",
    "    step=No//5\n",
    "    y_positions=np.linspace(0,No,6)\n",
    "    y_labels=np.append(o_r[::step],o_r[-1])\n",
    "    ax.set_yticks(y_positions)\n",
    "    ax.set_yticklabels(['{:.3e}'.format(y) for y in y_labels])\n",
    "    \n",
    "    if n_iter>100:\n",
    "        x_positions=np.linspace(0,100,6)\n",
    "        x_labels=np.linspace(0,n_iter-1,6).astype(int)\n",
    "        ax.set_xticks(x_positions)\n",
    "        ax.set_xticklabels(['{:d}'.format(x) for x in x_labels])\n",
    "\n",
    "    plt.tight_layout()\n",
    "    plt.savefig(title+'/'+title+ \"_plot_diff.png\")\n",
    "    #plt.show()"
   ]
  },
  {
   "cell_type": "code",
   "execution_count": 11,
   "metadata": {},
   "outputs": [],
   "source": [
    "def write_data(o_z,o_r,cost,cdz,grads,title):\n",
    "    os.system('mkdir '+title)\n",
    "    np.savetxt(title+'/'+title+\"_o_z.csv\",o_z)\n",
    "    np.savetxt(title+'/'+title+\"_o_r.csv\",o_r)\n",
    "    np.savetxt(title+'/'+title+\"_cost.csv\",cost)\n",
    "    np.savetxt(title+'/'+title+\"_cdz.csv\",cdz)\n",
    "    np.savetxt(title+'/'+title+\"_grads.csv\",grads)"
   ]
  },
  {
   "cell_type": "code",
   "execution_count": 12,
   "metadata": {},
   "outputs": [],
   "source": [
    "def gradient_descent(epsilon,dz,start_k,r,R,exp_f,learn_rate,n_iter=1000,tol=1e-6,No=100,Nr=1000,plt=False,title=None):\n",
    "    start_time=time.time()\n",
    "    start_o=create_starting_optic(r,R,k=start_k,N=No)\n",
    "    o_r=start_o[0]\n",
    "    o_z=np.array([start_o[1]])\n",
    "    rm0,af0=raytrace(start_o,exp_f,Nr)\n",
    "    cost=[rms(af0)]\n",
    "    n=0\n",
    "    if plt:\n",
    "        plot(start_o,rm0,exp_f,title+\"/step_%d\"%(n),savefig=True)\n",
    "    diff=cost[0]\n",
    "    dzs=np.ones(No-1)*dz\n",
    "    cdz=np.array(dzs)\n",
    "    #print(dzs)\n",
    "    #print('Step: %d\\t Cost: %f'%(n,cost[0]))\n",
    "    o=start_o[1]\n",
    "    grads=[]\n",
    "    while(n<n_iter and abs(diff)>tol):\n",
    "        #print(change_dzs)\n",
    "        #start_time=time.time()\n",
    "        n+=1\n",
    "        #signs=np.random.choice([-1,1],No-1)\n",
    "        #o[1:]+=signs*dzs #move each point in the optic randomly by dz except for the point at origin\n",
    "        o[1:]+=dzs\n",
    "        o_z=np.vstack([o_z,o])\n",
    "        rm,af=raytrace([o_r,o],exp_f,Nr)\n",
    "        c=rms(af)\n",
    "        cost.append(c)\n",
    "        if plt:\n",
    "            plot([o_r,o],rm,exp_f,title+\"/step_%d\"%(n),savefig=True)\n",
    "        gs=[]\n",
    "        for i in range(len(dzs)):\n",
    "            g=grad(i,epsilon,[o_r,o],exp_f,Nr)\n",
    "            step_size=learn_rate*g\n",
    "            dzs[i]=dzs[i]-step_size\n",
    "            gs.append(g)\n",
    "        diff=c\n",
    "        cdz=np.vstack([cdz,dzs])\n",
    "        #print(dzs)\n",
    "        grads.append(gs)\n",
    "        print('Step:%d  \\t Cost: %E \\t time: %s'%(n,c,time.time()-start_time))\n",
    "    \n",
    "    runtime=time.time()-start_time\n",
    "    title='dz-%1.e_k-%.2f_eps-%.1e_lr-%.1e_No-%d_Nr-%d_N-%d_t-%.2e'%(dz,start_k,epsilon,learn_rate,No,Nr,n_iter,runtime)\n",
    "    write_data(o_z,o_r,cost,cdz,grads,title)\n",
    "    plot_cdz(title,cdz,o_r)\n",
    "    plot_diff(title,o_z,o_r,r,R)\n",
    "    print(title + \" finished\")\n",
    "    print(time.strftime(\"%H:%M:%S\", time.gmtime(runtime)))\n",
    "    return np.array(o_z),o_r,cost,cdz"
   ]
  },
  {
   "cell_type": "markdown",
   "metadata": {},
   "source": [
    "Default "
   ]
  },
  {
   "cell_type": "markdown",
   "metadata": {},
   "source": [
    "Change in learning rate to 1e-2"
   ]
  },
  {
   "cell_type": "code",
   "execution_count": 13,
   "metadata": {},
   "outputs": [
    {
     "name": "stdout",
     "output_type": "stream",
     "text": [
      "Step:1  \t Cost: 4.755093E-04 \t time: 2.9630560874938965\n",
      "Step:2  \t Cost: 4.748220E-04 \t time: 5.948120832443237\n",
      "Step:3  \t Cost: 4.735759E-04 \t time: 8.916751861572266\n",
      "Step:4  \t Cost: 4.725929E-04 \t time: 11.885118007659912\n",
      "Step:5  \t Cost: 4.726817E-04 \t time: 14.865238189697266\n",
      "Step:6  \t Cost: 4.742949E-04 \t time: 17.83050298690796\n",
      "Step:7  \t Cost: 4.773297E-04 \t time: 20.77810502052307\n",
      "Step:8  \t Cost: 4.811600E-04 \t time: 23.742061853408813\n",
      "Step:9  \t Cost: 4.848718E-04 \t time: 26.71841597557068\n"
     ]
    },
    {
     "name": "stderr",
     "output_type": "stream",
     "text": [
      "findfont: Font family ['normal'] not found. Falling back to DejaVu Sans.\n"
     ]
    },
    {
     "name": "stdout",
     "output_type": "stream",
     "text": [
      "Step:10  \t Cost: 4.875783E-04 \t time: 29.678061962127686\n",
      "dz-5e-07_k--0.50_eps-1.0e-07_lr-1.0e-02_No-100_Nr-100_N-10_t-2.97e+01 finished\n",
      "00:00:29\n"
     ]
    },
    {
     "data": {
      "text/plain": [
       "(array([[0.00000000e+00, 6.37690935e-07, 2.55077459e-06, ...,\n",
       "         6.08223343e-03, 6.21007514e-03, 6.33930394e-03],\n",
       "        [0.00000000e+00, 1.13769094e-06, 3.05077459e-06, ...,\n",
       "         6.08273343e-03, 6.21057514e-03, 6.33980394e-03],\n",
       "        [0.00000000e+00, 1.53232502e-06, 3.45096937e-06, ...,\n",
       "         6.08311413e-03, 6.21101089e-03, 6.34015972e-03],\n",
       "        ...,\n",
       "        [0.00000000e+00, 3.56730327e-06, 5.88454464e-06, ...,\n",
       "         6.08523713e-03, 6.21392794e-03, 6.34161771e-03],\n",
       "        [0.00000000e+00, 3.82148979e-06, 6.29775027e-06, ...,\n",
       "         6.08562349e-03, 6.21435396e-03, 6.34181197e-03],\n",
       "        [0.00000000e+00, 4.04589060e-06, 6.71278593e-06, ...,\n",
       "         6.08603325e-03, 6.21473532e-03, 6.34200911e-03]]),\n",
       " array([0.        , 0.00037879, 0.00075758, 0.00113636, 0.00151515,\n",
       "        0.00189394, 0.00227273, 0.00265152, 0.0030303 , 0.00340909,\n",
       "        0.00378788, 0.00416667, 0.00454545, 0.00492424, 0.00530303,\n",
       "        0.00568182, 0.00606061, 0.00643939, 0.00681818, 0.00719697,\n",
       "        0.00757576, 0.00795455, 0.00833333, 0.00871212, 0.00909091,\n",
       "        0.0094697 , 0.00984848, 0.01022727, 0.01060606, 0.01098485,\n",
       "        0.01136364, 0.01174242, 0.01212121, 0.0125    , 0.01287879,\n",
       "        0.01325758, 0.01363636, 0.01401515, 0.01439394, 0.01477273,\n",
       "        0.01515152, 0.0155303 , 0.01590909, 0.01628788, 0.01666667,\n",
       "        0.01704545, 0.01742424, 0.01780303, 0.01818182, 0.01856061,\n",
       "        0.01893939, 0.01931818, 0.01969697, 0.02007576, 0.02045455,\n",
       "        0.02083333, 0.02121212, 0.02159091, 0.0219697 , 0.02234848,\n",
       "        0.02272727, 0.02310606, 0.02348485, 0.02386364, 0.02424242,\n",
       "        0.02462121, 0.025     , 0.02537879, 0.02575758, 0.02613636,\n",
       "        0.02651515, 0.02689394, 0.02727273, 0.02765152, 0.0280303 ,\n",
       "        0.02840909, 0.02878788, 0.02916667, 0.02954545, 0.02992424,\n",
       "        0.03030303, 0.03068182, 0.03106061, 0.03143939, 0.03181818,\n",
       "        0.03219697, 0.03257576, 0.03295455, 0.03333333, 0.03371212,\n",
       "        0.03409091, 0.0344697 , 0.03484848, 0.03522727, 0.03560606,\n",
       "        0.03598485, 0.03636364, 0.03674242, 0.03712121, 0.0375    ]),\n",
       " [0.0004751542735920184,\n",
       "  0.0004755092648170064,\n",
       "  0.00047482202413722283,\n",
       "  0.0004735758798831314,\n",
       "  0.00047259288241999144,\n",
       "  0.0004726816663363369,\n",
       "  0.00047429492092512993,\n",
       "  0.00047732965948031175,\n",
       "  0.0004811600340013651,\n",
       "  0.00048487183757446486,\n",
       "  0.0004875783171205946],\n",
       " array([[5.00000000e-07, 5.00000000e-07, 5.00000000e-07, ...,\n",
       "         5.00000000e-07, 5.00000000e-07, 5.00000000e-07],\n",
       "        [4.94634082e-07, 5.00194788e-07, 4.99927368e-07, ...,\n",
       "         4.80700355e-07, 5.35756282e-07, 4.55776629e-07],\n",
       "        [4.85056515e-07, 5.01002164e-07, 5.00009567e-07, ...,\n",
       "         4.63694565e-07, 5.67319262e-07, 4.13871807e-07],\n",
       "        ...,\n",
       "        [3.54186524e-07, 5.13205635e-07, 5.02825845e-07, ...,\n",
       "         4.86355778e-07, 5.26019044e-07, 2.94263934e-07],\n",
       "        [3.24400814e-07, 5.15035662e-07, 5.03432762e-07, ...,\n",
       "         5.09767228e-07, 4.81363382e-07, 2.97133729e-07],\n",
       "        [2.93688627e-07, 5.16331670e-07, 5.03992945e-07, ...,\n",
       "         5.34910358e-07, 4.32271153e-07, 3.03224245e-07]]))"
      ]
     },
     "execution_count": 13,
     "metadata": {},
     "output_type": "execute_result"
    },
    {
     "data": {
      "image/png": "[encoded data removed]",
      "text/plain": [
       "<Figure size 1200x1000 with 2 Axes>"
      ]
     },
     "metadata": {},
     "output_type": "display_data"
    },
    {
     "data": {
      "image/png": "[encoded data removed]",
      "text/plain": [
       "<Figure size 1200x1000 with 2 Axes>"
      ]
     },
     "metadata": {},
     "output_type": "display_data"
    }
   ],
   "source": [
    "gradient_descent(1e-7,5e-7,-0.5,0.0375,0.1125,0.05625,1e-2,n_iter=10,Nr=100,No=100)\n",
    "print(\"Test Completed... Should work now....\")"
   ]
  },
  {
   "cell_type": "code",
   "execution_count": 27,
   "metadata": {},
   "outputs": [],
   "source": [
    "#gradient_descent(1e-7,5e-7,-0.5,0.0375,0.1125,0.05625,1e-2,n_iter=2000,Nr=100,No=100)"
   ]
  },
  {
   "cell_type": "code",
   "execution_count": 27,
   "metadata": {},
   "outputs": [],
   "source": [
    "gradient_descent(1e-7,5e-7,-0.5,0.0375,0.1125,0.05625,5e-3,n_iter=2000,Nr=100,No=100)"
   ]
  },
  {
   "cell_type": "code",
   "execution_count": 27,
   "metadata": {},
   "outputs": [],
   "source": [
    "gradient_descent(1e-7,5e-7,-0.5,0.0375,0.1125,0.05625,1e-3,n_iter=2000,Nr=100,No=100)"
   ]
  },
  {
   "cell_type": "code",
   "execution_count": 27,
   "metadata": {},
   "outputs": [],
   "source": [
    "gradient_descent(1e-7,5e-7,-0.5,0.0375,0.1125,0.05625,1e-2,n_iter=2000,Nr=50,No=100)"
   ]
  },
  {
   "cell_type": "code",
   "execution_count": 27,
   "metadata": {},
   "outputs": [],
   "source": [
    "gradient_descent(1e-7,5e-7,-0.5,0.0375,0.1125,0.05625,5e-3,n_iter=2000,Nr=50,No=100)"
   ]
  },
  {
   "cell_type": "code",
   "execution_count": 27,
   "metadata": {},
   "outputs": [],
   "source": [
    "gradient_descent(1e-7,5e-7,-0.5,0.0375,0.1125,0.05625,1e-3,n_iter=2000,Nr=50,No=100)"
   ]
  }
 ],
 "metadata": {
  "kernelspec": {
   "display_name": "Python 3 (ipykernel)",
   "language": "python",
   "name": "python3"
  },
  "language_info": {
   "codemirror_mode": {
    "name": "ipython",
    "version": 3
   },
   "file_extension": ".py",
   "mimetype": "text/x-python",
   "name": "python",
   "nbconvert_exporter": "python",
   "pygments_lexer": "ipython3",
   "version": "3.10.4"
  }
 },
 "nbformat": 4,
 "nbformat_minor": 4
}
