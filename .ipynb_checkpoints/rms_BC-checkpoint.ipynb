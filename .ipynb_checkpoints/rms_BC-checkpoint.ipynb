{
 "cells": [
  {
   "cell_type": "code",
   "execution_count": 1,
   "metadata": {},
   "outputs": [],
   "source": [
    "import numpy as np\n",
    "import time\n",
    "from scipy.interpolate import CubicSpline\n",
    "import matplotlib.pyplot as plt\n",
    "font = {'family' : 'normal',\n",
    "        'size'   : 28}\n",
    "\n",
    "plt.rc('font', **font)"
   ]
  },
  {
   "cell_type": "code",
   "execution_count": 2,
   "metadata": {},
   "outputs": [],
   "source": [
    "def create_starting_optic(thick,R,k=-1,N=100):\n",
    "    z=np.linspace(0,thick,N) #solves the problem of not having enough points close to the origin\n",
    "    r=np.sqrt(2*R*z-(k+1)*z**2) \n",
    "    optic=np.array([z,r])\n",
    "    return optic"
   ]
  },
  {
   "cell_type": "code",
   "execution_count": 3,
   "metadata": {},
   "outputs": [],
   "source": [
    "def find_local_eq(r,optic,N=100):\n",
    "    # first find nearest point in the lens array to where the ray r intersects\n",
    "    z=optic[0]\n",
    "    opt=optic[1]\n",
    "    index=np.abs(opt-r).argmin()\n",
    "    \n",
    "    # isolate a few points around the closest index (look into how many points we actually want)\n",
    "    lower=index-3 if index-3>0 else 0\n",
    "    upper=index+3\n",
    "        \n",
    "    local_z=np.array(z[lower:upper])\n",
    "    local_opt=np.array(opt[lower:upper])-r\n",
    "    \n",
    "    local_z=local_z[::-1]\n",
    "    local_opt=-1*local_opt[::-1]\n",
    "    # Use cubic spline to interpolate the local points\n",
    "    # need to switch the z and the r coordinates so that cubic spline won't give error\n",
    "    cs=None\n",
    "    try:\n",
    "        cs=CubicSpline(local_opt,local_z)\n",
    "    except:\n",
    "        print(local_opt)\n",
    "        print(lower)\n",
    "        print(upper)\n",
    "    #zs=np.linspace(local_z[0],local_z[-1],N) \n",
    "    return cs"
   ]
  },
  {
   "cell_type": "code",
   "execution_count": 4,
   "metadata": {},
   "outputs": [],
   "source": [
    "def find_reflect_slope(norm):\n",
    "    theta=np.arctan(norm)\n",
    "    slope=np.tan(2*theta)\n",
    "    return slope"
   ]
  },
  {
   "cell_type": "code",
   "execution_count": 5,
   "metadata": {},
   "outputs": [],
   "source": [
    "def raytrace(optic, exp_f, Nr=7, linsp=True):\n",
    "    #create the starting rays\n",
    "    opt=optic[1]\n",
    "    # make sure that the rays are bounded \n",
    "    r_min=opt[4]\n",
    "    r_max=opt[-5]\n",
    "    \n",
    "    rays=np.linspace(r_min,r_max,Nr) if linsp else np.geomspace(r_min,r_max,Nr) #confine the rays to the diameter of the optic\n",
    "    rays[rays==0]=1e-9 # if r=0 exists set to small value so we don't get infinity values\n",
    "    raymatrix=[] # 3 points: before, at, after the optic\n",
    "    after=[]\n",
    "    for r in rays:\n",
    "        cs=find_local_eq(r,optic)\n",
    "        z_optic=cs(0)        \n",
    "        norm=cs(0,1) #The normal is just the derivative \n",
    "        slope=find_reflect_slope(norm)\n",
    "        r_after=slope*(exp_f-z_optic)+r # This is where the ray meets z=exp_f\n",
    "        z_bef=exp_f*1.5 # change this so that z_bef all starts at the same z value\n",
    "        z_ray=[z_bef,z_optic,exp_f]\n",
    "        r_ray=[r,r,r_after]            \n",
    "        raymatrix.append([z_ray,r_ray])\n",
    "        after.append(r_after)\n",
    "        #np.concatenate(raymatrix)\n",
    "    return np.array(raymatrix),np.array(after)"
   ]
  },
  {
   "cell_type": "code",
   "execution_count": 6,
   "metadata": {},
   "outputs": [],
   "source": [
    "def plot(optic,raymatrix,exp_f,title, lambda0=None, norm=False,savefig=False):\n",
    "    #first plot the optic:\n",
    "    plt.figure(figsize=(15,10))\n",
    "    opt_z=optic[0] if not norm else optic[0]/lambda0\n",
    "    opt_r=optic[1] if not norm else optic[1]/lambda0\n",
    "    plt.plot(opt_z,opt_r,'b',opt_z,-1*opt_r,'b')\n",
    "    exp_freq=exp_f if not norm else exp_f/lambda0\n",
    "    plt.axvline(x=exp_freq, color='k', linestyle='--')\n",
    "    #Then plot the rays:\n",
    "    for ray in raymatrix:\n",
    "        ray_z=ray[0] if not norm else ray[0]/lambda0\n",
    "        ray_r=ray[1] if not norm else ray[1]/lambda0\n",
    "        plt.plot(ray_z,ray_r,'r',ray_z,-1*ray_r,'r')\n",
    "        \n",
    "    xl='z (m)' if not norm else 'z/lambda'\n",
    "    yl='r (m)' if not norm else 'r/lambda'\n",
    "    plt.xlabel(xl)\n",
    "    plt.ylabel(yl)\n",
    "    plt.title(title)\n",
    "    plt.xlim((-0.01,exp_f+0.02))\n",
    "    r_max=max(opt_r)+0.02\n",
    "    plt.ylim((-r_max,r_max))\n",
    "    if savefig:\n",
    "        plt.savefig(title+\".png\")\n",
    "    #plt.show()\n",
    "    plt.close()"
   ]
  },
  {
   "cell_type": "code",
   "execution_count": 7,
   "metadata": {},
   "outputs": [],
   "source": [
    "def rms(rays_after):\n",
    "    n=len(rays_after)\n",
    "    return np.sqrt(np.sum(rays_after**2)/n)"
   ]
  },
  {
   "cell_type": "code",
   "execution_count": 8,
   "metadata": {},
   "outputs": [],
   "source": [
    "def grad(i,epsilon,optic,signs,exp_f,Nr):\n",
    "    zeros=np.array([[0,0]])\n",
    "    optic=np.concatenate((zeros.T,optic),axis=1)\n",
    "    o_z=optic[0]\n",
    "    o=optic[1]\n",
    "    j=i+1\n",
    "    o_z[j]=o_z[j]+signs[i]*epsilon\n",
    "    rm1,af1=raytrace([o_z,o],exp_f,Nr)\n",
    "    o_z[j]=o_z[j]-2*signs[i]*epsilon\n",
    "    rm2,af2=raytrace([o_z,o],exp_f,Nr)\n",
    "    c1=rms(af1)\n",
    "    c2=rms(af2)\n",
    "    return (c1-c2)"
   ]
  },
  {
   "cell_type": "code",
   "execution_count": 9,
   "metadata": {},
   "outputs": [],
   "source": [
    "def gradient_descent(epsilon,dz,start_k,thick,roc,exp_f,learn_rate,n_iter=1000,tol=1e-16,No=100,Nr=1000,plt=False,title=None):\n",
    "    start_o=create_starting_optic(thick,roc,k=start_k,N=No)\n",
    "    o_r=start_o[1]\n",
    "    os=[start_o[0]]\n",
    "    rm0,af0=raytrace(start_o,exp_f,Nr)\n",
    "    cost=[rms(af0)]\n",
    "    n=0\n",
    "    if plt:\n",
    "        plot(start_o,rm0,exp_f,title+\"_%d\"%(n),savefig=True)\n",
    "    diff=1e6\n",
    "    dzs=np.ones(No)*dz\n",
    "    cdz=np.array(dzs)\n",
    "    #print(dzs)\n",
    "    print('Step: %d\\t Cost: %f'%(n,cost[0]))\n",
    "    o=start_o[0]\n",
    "    while(n<n_iter and abs(diff)>tol):\n",
    "        #print(change_dzs)\n",
    "        start_time=time.time()\n",
    "        n+=1\n",
    "        signs=np.random.choice([-1,1],No-1)\n",
    "        o=o[1:]+=signs*dzs #move each point in the optic randomly by dz except for the point at origin\n",
    "        os.append(o)\n",
    "        rm,af=raytrace([o,o_r],exp_f,Nr)\n",
    "        c=rms(af)\n",
    "        cost.append(c)\n",
    "        if plt:\n",
    "            plot([o,o_r],rm,exp_f,title+\"_%d\"%(n),savefig=True)\n",
    "        for i in range(len(dzs)):\n",
    "            step_size=learn_rate*signs[i]*grad(i,epsilon,[o,o_r],signs,exp_f,Nr)\n",
    "            dzs[i]=dzs[i]-step_size\n",
    "        diff=np.sum(dzs*dzs)\n",
    "        cdz=np.vstack([cdz,dzs])\n",
    "        #print(dzs)\n",
    "        print('Step: %d\\t Cost: %f \\t diff: %E \\t time: %s'%(n,c,diff,time.time()-start_time))\n",
    "    return os,o_r,cost,cdz"
   ]
  },
  {
   "cell_type": "code",
   "execution_count": null,
   "metadata": {},
   "outputs": [],
   "source": [
    "start_o = create_starting_optic(0.0064,0.1125,k=-0.8,N=100)\n",
    "sor=start_o[1]\n",
    "rm0,af0=raytrace(start_o,0.05625,1000)\n",
    "cost=rms(af0)\n",
    "\n",
    "sign=np.random.choice([-1,1],99)\n",
    "new_o=start_o[1:]+=sign*5e-7\n",
    "\n",
    "for i in range(len(sign)):\n",
    "    \n"
   ]
  },
  {
   "cell_type": "code",
   "execution_count": 24,
   "metadata": {},
   "outputs": [],
   "source": [
    "a=np.linspace(0,10,11)\n",
    "b=np.ones(10)"
   ]
  },
  {
   "cell_type": "code",
   "execution_count": 25,
   "metadata": {},
   "outputs": [],
   "source": [
    "a[1:]+=b"
   ]
  },
  {
   "cell_type": "code",
   "execution_count": 28,
   "metadata": {},
   "outputs": [
    {
     "data": {
      "text/plain": [
       "array([ 1.,  2.,  3.,  4.,  5.,  6.,  7.,  8.,  9., 10., 11.])"
      ]
     },
     "execution_count": 28,
     "metadata": {},
     "output_type": "execute_result"
    }
   ],
   "source": [
    "np.linspace(1,11,11)"
   ]
  },
  {
   "cell_type": "code",
   "execution_count": null,
   "metadata": {},
   "outputs": [],
   "source": []
  }
 ],
 "metadata": {
  "kernelspec": {
   "display_name": "Python 3 (ipykernel)",
   "language": "python",
   "name": "python3"
  },
  "language_info": {
   "codemirror_mode": {
    "name": "ipython",
    "version": 3
   },
   "file_extension": ".py",
   "mimetype": "text/x-python",
   "name": "python",
   "nbconvert_exporter": "python",
   "pygments_lexer": "ipython3",
   "version": "3.10.4"
  }
 },
 "nbformat": 4,
 "nbformat_minor": 4
}
