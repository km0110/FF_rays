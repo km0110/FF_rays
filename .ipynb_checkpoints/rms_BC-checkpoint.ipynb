{
 "cells": [
  {
   "cell_type": "code",
   "execution_count": 1,
   "metadata": {},
   "outputs": [],
   "source": [
    "import numpy as np\n",
    "import time\n",
    "from scipy.interpolate import CubicSpline\n",
    "import matplotlib.pyplot as plt\n",
    "font = {'family' : 'normal',\n",
    "        'size'   : 15}\n",
    "\n",
    "plt.rc('font', **font)"
   ]
  },
  {
   "cell_type": "code",
   "execution_count": 2,
   "metadata": {},
   "outputs": [],
   "source": [
    "def create_starting_optic(thick,R,k=-1,N=100):\n",
    "    z=np.linspace(0,thick,N) #solves the problem of not having enough points close to the origin\n",
    "    r=np.sqrt(2*R*z-(k+1)*z**2) \n",
    "    optic=np.array([z,r])\n",
    "    return optic"
   ]
  },
  {
   "cell_type": "code",
   "execution_count": 3,
   "metadata": {},
   "outputs": [],
   "source": [
    "def find_local_eq(r,optic,N=100):\n",
    "    # first find nearest point in the lens array to where the ray r intersects\n",
    "    z=optic[0]\n",
    "    opt=optic[1]\n",
    "    index=np.abs(opt-r).argmin()\n",
    "    \n",
    "    # isolate a few points around the closest index (look into how many points we actually want)\n",
    "    lower=index-3 if index-3>0 else 0\n",
    "    upper=index+3\n",
    "        \n",
    "    local_z=np.array(z[lower:upper])\n",
    "    local_opt=np.array(opt[lower:upper])-r\n",
    "    \n",
    "    local_z=local_z[::-1]\n",
    "    local_opt=-1*local_opt[::-1]\n",
    "    # Use cubic spline to interpolate the local points\n",
    "    # need to switch the z and the r coordinates so that cubic spline won't give error\n",
    "    cs=None\n",
    "    try:\n",
    "        cs=CubicSpline(local_opt,local_z)\n",
    "    except:\n",
    "        print(local_opt)\n",
    "        print(lower)\n",
    "        print(upper)\n",
    "    #zs=np.linspace(local_z[0],local_z[-1],N) \n",
    "    return cs"
   ]
  },
  {
   "cell_type": "code",
   "execution_count": 4,
   "metadata": {},
   "outputs": [],
   "source": [
    "def find_reflect_slope(norm):\n",
    "    theta=np.arctan(norm)\n",
    "    slope=np.tan(2*theta)\n",
    "    return slope"
   ]
  },
  {
   "cell_type": "code",
   "execution_count": 5,
   "metadata": {},
   "outputs": [],
   "source": [
    "def raytrace(optic, exp_f, Nr=7, linsp=True):\n",
    "    #create the starting rays\n",
    "    opt=optic[1]\n",
    "    # make sure that the rays are bounded \n",
    "    r_min=opt[4]\n",
    "    r_max=opt[-5]\n",
    "    \n",
    "    rays=np.linspace(r_min,r_max,Nr) if linsp else np.geomspace(r_min,r_max,Nr) #confine the rays to the diameter of the optic\n",
    "    rays[rays==0]=1e-9 # if r=0 exists set to small value so we don't get infinity values\n",
    "    raymatrix=[] # 3 points: before, at, after the optic\n",
    "    after=[]\n",
    "    for r in rays:\n",
    "        cs=find_local_eq(r,optic)\n",
    "        z_optic=cs(0)        \n",
    "        norm=cs(0,1) #The normal is just the derivative \n",
    "        slope=find_reflect_slope(norm)\n",
    "        r_after=slope*(exp_f-z_optic)+r # This is where the ray meets z=exp_f\n",
    "        z_bef=exp_f*1.5 # change this so that z_bef all starts at the same z value\n",
    "        z_ray=[z_bef,z_optic,exp_f]\n",
    "        r_ray=[r,r,r_after]            \n",
    "        raymatrix.append([z_ray,r_ray])\n",
    "        after.append(r_after)\n",
    "        #np.concatenate(raymatrix)\n",
    "    return np.array(raymatrix),np.array(after)"
   ]
  },
  {
   "cell_type": "code",
   "execution_count": 6,
   "metadata": {},
   "outputs": [],
   "source": [
    "def plot(optic,raymatrix,exp_f,title, lambda0=None, norm=False,savefig=False):\n",
    "    #first plot the optic:\n",
    "    plt.figure(figsize=(15,10))\n",
    "    opt_z=optic[0] if not norm else optic[0]/lambda0\n",
    "    opt_r=optic[1] if not norm else optic[1]/lambda0\n",
    "    plt.plot(opt_z,opt_r,'b',opt_z,-1*opt_r,'b')\n",
    "    exp_freq=exp_f if not norm else exp_f/lambda0\n",
    "    plt.axvline(x=exp_freq, color='k', linestyle='--')\n",
    "    #Then plot the rays:\n",
    "    for ray in raymatrix:\n",
    "        ray_z=ray[0] if not norm else ray[0]/lambda0\n",
    "        ray_r=ray[1] if not norm else ray[1]/lambda0\n",
    "        plt.plot(ray_z,ray_r,'r',ray_z,-1*ray_r,'r')\n",
    "        \n",
    "    xl='z (m)' if not norm else 'z/lambda'\n",
    "    yl='r (m)' if not norm else 'r/lambda'\n",
    "    plt.xlabel(xl)\n",
    "    plt.ylabel(yl)\n",
    "    plt.title(title)\n",
    "    plt.xlim((-0.01,exp_f+0.02))\n",
    "    r_max=max(opt_r)+0.02\n",
    "    plt.ylim((-r_max,r_max))\n",
    "    if savefig:\n",
    "        plt.savefig(title+\".png\")\n",
    "    #plt.show()\n",
    "    plt.close()"
   ]
  },
  {
   "cell_type": "code",
   "execution_count": 7,
   "metadata": {},
   "outputs": [],
   "source": [
    "def rms(rays_after):\n",
    "    n=len(rays_after)\n",
    "    return np.sqrt(np.sum(rays_after**2)/n)"
   ]
  },
  {
   "cell_type": "code",
   "execution_count": 28,
   "metadata": {},
   "outputs": [],
   "source": [
    "def grad(i,epsilon,optic,signs,exp_f,Nr):\n",
    "    o_z=optic[0]\n",
    "    o=optic[1]\n",
    "    j=i+1\n",
    "    o_z[j]+=signs[i]*epsilon\n",
    "    a=np.copy(o_z)\n",
    "    print(a)\n",
    "    rm1,af1=raytrace([o_z,o],exp_f,Nr)\n",
    "    o_z[j]-=2*signs[i]*epsilon\n",
    "    b=np.copy(o_z)\n",
    "    print(b)\n",
    "    print(b-a)\n",
    "    rm2,af2=raytrace([o_z,o],exp_f,Nr)\n",
    "    c1=rms(af1)\n",
    "    c2=rms(af2)\n",
    "    return (c1-c2)"
   ]
  },
  {
   "cell_type": "code",
   "execution_count": 9,
   "metadata": {},
   "outputs": [],
   "source": [
    "def gradient_descent(epsilon,dz,start_k,thick,roc,exp_f,learn_rate,n_iter=1000,tol=1e-6,No=100,Nr=1000,plt=False,title=None):\n",
    "    start_o=create_starting_optic(thick,roc,k=start_k,N=No)\n",
    "    o_r=start_o[1]\n",
    "    os=[start_o[0]]\n",
    "    rm0,af0=raytrace(start_o,exp_f,Nr)\n",
    "    cost=[rms(af0)]\n",
    "    n=0\n",
    "    if plt:\n",
    "        plot(start_o,rm0,exp_f,title+\"_%d\"%(n),savefig=True)\n",
    "    diff=1e6\n",
    "    dzs=np.ones(No-1)*dz\n",
    "    cdz=np.array(dzs)\n",
    "    #print(dzs)\n",
    "    print('Step: %d\\t Cost: %f'%(n,cost[0]))\n",
    "    o=start_o[0]\n",
    "    while(n<n_iter and abs(diff)>tol):\n",
    "        #print(change_dzs)\n",
    "        start_time=time.time()\n",
    "        n+=1\n",
    "        signs=np.random.choice([-1,1],No-1)\n",
    "        o[1:]+=signs*dzs #move each point in the optic randomly by dz except for the point at origin\n",
    "        os.append(o)\n",
    "        rm,af=raytrace([o,o_r],exp_f,Nr)\n",
    "        c=rms(af)\n",
    "        cost.append(c)\n",
    "        if plt:\n",
    "            plot([o,o_r],rm,exp_f,title+\"_%d\"%(n),savefig=True)\n",
    "        for i in range(len(dzs)):\n",
    "            step_size=learn_rate*signs[i]*grad(i,epsilon,[o,o_r],signs,exp_f,Nr)\n",
    "            dzs[i]=dzs[i]+step_size\n",
    "        diff=c\n",
    "        cdz=np.vstack([cdz,dzs])\n",
    "        #print(dzs)\n",
    "        print('Step: %d\\t Cost: %f \\t diff: %E \\t time: %s'%(n,c,diff,time.time()-start_time))\n",
    "    return os,o_r,cost,cdz"
   ]
  },
  {
   "cell_type": "code",
   "execution_count": 10,
   "metadata": {},
   "outputs": [],
   "source": [
    "start_o = create_starting_optic(0.0064,0.1125,k=-0.8,N=100)\n",
    "sor=np.copy(start_o[1])\n",
    "rm0,af0=raytrace(start_o,0.05625,100)\n",
    "cost=rms(af0)"
   ]
  },
  {
   "cell_type": "code",
   "execution_count": 21,
   "metadata": {},
   "outputs": [
    {
     "name": "stdout",
     "output_type": "stream",
     "text": [
      "[0.00000000e+00 6.52464646e-05 1.28892929e-04 1.94339394e-04\n",
      " 2.58985859e-04 3.23832323e-04 3.88478788e-04 4.52125253e-04\n",
      " 5.16771717e-04 5.81218182e-04 6.46064646e-04 7.10711111e-04\n",
      " 7.75157576e-04 8.39804040e-04 9.05650505e-04 9.70296970e-04\n",
      " 1.03474343e-03 1.09838990e-03 1.16303636e-03 1.22788283e-03\n",
      " 1.29232929e-03 1.35817576e-03 1.42162222e-03 1.48626869e-03\n",
      " 1.55191515e-03 1.61676162e-03 1.68040808e-03 1.74485455e-03\n",
      " 1.81050101e-03 1.87434747e-03 1.93879394e-03 2.00344040e-03\n",
      " 2.06808687e-03 2.13293333e-03 2.19737980e-03 2.26202626e-03\n",
      " 2.32667273e-03 2.39231919e-03 2.45716566e-03 2.52181212e-03\n",
      " 2.58645859e-03 2.64990505e-03 2.71555152e-03 2.77919798e-03\n",
      " 2.84504444e-03 2.90849091e-03 2.97413737e-03 3.03778384e-03\n",
      " 3.10363030e-03 3.16727677e-03 3.23292323e-03 3.29756970e-03\n",
      " 3.36121616e-03 3.42686263e-03 3.49050909e-03 3.55595556e-03\n",
      " 3.62060202e-03 3.68444848e-03 3.75009495e-03 3.81354141e-03\n",
      " 3.87938788e-03 3.94303434e-03 4.00848081e-03 4.07332727e-03\n",
      " 4.13777374e-03 4.20162020e-03 4.26726667e-03 4.33191313e-03\n",
      " 4.39535960e-03 4.46100606e-03 4.52565253e-03 4.59029899e-03\n",
      " 4.65394545e-03 4.71959192e-03 4.78423838e-03 4.84888485e-03\n",
      " 4.91353131e-03 4.97717778e-03 5.04182424e-03 5.10647071e-03\n",
      " 5.17211717e-03 5.23596364e-03 5.30161010e-03 5.36525657e-03\n",
      " 5.42990303e-03 5.49534949e-03 5.55899596e-03 5.62484242e-03\n",
      " 5.68948889e-03 5.75293535e-03 5.81858182e-03 5.88242828e-03\n",
      " 5.94707475e-03 6.01272121e-03 6.07616768e-03 6.14201414e-03\n",
      " 6.20566061e-03 6.27130707e-03 6.33595354e-03 6.40040000e-03]\n"
     ]
    }
   ],
   "source": [
    "soz=np.copy(start_o[0])\n",
    "signs=np.random.choice([-1,1],99)\n",
    "dz=signs*5e-7\n",
    "soz[1:]+=dz\n",
    "print(soz)"
   ]
  },
  {
   "cell_type": "code",
   "execution_count": 29,
   "metadata": {},
   "outputs": [
    {
     "name": "stdout",
     "output_type": "stream",
     "text": [
      "[0.00000000e+00 6.46464646e-05 1.29592929e-04 1.93639394e-04\n",
      " 2.58285859e-04 3.23132323e-04 3.87778788e-04 4.52825253e-04\n",
      " 5.17471717e-04 5.81918182e-04 6.46764646e-04 7.11411111e-04\n",
      " 7.75857576e-04 8.40504040e-04 9.04950505e-04 9.69596970e-04\n",
      " 1.03404343e-03 1.09908990e-03 1.16373636e-03 1.22858283e-03\n",
      " 1.29302929e-03 1.35747576e-03 1.42232222e-03 1.48696869e-03\n",
      " 1.55121515e-03 1.61606162e-03 1.68110808e-03 1.74555455e-03\n",
      " 1.80980101e-03 1.87504747e-03 1.93949394e-03 2.00414040e-03\n",
      " 2.06878687e-03 2.13363333e-03 2.19807980e-03 2.26272626e-03\n",
      " 2.32737273e-03 2.39161919e-03 2.45646566e-03 2.52111212e-03\n",
      " 2.58575859e-03 2.65060505e-03 2.71485152e-03 2.77989798e-03\n",
      " 2.84434444e-03 2.90919091e-03 2.97343737e-03 3.03848384e-03\n",
      " 3.10293030e-03 3.16797677e-03 3.23222323e-03 3.29686970e-03\n",
      " 3.36191616e-03 3.42616263e-03 3.49120909e-03 3.55525556e-03\n",
      " 3.61990202e-03 3.68514848e-03 3.74939495e-03 3.81424141e-03\n",
      " 3.87868788e-03 3.94373434e-03 4.00778081e-03 4.07262727e-03\n",
      " 4.13707374e-03 4.20232020e-03 4.26656667e-03 4.33121313e-03\n",
      " 4.39605960e-03 4.46030606e-03 4.52495253e-03 4.58959899e-03\n",
      " 4.65464545e-03 4.71889192e-03 4.78353838e-03 4.84818485e-03\n",
      " 4.91283131e-03 4.97787778e-03 5.04252424e-03 5.10717071e-03\n",
      " 5.17141717e-03 5.23666364e-03 5.30091010e-03 5.36595657e-03\n",
      " 5.43060303e-03 5.49464949e-03 5.55969596e-03 5.62414242e-03\n",
      " 5.68878889e-03 5.75363535e-03 5.81788182e-03 5.88312828e-03\n",
      " 5.94777475e-03 6.01202121e-03 6.07686768e-03 6.14131414e-03\n",
      " 6.20636061e-03 6.27060707e-03 6.33525354e-03 6.39970000e-03]\n",
      "[0.00000000e+00 6.44464646e-05 1.29592929e-04 1.93639394e-04\n",
      " 2.58285859e-04 3.23132323e-04 3.87778788e-04 4.52825253e-04\n",
      " 5.17471717e-04 5.81918182e-04 6.46764646e-04 7.11411111e-04\n",
      " 7.75857576e-04 8.40504040e-04 9.04950505e-04 9.69596970e-04\n",
      " 1.03404343e-03 1.09908990e-03 1.16373636e-03 1.22858283e-03\n",
      " 1.29302929e-03 1.35747576e-03 1.42232222e-03 1.48696869e-03\n",
      " 1.55121515e-03 1.61606162e-03 1.68110808e-03 1.74555455e-03\n",
      " 1.80980101e-03 1.87504747e-03 1.93949394e-03 2.00414040e-03\n",
      " 2.06878687e-03 2.13363333e-03 2.19807980e-03 2.26272626e-03\n",
      " 2.32737273e-03 2.39161919e-03 2.45646566e-03 2.52111212e-03\n",
      " 2.58575859e-03 2.65060505e-03 2.71485152e-03 2.77989798e-03\n",
      " 2.84434444e-03 2.90919091e-03 2.97343737e-03 3.03848384e-03\n",
      " 3.10293030e-03 3.16797677e-03 3.23222323e-03 3.29686970e-03\n",
      " 3.36191616e-03 3.42616263e-03 3.49120909e-03 3.55525556e-03\n",
      " 3.61990202e-03 3.68514848e-03 3.74939495e-03 3.81424141e-03\n",
      " 3.87868788e-03 3.94373434e-03 4.00778081e-03 4.07262727e-03\n",
      " 4.13707374e-03 4.20232020e-03 4.26656667e-03 4.33121313e-03\n",
      " 4.39605960e-03 4.46030606e-03 4.52495253e-03 4.58959899e-03\n",
      " 4.65464545e-03 4.71889192e-03 4.78353838e-03 4.84818485e-03\n",
      " 4.91283131e-03 4.97787778e-03 5.04252424e-03 5.10717071e-03\n",
      " 5.17141717e-03 5.23666364e-03 5.30091010e-03 5.36595657e-03\n",
      " 5.43060303e-03 5.49464949e-03 5.55969596e-03 5.62414242e-03\n",
      " 5.68878889e-03 5.75363535e-03 5.81788182e-03 5.88312828e-03\n",
      " 5.94777475e-03 6.01202121e-03 6.07686768e-03 6.14131414e-03\n",
      " 6.20636061e-03 6.27060707e-03 6.33525354e-03 6.39970000e-03]\n",
      "[ 0.e+00 -2.e-07  0.e+00  0.e+00  0.e+00  0.e+00  0.e+00  0.e+00  0.e+00\n",
      "  0.e+00  0.e+00  0.e+00  0.e+00  0.e+00  0.e+00  0.e+00  0.e+00  0.e+00\n",
      "  0.e+00  0.e+00  0.e+00  0.e+00  0.e+00  0.e+00  0.e+00  0.e+00  0.e+00\n",
      "  0.e+00  0.e+00  0.e+00  0.e+00  0.e+00  0.e+00  0.e+00  0.e+00  0.e+00\n",
      "  0.e+00  0.e+00  0.e+00  0.e+00  0.e+00  0.e+00  0.e+00  0.e+00  0.e+00\n",
      "  0.e+00  0.e+00  0.e+00  0.e+00  0.e+00  0.e+00  0.e+00  0.e+00  0.e+00\n",
      "  0.e+00  0.e+00  0.e+00  0.e+00  0.e+00  0.e+00  0.e+00  0.e+00  0.e+00\n",
      "  0.e+00  0.e+00  0.e+00  0.e+00  0.e+00  0.e+00  0.e+00  0.e+00  0.e+00\n",
      "  0.e+00  0.e+00  0.e+00  0.e+00  0.e+00  0.e+00  0.e+00  0.e+00  0.e+00\n",
      "  0.e+00  0.e+00  0.e+00  0.e+00  0.e+00  0.e+00  0.e+00  0.e+00  0.e+00\n",
      "  0.e+00  0.e+00  0.e+00  0.e+00  0.e+00  0.e+00  0.e+00  0.e+00  0.e+00\n",
      "  0.e+00]\n"
     ]
    },
    {
     "data": {
      "text/plain": [
       "-2.589847933548786e-10"
      ]
     },
     "execution_count": 29,
     "metadata": {},
     "output_type": "execute_result"
    }
   ],
   "source": [
    "grad(0,1e-7,start_o,signs,0.05625,100)"
   ]
  },
  {
   "cell_type": "code",
   "execution_count": null,
   "metadata": {},
   "outputs": [],
   "source": []
  }
 ],
 "metadata": {
  "kernelspec": {
   "display_name": "Python 3 (ipykernel)",
   "language": "python",
   "name": "python3"
  },
  "language_info": {
   "codemirror_mode": {
    "name": "ipython",
    "version": 3
   },
   "file_extension": ".py",
   "mimetype": "text/x-python",
   "name": "python",
   "nbconvert_exporter": "python",
   "pygments_lexer": "ipython3",
   "version": "3.10.4"
  }
 },
 "nbformat": 4,
 "nbformat_minor": 4
}
