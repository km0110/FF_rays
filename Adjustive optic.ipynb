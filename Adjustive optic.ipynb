{
 "cells": [
  {
   "cell_type": "code",
   "execution_count": 37,
   "metadata": {},
   "outputs": [],
   "source": [
    "import numpy as np\n",
    "import time\n",
    "from scipy.interpolate import CubicSpline\n",
    "import matplotlib.pyplot as plt\n",
    "font = {'family' : 'normal',\n",
    "        'size'   : 24}\n",
    "\n",
    "plt.rc('font', **font)"
   ]
  },
  {
   "cell_type": "markdown",
   "metadata": {},
   "source": [
    "## Creating the initial optic\n",
    "\n",
    "We start with creating a conical lens defaulted to be a parabola (k=-1) with N=1000 points to span the space of the top half of the lens. One can start with other conical shapes by inputting the corresponding k value. The inputs are `thick` or the thickness of the lens and `R` which is the radius of curvature. The code only simulates the top half of the optic due to the assumption that the surface is cylindrically symmetric. The equation of the optic is derived from the equation for a conic section with the apex at the origin and solving for r:\n",
    "\n",
    "\\begin{align}\n",
    "    r^2-2Rz+(K+1)z^2=0\\\\\n",
    "    r=\\sqrt{2Rz+(K+1)z^2}\n",
    "\\end{align}\n",
    "\n",
    "One can plug in:\n",
    "- k=-1 for parabola\n",
    "- k=0 for spherical\n",
    "- k>0 for oblate ellipse\n",
    "- 0>K>−1 for prolate ellipse\n",
    "- k<-1 for hyperbola\n",
    "\n",
    "When plugging in the the values for `thick` and `R` one should keep in mind the thin lens approximation where the thickness << R"
   ]
  },
  {
   "cell_type": "code",
   "execution_count": 2,
   "metadata": {},
   "outputs": [],
   "source": [
    "def create_starting_optic(thick,R,k=-1,N=100):\n",
    "    z=np.geomspace(1e-6,thick,N) #solves the problem of not having enough points close to the origin\n",
    "    r=np.sqrt(2*R*z-(k+1)*z**2) \n",
    "    optic=np.array([z,r])\n",
    "    return optic"
   ]
  },
  {
   "cell_type": "markdown",
   "metadata": {},
   "source": [
    "## Finding the slope for refraction/reflection\n",
    "\n",
    "The goal of this is to find the normal to any shaped surface. The normal slope will be 1/m for reflected and -1/m for refracted where m is the tangent/slope of the surface at that point. \n",
    "\n",
    "**8/31/2022:**\n",
    "\n",
    "Cubic spline doesn't work if the x coordinates(in our case the z coordinate) is not in ascending order. The easy fix is to rotate the system since the r coordinate of the optic is always ascending and then rotate it back for visual purposes. To rotate a coordinate system by 90 degrees: (x,y)$\\rightarrow$(-y,x). "
   ]
  },
  {
   "cell_type": "code",
   "execution_count": 3,
   "metadata": {},
   "outputs": [],
   "source": [
    "def find_local_eq(r,optic,N=100):\n",
    "    # first find nearest point in the lens array to where the ray r intersects\n",
    "    z=optic[0]\n",
    "    opt=optic[1]\n",
    "    index=np.abs(opt-r).argmin()\n",
    "    \n",
    "    # isolate a few points around the closest index (look into how many points we actually want)\n",
    "    lower=index-5\n",
    "    upper=index+5\n",
    "        \n",
    "    local_z=np.array(z[lower:upper])\n",
    "    local_opt=np.array(opt[lower:upper])-r\n",
    "    \n",
    "    local_z=local_z[::-1]\n",
    "    local_opt=-1*local_opt[::-1]\n",
    "    # Use cubic spline to interpolate the local points\n",
    "    # need to switch the z and the r coordinates so that cubic spline won't give error\n",
    "    cs=None\n",
    "    try:\n",
    "        cs=CubicSpline(local_opt,local_z)\n",
    "    except:\n",
    "        print(local_opt)\n",
    "        print(lower)\n",
    "        print(upper)\n",
    "    #zs=np.linspace(local_z[0],local_z[-1],N) \n",
    "    return cs"
   ]
  },
  {
   "cell_type": "code",
   "execution_count": 4,
   "metadata": {},
   "outputs": [],
   "source": [
    "def find_norm(z,cs):\n",
    "    # find the normal to the surface\n",
    "    tang=cs(z,1) # 1st derivative of the spline at point z\n",
    "    norm=tang\n",
    "    return norm"
   ]
  },
  {
   "cell_type": "markdown",
   "metadata": {},
   "source": [
    "`find_reflect_slope` takes the given normal slope to calculate the angle 2$\\theta$ where $\\theta$ is the angle that the incoming ray makes with the normal to the surface. "
   ]
  },
  {
   "cell_type": "code",
   "execution_count": 5,
   "metadata": {},
   "outputs": [],
   "source": [
    "def find_reflect_slope(norm):\n",
    "    theta=np.arctan(norm)\n",
    "    slope=np.tan(2*theta)\n",
    "    return slope"
   ]
  },
  {
   "cell_type": "markdown",
   "metadata": {},
   "source": [
    "`find__refract_slope` finds the slope of the ray after it refracts off of the surface. `norm` is the normal of the surface and is used to find the angle $\\phi_1$ which is the angle between the incident ray and the normal of the surface. This function returns the slope of the ray that refracts after encountering the surface using Snell's law "
   ]
  },
  {
   "cell_type": "code",
   "execution_count": 6,
   "metadata": {},
   "outputs": [],
   "source": [
    "def find_refract_slope(norm,n1,n2):\n",
    "    phi1=np.arctan(norm)\n",
    "    sinphi2=n1*np.sin(phi1)/n2\n",
    "    phi2=np.arcsin(sinphi2)\n",
    "    theta=phi1-phi2\n",
    "    slope=np.tan(theta)\n",
    "    return slope"
   ]
  },
  {
   "cell_type": "markdown",
   "metadata": {},
   "source": [
    "## Raytracing\n",
    "\n",
    "Now that we have the algorithm to find the slope normal to the surface we can simulate the ray propagation. We only need to calculate for two points:where the ray meets the surface the optic and where the ray crosses the optical axis. Additional functionality can be added later for multiple optics. Also need to change the input rays to be ray vectors instead. This code does both refraction and reflection."
   ]
  },
  {
   "cell_type": "code",
   "execution_count": 7,
   "metadata": {},
   "outputs": [],
   "source": [
    "def raytrace(optic, Nr=7, refract=False, linsp=True):\n",
    "    #create the starting rays\n",
    "    opt=optic[1]\n",
    "    # make sure that the rays are bounded \n",
    "    r_min=opt[5]\n",
    "    r_max=opt[-10]\n",
    "    \n",
    "    rays=np.linspace(r_min,r_max,Nr) if linsp else np.geomspace(r_min,r_max,Nr) #confine the rays to the diameter of the optic\n",
    "    rays[rays==0]=1e-9 # if r=0 exists set to small value so we don't get infinity values\n",
    "    raymatrix=[] # 3 points: before, at, after the optic\n",
    "    after=[]\n",
    "    for r in rays:\n",
    "        cs=find_local_eq(r,optic)\n",
    "        z_optic=cs(0)        \n",
    "        norm=cs(0,1)\n",
    "        slope=find_refract_slope(norm,1,3) if refract else find_reflect_slope(norm)\n",
    "        z_after=(-r/slope+z_optic) # This is where the ray should intersect the z axis\n",
    "        z_bef=-1 if refract else z_after*1.5 # change this so that z_bef all starts at the same z value\n",
    "        z_ray=[z_bef,z_optic,z_after]\n",
    "        r_ray=[r,r,0]            \n",
    "        raymatrix.append([z_ray,r_ray])\n",
    "        after.append(z_after)\n",
    "        #np.concatenate(raymatrix)\n",
    "    return np.array(raymatrix),np.array(after)"
   ]
  },
  {
   "cell_type": "code",
   "execution_count": 8,
   "metadata": {},
   "outputs": [],
   "source": [
    "def raytrace_new(optic, exp_f, Nr=7, refract=False, linsp=True):\n",
    "    #create the starting rays\n",
    "    opt=optic[1]\n",
    "    # make sure that the rays are bounded \n",
    "    r_min=opt[5]\n",
    "    r_max=opt[-10]\n",
    "    \n",
    "    rays=np.linspace(r_min,r_max,Nr) if linsp else np.geomspace(r_min,r_max,Nr) #confine the rays to the diameter of the optic\n",
    "    rays[rays==0]=1e-9 # if r=0 exists set to small value so we don't get infinity values\n",
    "    raymatrix=[] # 3 points: before, at, after the optic\n",
    "    after=[]\n",
    "    for r in rays:\n",
    "        cs=find_local_eq(r,optic)\n",
    "        z_optic=cs(0)        \n",
    "        norm=cs(0,1)\n",
    "        slope=find_refract_slope(norm,1,3) if refract else find_reflect_slope(norm)\n",
    "        r_after=slope*(exp_f-z_optic)+r # This is where the ray meets z=exp_f\n",
    "        z_bef=-1 if refract else exp_f*1.5 # change this so that z_bef all starts at the same z value\n",
    "        z_ray=[z_bef,z_optic,exp_f]\n",
    "        r_ray=[r,r,r_after]            \n",
    "        raymatrix.append([z_ray,r_ray])\n",
    "        after.append(r_after)\n",
    "        #np.concatenate(raymatrix)\n",
    "    return np.array(raymatrix),np.array(after)"
   ]
  },
  {
   "cell_type": "code",
   "execution_count": 9,
   "metadata": {},
   "outputs": [],
   "source": [
    "def plot(optic,raymatrix,exp_f,title, lambda0=None, norm=False,savefig=False):\n",
    "    #first plot the optic:\n",
    "    plt.figure(figsize=(15,10))\n",
    "    opt_z=optic[0] if not norm else optic[0]/lambda0\n",
    "    opt_r=optic[1] if not norm else optic[1]/lambda0\n",
    "    plt.plot(opt_z,opt_r,'b',opt_z,-1*opt_r,'b')\n",
    "    exp_freq=exp_f if not norm else exp_f/lambda0\n",
    "    plt.axvline(x=exp_freq, color='k', linestyle='--')\n",
    "    #Then plot the rays:\n",
    "    for ray in raymatrix:\n",
    "        ray_z=ray[0] if not norm else ray[0]/lambda0\n",
    "        ray_r=ray[1] if not norm else ray[1]/lambda0\n",
    "        plt.plot(ray_z,ray_r,'r',ray_z,-1*ray_r,'r')\n",
    "        \n",
    "    xl='z (m)' if not norm else 'z/lambda'\n",
    "    yl='r (m)' if not norm else 'r/lambda'\n",
    "    plt.xlabel(xl)\n",
    "    plt.ylabel(yl)\n",
    "    plt.title(title)\n",
    "    plt.xlim((-0.01,exp_f+0.02))\n",
    "    r_max=max(opt_r)+0.02\n",
    "    plt.ylim((-r_max,r_max))\n",
    "    if savefig:\n",
    "        plt.savefig(title+\".png\")\n",
    "    #plt.show()\n",
    "    plt.close()"
   ]
  },
  {
   "cell_type": "code",
   "execution_count": 11,
   "metadata": {},
   "outputs": [],
   "source": [
    "change_o=[start_o[0]+np.random.choice([-1,1],len(start_o[0]))*0.00001,start_o[1]]\n",
    "rm1,af1=raytrace_new(change_o,0.05625,Nr=10,linsp=True)\n",
    "plot(change_o,rm1,0.0565,'Step 1',savefig=True)"
   ]
  },
  {
   "cell_type": "markdown",
   "metadata": {},
   "source": [
    "## `create_hist`\n",
    "Creates a histogram of where the rays meet on the z axis after the ray encounters the optic. The function uses [Sturge's Formula](https://en.wikipedia.org/wiki/Histogram#Sturges'_formula) to calculate the number of bins. We use the Rayleigh criterion as the bin width: $\\Delta\\theta = 1.22\\lambda/D$ \n",
    "\n",
    "$1.22 f\\#*\\lambda$ \n",
    "\n",
    "$f\\#=f/D$\n",
    "where $\\lambda$ is the wavelength and $D$ is the diameter of the optic. This is calculated with the function `calc_bw`. This function also rounds to the nearest 6th decimal by default which corresponds to the nearest micrometer for the physical case we've defined later in this notebook.  We set the bin number to be odd so that we have the expected focal length bin always as our center bar (this may need to be altered). We set the range as the $[f_{exp} - \\frac{1}{2}k \\Delta\\theta, f_{exp} + \\frac{1}{2}k\\Delta\\theta]$. \n",
    "\n",
    "7/5/22\n",
    "\n",
    "We've decided to instead use fractions of the Rayleigh Length $z_R=\\frac{\\pi w_0^2}{\\lambda}=1/2 k w_0^2$"
   ]
  },
  {
   "cell_type": "code",
   "execution_count": 12,
   "metadata": {},
   "outputs": [],
   "source": [
    "def calc_bw(lambda0,diam,dec=6):\n",
    "    ang_res= 1.22*lambda0/diam # The bin width is set as the minimum resolution \n",
    "    return np.around(ang_res,dec) "
   ]
  },
  {
   "cell_type": "code",
   "execution_count": 13,
   "metadata": {},
   "outputs": [
    {
     "data": {
      "text/plain": [
       "1.7e-05"
      ]
     },
     "execution_count": 13,
     "metadata": {},
     "output_type": "execute_result"
    }
   ],
   "source": [
    "lambda0=1.054e-6 #m\n",
    "diam=0.075 #m\n",
    "calc_bw(lambda0,diam)"
   ]
  },
  {
   "cell_type": "code",
   "execution_count": 14,
   "metadata": {},
   "outputs": [],
   "source": [
    "def create_hist(rays_after, bin_width, plot=False, lambda0=None, norm=False, savefig=False):\n",
    "    n=len(rays_after)    \n",
    "    #make k odd so that we have even number of bin below and above the expected focal value\n",
    "    k=int(np.ceil(np.log2(n)))+1\n",
    "    if k%2==0:\n",
    "        k+=1\n",
    "    \n",
    "    bw=bin_width if not norm else bin_width/lambda0\n",
    "    exp_r=0 \n",
    "    bin_low=exp_r-bw*(0.5*k)\n",
    "    bin_high=exp_r+bw*(0.5*k)\n",
    "    \n",
    "    bins=np.linspace(bin_low,bin_high,k+1)\n",
    "    \n",
    "    rays = rays_after if not norm else rays_after/lambda0\n",
    "    #hist=np.histogram(rays,bins)\n",
    "    hist,bin_range=np.histogram(rays,bins)\n",
    "\n",
    "    #plots the histogram\n",
    "    if plot:\n",
    "        fig,ax=plt.subplots(figsize=(15,10))\n",
    "        ax.hist(rays,bins)\n",
    "        xl='r (m)' if not norm else 'r/lambda'\n",
    "        ax.set_xlabel(xl)\n",
    "        ax.ticklabel_format(useOffset=False)\n",
    "        ax.set_xticks(bins)\n",
    "        title=\"Expected f: %f m\" % (exp_f)\n",
    "        ax.set_title(title)\n",
    "        if savefig:\n",
    "            plt.savefig(title+\"_hist.png\")\n",
    "\n",
    "        plt.show()\n",
    "    \n",
    "    h=np.array(hist)\n",
    "    return h"
   ]
  },
  {
   "cell_type": "code",
   "execution_count": 15,
   "metadata": {},
   "outputs": [],
   "source": [
    "def create_hist_new(rays_after, bin_width, plot=False, lambda0=None, norm=False, savefig=False):\n",
    "    n=len(rays_after)    \n",
    "    #make k odd so that we have even number of bin below and above the expected focal value\n",
    "    k=int(np.ceil(np.log2(n)))+1\n",
    "    if k%2==0:\n",
    "        k+=1\n",
    "    \n",
    "    bw=bin_width if not norm else bin_width/lambda0\n",
    "    bin_low=-bw*k\n",
    "    bin_high=bw*k\n",
    "    \n",
    "    bins=np.linspace(bin_low,bin_high,k+1)\n",
    "    \n",
    "    rays = rays_after if not norm else rays_after/lambda0\n",
    "    #hist=np.histogram(rays,bins)\n",
    "    hist,bin_range=np.histogram(rays,bins)\n",
    "\n",
    "    #plots the histogram\n",
    "    if plot:\n",
    "        fig,ax=plt.subplots(figsize=(15,10))\n",
    "        ax.hist(rays,bins)\n",
    "        xl='r (m)' if not norm else 'r/lambda'\n",
    "        ax.set_xlabel(xl)\n",
    "        ax.ticklabel_format(useOffset=False)\n",
    "        ax.set_xticks(bins)\n",
    "        title=\"Expected f: %f m\" % (exp_f)\n",
    "        ax.set_title(title)\n",
    "        if savefig:\n",
    "            plt.savefig(title+\"_hist.png\")\n",
    "\n",
    "        plt.show()\n",
    "    \n",
    "    h=np.array(hist)\n",
    "    return h"
   ]
  },
  {
   "cell_type": "code",
   "execution_count": 16,
   "metadata": {},
   "outputs": [],
   "source": [
    "def rms(rays_after):\n",
    "    n=len(rays_after)\n",
    "    return np.sqrt(1/n*np.sum(rays_after**2))"
   ]
  },
  {
   "cell_type": "markdown",
   "metadata": {},
   "source": [
    "## The cost function\n",
    "\n",
    "The cost function is the chi-square goodness-of-fit test which is shown below:\n",
    "\n",
    "\\begin{equation}\n",
    "    \\chi^2=\\sum_{i=1}^{k}(O_i-E_i)^2\n",
    "\\end{equation}\n",
    "\n",
    "where $O_i$ is the observed frequency for bin $i$ and $E_i$ is the expected frequency for bin $i$. For our case we want to have all of our rays meet at the same point i.e have them all in the same bin. Therefore, the expected frequency for all of the non zero bins will be the total number of rays. We will need to minimize the chi-square value in order to get the optimal optic. \n",
    "\n",
    "The cost function may need to have additional terms to include the parameters we wish to optimize\n",
    "\n",
    "7/5/22 \n",
    "- Number of rays within the histogram. Right now, we have it such that not all the rays end up in the histogram because of the range we have defined so one of the metrics can be the number of rays we want to end up in the histogram itself. We can use this to quickly descend to the desired k (around -1) and then have the chi-square further narrow it down accurately. "
   ]
  },
  {
   "cell_type": "code",
   "execution_count": 15,
   "metadata": {},
   "outputs": [],
   "source": [
    "def chi_square(hist):\n",
    "    nr=np.sum(hist)\n",
    "    if nr==0: nr=1 #to deal with situation where no rays end up in the bin\n",
    "    Oi=hist/nr\n",
    "    Ei=np.zeros(len(hist))\n",
    "    index=int(np.floor(len(hist)/2))\n",
    "    Ei[index]=1 #nr\n",
    "    chi_square=np.sum((Oi-Ei)**2)\n",
    "    return chi_square"
   ]
  },
  {
   "cell_type": "code",
   "execution_count": 17,
   "metadata": {},
   "outputs": [],
   "source": [
    "def cost_function(hist,alpha,Nr):\n",
    "    return chi_square(hist)+alpha*(Nr-np.sum(hist))/Nr"
   ]
  },
  {
   "cell_type": "code",
   "execution_count": 3,
   "metadata": {},
   "outputs": [
    {
     "name": "stdout",
     "output_type": "stream",
     "text": [
      "[  1.   4.   9.  16.  25.  36.  49.  64.  81. 100.]\n"
     ]
    }
   ],
   "source": [
    "def cost_function_new(rays_after):\n",
    "    return rms(rays_after)"
   ]
  },
  {
   "cell_type": "markdown",
   "metadata": {},
   "source": [
    "## The Gradient Descent Algorithm"
   ]
  },
  {
   "cell_type": "code",
   "execution_count": 18,
   "metadata": {},
   "outputs": [],
   "source": [
    "def run_raytrace(o,exp_f,Nr,linsp=True):\n",
    "    rm,af=raytrace_new(o,exp_f,refract=False,Nr=Nr,linsp=linsp)\n",
    "    lambda0=1.054e-6 #m\n",
    "    diam=0.075 #m\n",
    "    bw=calc_bw(lambda0,diam)\n",
    "    hist=create_hist(af,bw*10)\n",
    "    h=np.array(hist)\n",
    "    return h,rm,af"
   ]
  },
  {
   "cell_type": "code",
   "execution_count": 19,
   "metadata": {},
   "outputs": [],
   "source": [
    "def grad(i,epsilon,optic,signs,alpha,exp_f,Nr):\n",
    "    zeros=np.array([[0,0]])\n",
    "    optic=np.concatenate((zeros.T,optic),axis=1)\n",
    "    o_z=optic[0]\n",
    "    o=optic[1]\n",
    "    j=i+1\n",
    "    o_z[j]=o_z[j]+signs[i]*epsilon\n",
    "    h1,_=run_raytrace([o_z,o],exp_f,Nr)\n",
    "    o_z[j]=o_z[j]-2*signs[i]*epsilon\n",
    "    h2,_=run_raytrace([o_z,o],exp_f,Nr)\n",
    "\n",
    "    c1=cost_function(h1,alpha,Nr)\n",
    "    c2=cost_function(h2,alpha,Nr)\n",
    "    return (c1-c2)"
   ]
  },
  {
   "cell_type": "code",
   "execution_count": 20,
   "metadata": {},
   "outputs": [
    {
     "name": "stdout",
     "output_type": "stream",
     "text": [
      "[-1  1 -1 -1 -1  1  1  1 -1 -1 -1 -1 -1  1 -1  1 -1  1 -1  1  1  1 -1  1\n",
      "  1 -1 -1  1 -1 -1  1 -1 -1  1  1  1 -1 -1  1 -1 -1  1 -1  1 -1  1 -1 -1\n",
      " -1  1  1 -1 -1  1  1 -1 -1  1 -1  1 -1  1  1 -1 -1 -1 -1  1 -1  1 -1  1\n",
      "  1 -1 -1 -1 -1 -1  1 -1  1 -1  1 -1 -1 -1  1 -1  1  1  1 -1 -1 -1  1 -1\n",
      " -1  1  1 -1]\n"
     ]
    }
   ],
   "source": [
    "signs=np.random.choice([-1,1],100)\n",
    "print(signs)"
   ]
  },
  {
   "cell_type": "code",
   "execution_count": 21,
   "metadata": {},
   "outputs": [
    {
     "name": "stdout",
     "output_type": "stream",
     "text": [
      "[ 5.10000000e-05 -4.89074376e-05  5.11936927e-05  5.13041838e-05\n",
      "  5.14249022e-05 -4.84432054e-05 -4.82991047e-05 -4.81416657e-05\n",
      "  5.20303462e-05  5.22182800e-05  5.24236094e-05  5.26479445e-05\n",
      "  5.28930447e-05 -4.68391680e-05  5.34534063e-05 -4.62269381e-05\n",
      "  5.41223057e-05 -4.54961236e-05  5.49207661e-05 -4.46237558e-05\n",
      " -4.41261176e-05 -4.35824168e-05  5.70116103e-05 -4.23393780e-05\n",
      " -4.16302922e-05  5.91444283e-05  5.99908588e-05 -3.90843630e-05\n",
      "  6.19260149e-05  6.30299158e-05 -3.57640036e-05  6.55537149e-05\n",
      "  6.69934045e-05 -3.14336447e-05 -2.97150977e-05 -2.78374778e-05\n",
      "  7.42139391e-05  7.64552401e-05 -2.10959986e-05  8.15794260e-05\n",
      "  8.45024944e-05 -1.23038708e-05  9.11853745e-05 -5.00240717e-06\n",
      "  9.91626794e-05  3.71329645e-06  1.08685130e-04  1.14117168e-04\n",
      "  1.20052009e-04  2.65361929e-05  3.36205690e-05  1.41360692e-04\n",
      "  1.49817260e-04  5.90565878e-05  6.91511306e-05  1.80180049e-04\n",
      "  1.92229830e-04  1.05394969e-04  2.19778705e-04  1.35493835e-04\n",
      "  2.52663595e-04  1.71422630e-04  1.91918046e-04  3.14310569e-04\n",
      "  3.38775797e-04  3.65505587e-04  3.94709550e-04  3.26616704e-04\n",
      "  4.61477261e-04  3.99564597e-04  5.41177388e-04  4.86641961e-04\n",
      "  5.36314845e-04  6.90585572e-04  7.49879729e-04  8.14662297e-04\n",
      "  8.85441298e-04  9.62771774e-04  9.47260148e-04  1.13956897e-03\n",
      "  1.14042212e-03  1.35061049e-03  1.37099815e-03  1.60252920e-03\n",
      "  1.74623507e-03  1.90324271e-03  1.97478336e-03  2.26220223e-03\n",
      "  2.36696904e-03  2.59068957e-03  2.83511822e-03  3.20217177e-03\n",
      "  3.49394445e-03  3.81272431e-03  4.06101122e-03  4.54153641e-03\n",
      "  4.95728393e-03  5.31151406e-03  5.80778883e-03  6.45000000e-03]\n"
     ]
    }
   ],
   "source": [
    "dz=signs*5e-5\n",
    "new_o=start_o[0]-dz\n",
    "print(new_o)"
   ]
  },
  {
   "cell_type": "code",
   "execution_count": 22,
   "metadata": {},
   "outputs": [
    {
     "name": "stdout",
     "output_type": "stream",
     "text": [
      "[ 5.e-05 -5.e-05  5.e-05  5.e-05  5.e-05 -5.e-05 -5.e-05 -5.e-05  5.e-05\n",
      "  5.e-05  5.e-05  5.e-05  5.e-05 -5.e-05  5.e-05 -5.e-05  5.e-05 -5.e-05\n",
      "  5.e-05 -5.e-05 -5.e-05 -5.e-05  5.e-05 -5.e-05 -5.e-05  5.e-05  5.e-05\n",
      " -5.e-05  5.e-05  5.e-05 -5.e-05  5.e-05  5.e-05 -5.e-05 -5.e-05 -5.e-05\n",
      "  5.e-05  5.e-05 -5.e-05  5.e-05  5.e-05 -5.e-05  5.e-05 -5.e-05  5.e-05\n",
      " -5.e-05  5.e-05  5.e-05  5.e-05 -5.e-05 -5.e-05  5.e-05  5.e-05 -5.e-05\n",
      " -5.e-05  5.e-05  5.e-05 -5.e-05  5.e-05 -5.e-05  5.e-05 -5.e-05 -5.e-05\n",
      "  5.e-05  5.e-05  5.e-05  5.e-05 -5.e-05  5.e-05 -5.e-05  5.e-05 -5.e-05\n",
      " -5.e-05  5.e-05  5.e-05  5.e-05  5.e-05  5.e-05 -5.e-05  5.e-05 -5.e-05\n",
      "  5.e-05 -5.e-05  5.e-05  5.e-05  5.e-05 -5.e-05  5.e-05 -5.e-05 -5.e-05\n",
      " -5.e-05  5.e-05  5.e-05  5.e-05 -5.e-05  5.e-05  5.e-05 -5.e-05 -5.e-05\n",
      "  5.e-05]\n"
     ]
    }
   ],
   "source": [
    "print(new_o-start_o[0])"
   ]
  },
  {
   "cell_type": "code",
   "execution_count": 23,
   "metadata": {},
   "outputs": [
    {
     "data": {
      "image/png": "[encoded data removed]",
      "text/plain": [
       "<Figure size 360x720 with 1 Axes>"
      ]
     },
     "metadata": {
      "needs_background": "light"
     },
     "output_type": "display_data"
    }
   ],
   "source": [
    "plt.figure(figsize=(5,10))\n",
    "plt.scatter(start_o[0],start_o[1],c='b',label='starting optic')\n",
    "plt.scatter(start_o[0],-1*start_o[1],c='b')\n",
    "\n",
    "plt.scatter(new_o,start_o[1],c='r',label='step 1')\n",
    "plt.scatter(new_o,-1*start_o[1],c='r')\n",
    "plt.xlabel('z(m)')\n",
    "plt.ylabel('r(m)')\n",
    "plt.legend()\n",
    "plt.savefig('step_1')\n",
    "plt.show()"
   ]
  },
  {
   "cell_type": "code",
   "execution_count": 23,
   "metadata": {},
   "outputs": [],
   "source": [
    "def gradient_descent(epsilon,dz,start_k,alpha,thick,roc,exp_f,learn_rate,n_iter=1000,tol=1e-12,No=100,Nr=1000,plt=False,title=None):\n",
    "    start_o=create_starting_optic(thick,roc,k=start_k,N=No)\n",
    "    o_r=start_o[1]\n",
    "    os=[start_o[0]]\n",
    "    h0,rm0,af0=run_raytrace(start_o,exp_f,Nr)\n",
    "    cost=[cost_function_new(af0)]\n",
    "    n=0\n",
    "    if plt:\n",
    "        plot(start_o,rm0,exp_f,title+\"_%d\"%(n),savefig=True)\n",
    "\n",
    "    diff=1e6\n",
    "    dzs=np.ones(No)*dz\n",
    "    print('Step: %d\\t Cost: %f'%(n,cost[0]))\n",
    "    print(h0)\n",
    "    o=start_o[0]\n",
    "    while(n<n_iter and abs(diff)>tol):\n",
    "        start_time=time.time()\n",
    "        n+=1\n",
    "        signs=np.random.choice([-1,1],No)\n",
    "        o=o+signs*dz #move each point in the optic randomly by dz except for the point at origin\n",
    "        os.append(o)\n",
    "        h,rm,af=run_raytrace([o,o_r],exp_f,Nr)\n",
    "        c=cost_function_new(af)\n",
    "        cost.append(c)\n",
    "        if plt:\n",
    "            plot([o,o_r],rm,exp_f,title+\"_%d\"%(n),savefig=True)\n",
    "        #parallel component`c`\n",
    "        for i in range(len(dzs)):\n",
    "            step_size=learn_rate*signs[i]*grad(i,epsilon,[o,o_r],signs,alpha,exp_f,Nr)\n",
    "            dzs[i]=dzs[i]+step_size\n",
    "        diff=np.sum(dz*dz)\n",
    "        print('Step: %d\\t Cost: %f \\t diff: %E \\t time: %s'%(n,c,diff,time.time()-start_time))\n",
    "        print(h)\n",
    "    return os,cost"
   ]
  },
  {
   "cell_type": "code",
   "execution_count": 26,
   "metadata": {},
   "outputs": [
    {
     "name": "stdout",
     "output_type": "stream",
     "text": [
      "Step: 0\t Cost: 0.045000\n",
      "[ 0  0  3 17  0  0  0]\n",
      "Step: 1\t Cost: 2.175000 \t diff: 1.000000E-10\n",
      "[0 1 2 0 1 0 0]\n",
      "Step: 2\t Cost: 0.950000 \t diff: 1.000000E-10\n",
      "[0 0 0 1 0 0 0]\n",
      "Step: 3\t Cost: 0.900000 \t diff: 1.000000E-10\n",
      "[0 0 0 2 0 0 0]\n",
      "Step: 4\t Cost: 2.950000 \t diff: 1.000000E-10\n",
      "[0 0 0 0 1 0 0]\n",
      "Step: 5\t Cost: 1.516667 \t diff: 1.000000E-10\n",
      "[1 0 0 1 0 0 1]\n",
      "Step: 6\t Cost: 2.950000 \t diff: 1.000000E-10\n",
      "[0 0 1 0 0 0 0]\n",
      "Step: 7\t Cost: 0.950000 \t diff: 1.000000E-10\n",
      "[0 0 0 1 0 0 0]\n",
      "Step: 8\t Cost: 2.950000 \t diff: 1.000000E-10\n",
      "[0 0 0 0 1 0 0]\n",
      "Step: 9\t Cost: 2.950000 \t diff: 1.000000E-10\n",
      "[0 0 0 0 1 0 0]\n",
      "Step: 10\t Cost: 2.400000 \t diff: 1.000000E-10\n",
      "[1 0 0 0 0 1 0]\n",
      "Step: 11\t Cost: 2.950000 \t diff: 1.000000E-10\n",
      "[0 0 0 0 0 1 0]\n",
      "Step: 12\t Cost: 0.950000 \t diff: 1.000000E-10\n",
      "[0 0 0 1 0 0 0]\n",
      "Step: 13\t Cost: 2.950000 \t diff: 1.000000E-10\n",
      "[0 0 0 0 0 1 0]\n",
      "Step: 14\t Cost: 2.000000 \t diff: 1.000000E-10\n",
      "[0 0 0 0 0 0 0]\n",
      "Step: 15\t Cost: 2.000000 \t diff: 1.000000E-10\n",
      "[0 0 0 0 0 0 0]\n",
      "Step: 16\t Cost: 2.000000 \t diff: 1.000000E-10\n",
      "[0 0 0 0 0 0 0]\n",
      "Step: 17\t Cost: 2.000000 \t diff: 1.000000E-10\n",
      "[0 0 0 0 0 0 0]\n",
      "Step: 18\t Cost: 2.950000 \t diff: 1.000000E-10\n",
      "[0 0 1 0 0 0 0]\n",
      "Step: 19\t Cost: 2.950000 \t diff: 1.000000E-10\n",
      "[1 0 0 0 0 0 0]\n",
      "Step: 20\t Cost: 2.000000 \t diff: 1.000000E-10\n",
      "[0 0 0 0 0 0 0]\n",
      "Step: 21\t Cost: 2.000000 \t diff: 1.000000E-10\n",
      "[0 0 0 0 0 0 0]\n",
      "Step: 22\t Cost: 2.000000 \t diff: 1.000000E-10\n",
      "[0 0 0 0 0 0 0]\n",
      "Step: 23\t Cost: 2.000000 \t diff: 1.000000E-10\n",
      "[0 0 0 0 0 0 0]\n",
      "Step: 24\t Cost: 2.400000 \t diff: 1.000000E-10\n",
      "[0 0 1 0 0 0 1]\n",
      "Step: 25\t Cost: 1.400000 \t diff: 1.000000E-10\n",
      "[0 0 0 1 0 0 1]\n",
      "Step: 26\t Cost: 2.000000 \t diff: 1.000000E-10\n",
      "[0 0 0 0 0 0 0]\n",
      "Step: 27\t Cost: 2.000000 \t diff: 1.000000E-10\n",
      "[0 0 0 0 0 0 0]\n",
      "Step: 28\t Cost: 2.000000 \t diff: 1.000000E-10\n",
      "[0 0 0 0 0 0 0]\n",
      "Step: 29\t Cost: 2.000000 \t diff: 1.000000E-10\n",
      "[0 0 0 0 0 0 0]\n",
      "Step: 30\t Cost: 0.950000 \t diff: 1.000000E-10\n",
      "[0 0 0 1 0 0 0]\n",
      "Step: 31\t Cost: 2.000000 \t diff: 1.000000E-10\n",
      "[0 0 0 0 0 0 0]\n",
      "Step: 32\t Cost: 0.950000 \t diff: 1.000000E-10\n",
      "[0 0 0 1 0 0 0]\n",
      "Step: 33\t Cost: 2.000000 \t diff: 1.000000E-10\n",
      "[0 0 0 0 0 0 0]\n",
      "Step: 34\t Cost: 2.000000 \t diff: 1.000000E-10\n",
      "[0 0 0 0 0 0 0]\n",
      "Step: 35\t Cost: 2.950000 \t diff: 1.000000E-10\n",
      "[0 0 0 0 0 1 0]\n",
      "Step: 36\t Cost: 2.000000 \t diff: 1.000000E-10\n",
      "[0 0 0 0 0 0 0]\n",
      "Step: 37\t Cost: 2.000000 \t diff: 1.000000E-10\n",
      "[0 0 0 0 0 0 0]\n",
      "Step: 38\t Cost: 2.000000 \t diff: 1.000000E-10\n",
      "[0 0 0 0 0 0 0]\n",
      "Step: 39\t Cost: 2.000000 \t diff: 1.000000E-10\n",
      "[0 0 0 0 0 0 0]\n",
      "Step: 40\t Cost: 2.000000 \t diff: 1.000000E-10\n",
      "[0 0 0 0 0 0 0]\n",
      "Step: 41\t Cost: 2.000000 \t diff: 1.000000E-10\n",
      "[0 0 0 0 0 0 0]\n",
      "Step: 42\t Cost: 2.000000 \t diff: 1.000000E-10\n",
      "[0 0 0 0 0 0 0]\n",
      "Step: 43\t Cost: 2.000000 \t diff: 1.000000E-10\n",
      "[0 0 0 0 0 0 0]\n",
      "Step: 44\t Cost: 2.000000 \t diff: 1.000000E-10\n",
      "[0 0 0 0 0 0 0]\n",
      "Step: 45\t Cost: 2.000000 \t diff: 1.000000E-10\n",
      "[0 0 0 0 0 0 0]\n",
      "Step: 46\t Cost: 0.950000 \t diff: 1.000000E-10\n",
      "[0 0 0 1 0 0 0]\n",
      "Step: 47\t Cost: 2.000000 \t diff: 1.000000E-10\n",
      "[0 0 0 0 0 0 0]\n",
      "Step: 48\t Cost: 2.000000 \t diff: 1.000000E-10\n",
      "[0 0 0 0 0 0 0]\n",
      "Step: 49\t Cost: 2.000000 \t diff: 1.000000E-10\n",
      "[0 0 0 0 0 0 0]\n",
      "Step: 50\t Cost: 2.950000 \t diff: 1.000000E-10\n",
      "[0 0 0 0 0 1 0]\n",
      "Step: 51\t Cost: 2.000000 \t diff: 1.000000E-10\n",
      "[0 0 0 0 0 0 0]\n",
      "Step: 52\t Cost: 2.950000 \t diff: 1.000000E-10\n",
      "[0 0 0 0 0 1 0]\n",
      "Step: 53\t Cost: 2.000000 \t diff: 1.000000E-10\n",
      "[0 0 0 0 0 0 0]\n",
      "Step: 54\t Cost: 2.000000 \t diff: 1.000000E-10\n",
      "[0 0 0 0 0 0 0]\n",
      "Step: 55\t Cost: 2.000000 \t diff: 1.000000E-10\n",
      "[0 0 0 0 0 0 0]\n",
      "Step: 56\t Cost: 2.000000 \t diff: 1.000000E-10\n",
      "[0 0 0 0 0 0 0]\n",
      "Step: 57\t Cost: 2.000000 \t diff: 1.000000E-10\n",
      "[0 0 0 0 0 0 0]\n",
      "Step: 58\t Cost: 2.950000 \t diff: 1.000000E-10\n",
      "[0 1 0 0 0 0 0]\n",
      "Step: 59\t Cost: 0.950000 \t diff: 1.000000E-10\n",
      "[0 0 0 1 0 0 0]\n",
      "Step: 60\t Cost: 2.000000 \t diff: 1.000000E-10\n",
      "[0 0 0 0 0 0 0]\n",
      "Step: 61\t Cost: 2.000000 \t diff: 1.000000E-10\n",
      "[0 0 0 0 0 0 0]\n",
      "Step: 62\t Cost: 2.000000 \t diff: 1.000000E-10\n",
      "[0 0 0 0 0 0 0]\n",
      "Step: 63\t Cost: 2.000000 \t diff: 1.000000E-10\n",
      "[0 0 0 0 0 0 0]\n",
      "Step: 64\t Cost: 2.950000 \t diff: 1.000000E-10\n",
      "[0 0 1 0 0 0 0]\n",
      "Step: 65\t Cost: 2.000000 \t diff: 1.000000E-10\n",
      "[0 0 0 0 0 0 0]\n",
      "Step: 66\t Cost: 2.000000 \t diff: 1.000000E-10\n",
      "[0 0 0 0 0 0 0]\n",
      "Step: 67\t Cost: 2.000000 \t diff: 1.000000E-10\n",
      "[0 0 0 0 0 0 0]\n",
      "Step: 68\t Cost: 2.000000 \t diff: 1.000000E-10\n",
      "[0 0 0 0 0 0 0]\n",
      "Step: 69\t Cost: 2.000000 \t diff: 1.000000E-10\n",
      "[0 0 0 0 0 0 0]\n",
      "Step: 70\t Cost: 2.000000 \t diff: 1.000000E-10\n",
      "[0 0 0 0 0 0 0]\n",
      "Step: 71\t Cost: 2.000000 \t diff: 1.000000E-10\n",
      "[0 0 0 0 0 0 0]\n",
      "Step: 72\t Cost: 2.000000 \t diff: 1.000000E-10\n",
      "[0 0 0 0 0 0 0]\n",
      "Step: 73\t Cost: 2.950000 \t diff: 1.000000E-10\n",
      "[0 0 0 0 0 1 0]\n",
      "Step: 74\t Cost: 2.000000 \t diff: 1.000000E-10\n",
      "[0 0 0 0 0 0 0]\n",
      "Step: 75\t Cost: 2.000000 \t diff: 1.000000E-10\n",
      "[0 0 0 0 0 0 0]\n",
      "Step: 76\t Cost: 2.950000 \t diff: 1.000000E-10\n",
      "[1 0 0 0 0 0 0]\n",
      "Step: 77\t Cost: 2.000000 \t diff: 1.000000E-10\n",
      "[0 0 0 0 0 0 0]\n",
      "Step: 78\t Cost: 2.950000 \t diff: 1.000000E-10\n",
      "[0 1 0 0 0 0 0]\n",
      "Step: 79\t Cost: 2.000000 \t diff: 1.000000E-10\n",
      "[0 0 0 0 0 0 0]\n",
      "Step: 80\t Cost: 2.000000 \t diff: 1.000000E-10\n",
      "[0 0 0 0 0 0 0]\n",
      "Step: 81\t Cost: 2.000000 \t diff: 1.000000E-10\n",
      "[0 0 0 0 0 0 0]\n",
      "Step: 82\t Cost: 2.000000 \t diff: 1.000000E-10\n",
      "[0 0 0 0 0 0 0]\n",
      "Step: 83\t Cost: 2.000000 \t diff: 1.000000E-10\n",
      "[0 0 0 0 0 0 0]\n",
      "Step: 84\t Cost: 2.000000 \t diff: 1.000000E-10\n",
      "[0 0 0 0 0 0 0]\n",
      "Step: 85\t Cost: 2.000000 \t diff: 1.000000E-10\n",
      "[0 0 0 0 0 0 0]\n",
      "Step: 86\t Cost: 2.000000 \t diff: 1.000000E-10\n",
      "[0 0 0 0 0 0 0]\n",
      "Step: 87\t Cost: 2.000000 \t diff: 1.000000E-10\n",
      "[0 0 0 0 0 0 0]\n",
      "Step: 88\t Cost: 2.000000 \t diff: 1.000000E-10\n",
      "[0 0 0 0 0 0 0]\n",
      "Step: 89\t Cost: 2.000000 \t diff: 1.000000E-10\n",
      "[0 0 0 0 0 0 0]\n",
      "Step: 90\t Cost: 2.000000 \t diff: 1.000000E-10\n",
      "[0 0 0 0 0 0 0]\n",
      "Step: 91\t Cost: 2.950000 \t diff: 1.000000E-10\n",
      "[0 0 0 0 1 0 0]\n",
      "Step: 92\t Cost: 0.950000 \t diff: 1.000000E-10\n",
      "[0 0 0 1 0 0 0]\n",
      "Step: 93\t Cost: 0.950000 \t diff: 1.000000E-10\n",
      "[0 0 0 1 0 0 0]\n",
      "Step: 94\t Cost: 2.000000 \t diff: 1.000000E-10\n",
      "[0 0 0 0 0 0 0]\n",
      "Step: 95\t Cost: 2.000000 \t diff: 1.000000E-10\n",
      "[0 0 0 0 0 0 0]\n",
      "Step: 96\t Cost: 2.000000 \t diff: 1.000000E-10\n",
      "[0 0 0 0 0 0 0]\n",
      "Step: 97\t Cost: 2.000000 \t diff: 1.000000E-10\n",
      "[0 0 0 0 0 0 0]\n",
      "Step: 98\t Cost: 2.000000 \t diff: 1.000000E-10\n",
      "[0 0 0 0 0 0 0]\n",
      "Step: 99\t Cost: 2.950000 \t diff: 1.000000E-10\n",
      "[1 0 0 0 0 0 0]\n",
      "Step: 100\t Cost: 2.950000 \t diff: 1.000000E-10\n",
      "[0 0 1 0 0 0 0]\n"
     ]
    }
   ],
   "source": [
    "o,c=gradient_descent(5e-6,1e-5,-0.8,1,0.0064,0.1125,0.05625,1e-4,n_iter=100,Nr=20,plt=True,title='k08_01/step')"
   ]
  },
  {
   "cell_type": "code",
   "execution_count": 31,
   "metadata": {},
   "outputs": [
    {
     "data": {
      "image/png": "[encoded data removed]",
      "text/plain": [
       "<Figure size 720x432 with 1 Axes>"
      ]
     },
     "metadata": {
      "needs_background": "light"
     },
     "output_type": "display_data"
    }
   ],
   "source": [
    "plt.figure(figsize=(10,6))\n",
    "plt.ylabel(\"Cost\")\n",
    "plt.xlabel(\"Iterations\")\n",
    "plt.plot(c)\n",
    "plt.savefig('cost')\n",
    "plt.show()"
   ]
  },
  {
   "cell_type": "markdown",
   "metadata": {},
   "source": [
    "## Vector version of gradient code"
   ]
  },
  {
   "cell_type": "code",
   "execution_count": null,
   "metadata": {},
   "outputs": [],
   "source": []
  },
  {
   "cell_type": "code",
   "execution_count": null,
   "metadata": {},
   "outputs": [],
   "source": [
    "a=np.linspace(1,10,10)\n",
    "print(a)\n",
    "s=np.random.choice([-1,1],len(a))\n",
    "print(s)\n",
    "print(np.repeat([a],len(a),axis=0)+np.multiply(np.identity(len(a)),s))"
   ]
  },
  {
   "cell_type": "code",
   "execution_count": null,
   "metadata": {},
   "outputs": [],
   "source": [
    "def grad_new(epsilon,optic,signs,alpha,exp_f,Nr):\n",
    "    o=optic[0]\n",
    "    o_r=optic[1]\n",
    "    o_matrix=np.repeat([o],len(o),axis=0)\n",
    "    i=np.identity(len(o))\n",
    "    o_plus=o_matrix+np.multiply(i,signs)*epsilon\n",
    "    o_minus=o_plus-i*2*epsilon\n",
    "    h1=run_raytrace([o_plus,o_r],exp_f,Nr)\n",
    "    h2=run_raytrace([o_minus,o_r],exp_f,Nr)\n",
    "\n",
    "    c1=cost_function(h1,alpha,Nr)\n",
    "    c2=cost_function(h2,alpha,Nr)\n",
    "    return (c1-c2)"
   ]
  },
  {
   "cell_type": "code",
   "execution_count": null,
   "metadata": {},
   "outputs": [],
   "source": [
    "def gradient_descent_new(epsilon,dr,start_k,alpha,thick,roc,exp_f,learn_rate,n_iter=1000,tol=1e-9,No=100,Nr=1000):\n",
    "    o=create_starting_optic(thick,roc,k=start_k,N=No)\n",
    "    o_z=o[0]\n",
    "    os=[o[1]]\n",
    "    h1=run_raytrace(o,exp_f,Nr)\n",
    "    cost=[cost_function(h1,alpha,Nr)]\n",
    "    n=0\n",
    "    diff=1e6\n",
    "    drs=np.ones(No)*dr\n",
    "    o=o[1]\n",
    "    while(n<n_iter and abs(diff)>tol):\n",
    "        signs=np.random.choice([-1,1],No)\n",
    "        print(o_r)\n",
    "        o=o+signs*dr #move each point in the optic randomly by dz except for the point at origin\n",
    "        os.append(o)\n",
    "        c=cost_function(run_raytrace([o_z,o],exp_f,Nr),alpha,Nr)\n",
    "        cost.append(c)\n",
    "        print(o_r)\n",
    "        print('Step: %d\\t Cost: %f'%(n,c))\n",
    "        step_size=learn_rate*signs*grad_new(epsilon,[o_z,o],signs,alpha,exp_f,Nr)\n",
    "        drs=drs+step_size\n",
    "        diff=np.sum(dr*dr)\n",
    "        n+=1\n",
    "    return os,cost"
   ]
  }
 ],
 "metadata": {
  "kernelspec": {
   "display_name": "Python 3",
   "language": "python",
   "name": "python3"
  },
  "language_info": {
   "codemirror_mode": {
    "name": "ipython",
    "version": 3
   },
   "file_extension": ".py",
   "mimetype": "text/x-python",
   "name": "python",
   "nbconvert_exporter": "python",
   "pygments_lexer": "ipython3",
   "version": "3.8.5"
  }
 },
 "nbformat": 4,
 "nbformat_minor": 4
}
